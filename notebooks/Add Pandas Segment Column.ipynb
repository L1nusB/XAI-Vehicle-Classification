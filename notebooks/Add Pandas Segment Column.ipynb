{
 "cells": [
  {
   "cell_type": "code",
   "execution_count": 1,
   "id": "ccff1e54",
   "metadata": {},
   "outputs": [],
   "source": [
    "import numpy as np\n",
    "import os\n",
    "import pandas"
   ]
  },
  {
   "cell_type": "code",
   "execution_count": 29,
   "id": "2ef29a6c",
   "metadata": {},
   "outputs": [],
   "source": [
    "def appendPanda(root, colName='segments'):\n",
    "    for file in [p for p in os.listdir(root)]:\n",
    "        path = os.path.join(root, file)\n",
    "        if os.path.isfile(path):\n",
    "            if path[-5:] == '.xlsx':\n",
    "                print(f'Modifying {path}')\n",
    "                df = pandas.read_excel(path, index_col=0)\n",
    "                dfNew = pandas.DataFrame(df.index, columns=[colName])\n",
    "                dfNew[df.columns] = df[df.columns].values\n",
    "                dfNew.to_excel(path)\n",
    "        elif os.path.isdir(path):\n",
    "            appendPanda(path, colName)\n",
    "        else:\n",
    "            raise ValueError()"
   ]
  },
  {
   "cell_type": "code",
   "execution_count": 33,
   "id": "74031913",
   "metadata": {
    "scrolled": true
   },
   "outputs": [
    {
     "name": "stdout",
     "output_type": "stream",
     "text": [
      "Modifying G:/results/CompCars_Web\\ResNet\\Data_Full_EigenCAM_ResNet_CompCars_Web_ocrnet_hr48_carparts_noflip_23_08_2022.xlsx\n",
      "Modifying G:/results/CompCars_Web\\ResNet\\Data_Full_EigenGradCAM_ResNet_CompCars_Web_ocrnet_hr48_carparts_noflip_23_08_2022.xlsx\n",
      "Modifying G:/results/CompCars_Web\\ResNet\\Data_Full_gradCAM++_ResNet_CompCars_Web_ocrnet_hr48_carparts_noflip_23_08_2022.xlsx\n",
      "Modifying G:/results/CompCars_Web\\ResNet\\Data_Full_gradCAM_ResNet_CompCars_Web_ocrnet_hr48_carparts_noflip_23_08_2022.xlsx\n",
      "Modifying G:/results/CompCars_Web\\ResNet\\Data_Full_LayerCAM_ResNet_CompCars_Web_ocrnet_hr48_carparts_noflip_23_08_2022.xlsx\n",
      "Modifying G:/results/CompCars_Web\\ResNet\\Data_Full_XGradCAM_ResNet_CompCars_Web_ocrnet_hr48_carparts_noflip_23_08_2022.xlsx\n",
      "Modifying G:/results/CompCars_Web\\ResNet\\meanStdTotal\\Data_Full_EigenCAM_ResNet_CompCars_Web_ocrnet_hr48_carparts_noflip_Mean_Std_Total_23_08_2022.xlsx\n",
      "Modifying G:/results/CompCars_Web\\ResNet\\meanStdTotal\\Data_Full_EigenGradCAM_ResNet_CompCars_Web_ocrnet_hr48_carparts_noflip_Mean_Std_Total_23_08_2022.xlsx\n",
      "Modifying G:/results/CompCars_Web\\ResNet\\meanStdTotal\\Data_Full_gradCAM++_ResNet_CompCars_Web_ocrnet_hr48_carparts_noflip_Mean_Std_Total_23_08_2022.xlsx\n",
      "Modifying G:/results/CompCars_Web\\ResNet\\meanStdTotal\\Data_Full_gradCAM_ResNet_CompCars_Web_ocrnet_hr48_carparts_noflip_Mean_Std_Total_23_08_2022.xlsx\n",
      "Modifying G:/results/CompCars_Web\\ResNet\\meanStdTotal\\Data_Full_LayerCAM_ResNet_CompCars_Web_ocrnet_hr48_carparts_noflip_Mean_Std_Total_23_08_2022.xlsx\n",
      "Modifying G:/results/CompCars_Web\\ResNet\\meanStdTotal\\Data_Full_XGradCAM_ResNet_CompCars_Web_ocrnet_hr48_carparts_noflip_Mean_Std_Total_23_08_2022.xlsx\n",
      "Modifying G:/results/CompCars_Web\\ResNet\\normalized\\Data_Full_EigenCAM_ResNet_CompCars_Web_ocrnet_hr48_carparts_noflip_normalized_PropArea_23_08_2022.xlsx\n",
      "Modifying G:/results/CompCars_Web\\ResNet\\normalized\\Data_Full_EigenGradCAM_ResNet_CompCars_Web_ocrnet_hr48_carparts_noflip_normalized_PropArea_23_08_2022.xlsx\n",
      "Modifying G:/results/CompCars_Web\\ResNet\\normalized\\Data_Full_gradCAM++_ResNet_CompCars_Web_ocrnet_hr48_carparts_noflip_normalized_PropArea_23_08_2022.xlsx\n",
      "Modifying G:/results/CompCars_Web\\ResNet\\normalized\\Data_Full_gradCAM_ResNet_CompCars_Web_ocrnet_hr48_carparts_noflip_normalized_PropArea_23_08_2022.xlsx\n",
      "Modifying G:/results/CompCars_Web\\ResNet\\normalized\\Data_Full_LayerCAM_ResNet_CompCars_Web_ocrnet_hr48_carparts_noflip_normalized_PropArea_23_08_2022.xlsx\n",
      "Modifying G:/results/CompCars_Web\\ResNet\\normalized\\Data_Full_XGradCAM_ResNet_CompCars_Web_ocrnet_hr48_carparts_noflip_normalized_PropArea_23_08_2022.xlsx\n",
      "Modifying G:/results/CompCars_Web\\ResNet\\statsProp\\Data_Full_EigenCAM_ResNet_CompCars_Web_ocrnet_hr48_carparts_noflip_ShowPropArea_23_08_2022.xlsx\n",
      "Modifying G:/results/CompCars_Web\\ResNet\\statsProp\\Data_Full_EigenGradCAM_ResNet_CompCars_Web_ocrnet_hr48_carparts_noflip_ShowPropArea_23_08_2022.xlsx\n",
      "Modifying G:/results/CompCars_Web\\ResNet\\statsProp\\Data_Full_gradCAM++_ResNet_CompCars_Web_ocrnet_hr48_carparts_noflip_ShowPropArea_23_08_2022.xlsx\n",
      "Modifying G:/results/CompCars_Web\\ResNet\\statsProp\\Data_Full_gradCAM_ResNet_CompCars_Web_ocrnet_hr48_carparts_noflip_ShowPropArea_23_08_2022.xlsx\n",
      "Modifying G:/results/CompCars_Web\\ResNet\\statsProp\\Data_Full_LayerCAM_ResNet_CompCars_Web_ocrnet_hr48_carparts_noflip_ShowPropArea_23_08_2022.xlsx\n",
      "Modifying G:/results/CompCars_Web\\ResNet\\statsProp\\Data_Full_XGradCAM_ResNet_CompCars_Web_ocrnet_hr48_carparts_noflip_ShowPropArea_23_08_2022.xlsx\n",
      "Modifying G:/results/CompCars_Web\\ResNet\\wronglyClassifications\\Data_Full_EigenCAM_ResNet_CompCars_Web_ocrnet_hr48_carparts_noflip_wrongClassified_22_08_2022.xlsx\n",
      "Modifying G:/results/CompCars_Web\\ResNet\\wronglyClassifications\\Data_Full_EigenGradCAM_ResNet_CompCars_Web_ocrnet_hr48_carparts_noflip_wrongClassified_22_08_2022.xlsx\n",
      "Modifying G:/results/CompCars_Web\\ResNet\\wronglyClassifications\\Data_Full_gradCAM++_ResNet_CompCars_Web_ocrnet_hr48_carparts_noflip_wrongClassified_22_08_2022.xlsx\n",
      "Modifying G:/results/CompCars_Web\\ResNet\\wronglyClassifications\\Data_Full_gradCAM_ResNet_CompCars_Web_ocrnet_hr48_carparts_noflip_wrongClassified_22_08_2022.xlsx\n",
      "Modifying G:/results/CompCars_Web\\ResNet\\wronglyClassifications\\Data_Full_LayerCAM_ResNet_CompCars_Web_ocrnet_hr48_carparts_noflip_wrongClassified_22_08_2022.xlsx\n",
      "Modifying G:/results/CompCars_Web\\ResNet\\wronglyClassifications\\Data_Full_XGradCAM_ResNet_CompCars_Web_ocrnet_hr48_carparts_noflip_wrongClassified_22_08_2022.xlsx\n",
      "Modifying G:/results/CompCars_Web\\SwinBase\\Data_Full_EigenCAM_SwinBase_CompCars_Web_ocrnet_hr48_carparts_noflip_23_08_2022.xlsx\n",
      "Modifying G:/results/CompCars_Web\\SwinBase\\Data_Full_EigenGradCAM_SwinBase_CompCars_Web_ocrnet_hr48_carparts_noflip_23_08_2022.xlsx\n",
      "Modifying G:/results/CompCars_Web\\SwinBase\\Data_Full_gradCAM++_SwinBase_CompCars_Web_ocrnet_hr48_carparts_noflip_23_08_2022.xlsx\n",
      "Modifying G:/results/CompCars_Web\\SwinBase\\Data_Full_gradCAM_SwinBase_CompCars_Web_ocrnet_hr48_carparts_noflip_23_08_2022.xlsx\n",
      "Modifying G:/results/CompCars_Web\\SwinBase\\Data_Full_LayerCAM_SwinBase_CompCars_Web_ocrnet_hr48_carparts_noflip_23_08_2022.xlsx\n",
      "Modifying G:/results/CompCars_Web\\SwinBase\\Data_Full_XGradCAM_SwinBase_CompCars_Web_ocrnet_hr48_carparts_noflip_23_08_2022.xlsx\n",
      "Modifying G:/results/CompCars_Web\\SwinBase\\meanStdTotal\\Data_Full_EigenCAM_SwinBase_CompCars_Web_ocrnet_hr48_carparts_noflip_Mean_Std_Total_23_08_2022.xlsx\n",
      "Modifying G:/results/CompCars_Web\\SwinBase\\meanStdTotal\\Data_Full_EigenGradCAM_SwinBase_CompCars_Web_ocrnet_hr48_carparts_noflip_Mean_Std_Total_23_08_2022.xlsx\n",
      "Modifying G:/results/CompCars_Web\\SwinBase\\meanStdTotal\\Data_Full_gradCAM++_SwinBase_CompCars_Web_ocrnet_hr48_carparts_noflip_Mean_Std_Total_23_08_2022.xlsx\n",
      "Modifying G:/results/CompCars_Web\\SwinBase\\meanStdTotal\\Data_Full_gradCAM_SwinBase_CompCars_Web_ocrnet_hr48_carparts_noflip_Mean_Std_Total_23_08_2022.xlsx\n",
      "Modifying G:/results/CompCars_Web\\SwinBase\\meanStdTotal\\Data_Full_LayerCAM_SwinBase_CompCars_Web_ocrnet_hr48_carparts_noflip_Mean_Std_Total_23_08_2022.xlsx\n",
      "Modifying G:/results/CompCars_Web\\SwinBase\\meanStdTotal\\Data_Full_XGradCAM_SwinBase_CompCars_Web_ocrnet_hr48_carparts_noflip_Mean_Std_Total_23_08_2022.xlsx\n",
      "Modifying G:/results/CompCars_Web\\SwinBase\\normalized\\Data_Full_EigenCAM_SwinBase_CompCars_Web_ocrnet_hr48_carparts_noflip_normalized_PropArea_23_08_2022.xlsx\n",
      "Modifying G:/results/CompCars_Web\\SwinBase\\normalized\\Data_Full_EigenGradCAM_SwinBase_CompCars_Web_ocrnet_hr48_carparts_noflip_normalized_PropArea_23_08_2022.xlsx\n",
      "Modifying G:/results/CompCars_Web\\SwinBase\\normalized\\Data_Full_gradCAM++_SwinBase_CompCars_Web_ocrnet_hr48_carparts_noflip_normalized_PropArea_23_08_2022.xlsx\n",
      "Modifying G:/results/CompCars_Web\\SwinBase\\normalized\\Data_Full_gradCAM_SwinBase_CompCars_Web_ocrnet_hr48_carparts_noflip_normalized_PropArea_23_08_2022.xlsx\n",
      "Modifying G:/results/CompCars_Web\\SwinBase\\normalized\\Data_Full_LayerCAM_SwinBase_CompCars_Web_ocrnet_hr48_carparts_noflip_normalized_PropArea_23_08_2022.xlsx\n",
      "Modifying G:/results/CompCars_Web\\SwinBase\\normalized\\Data_Full_XGradCAM_SwinBase_CompCars_Web_ocrnet_hr48_carparts_noflip_normalized_PropArea_23_08_2022.xlsx\n",
      "Modifying G:/results/CompCars_Web\\SwinBase\\statsProp\\Data_Full_EigenCAM_SwinBase_CompCars_Web_ocrnet_hr48_carparts_noflip_ShowPropArea_23_08_2022.xlsx\n",
      "Modifying G:/results/CompCars_Web\\SwinBase\\statsProp\\Data_Full_EigenGradCAM_SwinBase_CompCars_Web_ocrnet_hr48_carparts_noflip_ShowPropArea_23_08_2022.xlsx\n",
      "Modifying G:/results/CompCars_Web\\SwinBase\\statsProp\\Data_Full_gradCAM++_SwinBase_CompCars_Web_ocrnet_hr48_carparts_noflip_ShowPropArea_23_08_2022.xlsx\n",
      "Modifying G:/results/CompCars_Web\\SwinBase\\statsProp\\Data_Full_gradCAM_SwinBase_CompCars_Web_ocrnet_hr48_carparts_noflip_ShowPropArea_23_08_2022.xlsx\n",
      "Modifying G:/results/CompCars_Web\\SwinBase\\statsProp\\Data_Full_LayerCAM_SwinBase_CompCars_Web_ocrnet_hr48_carparts_noflip_ShowPropArea_23_08_2022.xlsx\n",
      "Modifying G:/results/CompCars_Web\\SwinBase\\statsProp\\Data_Full_XGradCAM_SwinBase_CompCars_Web_ocrnet_hr48_carparts_noflip_ShowPropArea_23_08_2022.xlsx\n",
      "Modifying G:/results/CompCars_Web\\SwinBase\\wronglyClassifications\\Data_Full_EigenCAM_SwinBase_CompCars_Web_ocrnet_hr48_carparts_noflip_wrongClassified_22_08_2022.xlsx\n",
      "Modifying G:/results/CompCars_Web\\SwinBase\\wronglyClassifications\\Data_Full_EigenGradCAM_SwinBase_CompCars_Web_ocrnet_hr48_carparts_noflip_wrongClassified_22_08_2022.xlsx\n",
      "Modifying G:/results/CompCars_Web\\SwinBase\\wronglyClassifications\\Data_Full_gradCAM++_SwinBase_CompCars_Web_ocrnet_hr48_carparts_noflip_wrongClassified_22_08_2022.xlsx\n"
     ]
    },
    {
     "name": "stdout",
     "output_type": "stream",
     "text": [
      "Modifying G:/results/CompCars_Web\\SwinBase\\wronglyClassifications\\Data_Full_gradCAM_SwinBase_CompCars_Web_ocrnet_hr48_carparts_noflip_wrongClassified_22_08_2022.xlsx\n",
      "Modifying G:/results/CompCars_Web\\SwinBase\\wronglyClassifications\\Data_Full_LayerCAM_SwinBase_CompCars_Web_ocrnet_hr48_carparts_noflip_wrongClassified_22_08_2022.xlsx\n",
      "Modifying G:/results/CompCars_Web\\SwinBase\\wronglyClassifications\\Data_Full_XGradCAM_SwinBase_CompCars_Web_ocrnet_hr48_carparts_noflip_wrongClassified_22_08_2022.xlsx\n",
      "Modifying G:/results/CompCars_Web\\SwinSmall\\Data_Full_EigenCAM_SwinSmall_CompCars_Web_ocrnet_hr48_carparts_noflip_23_08_2022.xlsx\n",
      "Modifying G:/results/CompCars_Web\\SwinSmall\\Data_Full_EigenGradCAM_SwinSmall_CompCars_Web_ocrnet_hr48_carparts_noflip_23_08_2022.xlsx\n",
      "Modifying G:/results/CompCars_Web\\SwinSmall\\Data_Full_gradCAM++_SwinSmall_CompCars_Web_ocrnet_hr48_carparts_noflip_23_08_2022.xlsx\n",
      "Modifying G:/results/CompCars_Web\\SwinSmall\\Data_Full_gradCAM_SwinSmall_CompCars_Web_ocrnet_hr48_carparts_noflip_23_08_2022.xlsx\n",
      "Modifying G:/results/CompCars_Web\\SwinSmall\\Data_Full_LayerCAM_SwinSmall_CompCars_Web_ocrnet_hr48_carparts_noflip_23_08_2022.xlsx\n",
      "Modifying G:/results/CompCars_Web\\SwinSmall\\Data_Full_XGradCAM_SwinSmall_CompCars_Web_ocrnet_hr48_carparts_noflip_23_08_2022.xlsx\n",
      "Modifying G:/results/CompCars_Web\\SwinSmall\\meanStdTotal\\Data_Full_EigenCAM_SwinSmall_CompCars_Web_ocrnet_hr48_carparts_noflip_Mean_Std_Total_23_08_2022.xlsx\n",
      "Modifying G:/results/CompCars_Web\\SwinSmall\\meanStdTotal\\Data_Full_EigenGradCAM_SwinSmall_CompCars_Web_ocrnet_hr48_carparts_noflip_Mean_Std_Total_23_08_2022.xlsx\n",
      "Modifying G:/results/CompCars_Web\\SwinSmall\\meanStdTotal\\Data_Full_gradCAM++_SwinSmall_CompCars_Web_ocrnet_hr48_carparts_noflip_Mean_Std_Total_23_08_2022.xlsx\n",
      "Modifying G:/results/CompCars_Web\\SwinSmall\\meanStdTotal\\Data_Full_gradCAM_SwinSmall_CompCars_Web_ocrnet_hr48_carparts_noflip_Mean_Std_Total_23_08_2022.xlsx\n",
      "Modifying G:/results/CompCars_Web\\SwinSmall\\meanStdTotal\\Data_Full_LayerCAM_SwinSmall_CompCars_Web_ocrnet_hr48_carparts_noflip_Mean_Std_Total_23_08_2022.xlsx\n",
      "Modifying G:/results/CompCars_Web\\SwinSmall\\meanStdTotal\\Data_Full_XGradCAM_SwinSmall_CompCars_Web_ocrnet_hr48_carparts_noflip_Mean_Std_Total_23_08_2022.xlsx\n",
      "Modifying G:/results/CompCars_Web\\SwinSmall\\normalized\\Data_Full_EigenCAM_SwinSmall_CompCars_Web_ocrnet_hr48_carparts_noflip_normalized_PropArea_23_08_2022.xlsx\n",
      "Modifying G:/results/CompCars_Web\\SwinSmall\\normalized\\Data_Full_EigenGradCAM_SwinSmall_CompCars_Web_ocrnet_hr48_carparts_noflip_normalized_PropArea_23_08_2022.xlsx\n",
      "Modifying G:/results/CompCars_Web\\SwinSmall\\normalized\\Data_Full_gradCAM++_SwinSmall_CompCars_Web_ocrnet_hr48_carparts_noflip_normalized_PropArea_23_08_2022.xlsx\n",
      "Modifying G:/results/CompCars_Web\\SwinSmall\\normalized\\Data_Full_gradCAM_SwinSmall_CompCars_Web_ocrnet_hr48_carparts_noflip_normalized_PropArea_23_08_2022.xlsx\n",
      "Modifying G:/results/CompCars_Web\\SwinSmall\\normalized\\Data_Full_LayerCAM_SwinSmall_CompCars_Web_ocrnet_hr48_carparts_noflip_normalized_PropArea_23_08_2022.xlsx\n",
      "Modifying G:/results/CompCars_Web\\SwinSmall\\normalized\\Data_Full_XGradCAM_SwinSmall_CompCars_Web_ocrnet_hr48_carparts_noflip_normalized_PropArea_23_08_2022.xlsx\n",
      "Modifying G:/results/CompCars_Web\\SwinSmall\\statsProp\\Data_Full_EigenCAM_SwinSmall_CompCars_Web_ocrnet_hr48_carparts_noflip_ShowPropArea_23_08_2022.xlsx\n",
      "Modifying G:/results/CompCars_Web\\SwinSmall\\statsProp\\Data_Full_EigenGradCAM_SwinSmall_CompCars_Web_ocrnet_hr48_carparts_noflip_ShowPropArea_23_08_2022.xlsx\n",
      "Modifying G:/results/CompCars_Web\\SwinSmall\\statsProp\\Data_Full_gradCAM++_SwinSmall_CompCars_Web_ocrnet_hr48_carparts_noflip_ShowPropArea_23_08_2022.xlsx\n",
      "Modifying G:/results/CompCars_Web\\SwinSmall\\statsProp\\Data_Full_gradCAM_SwinSmall_CompCars_Web_ocrnet_hr48_carparts_noflip_ShowPropArea_23_08_2022.xlsx\n",
      "Modifying G:/results/CompCars_Web\\SwinSmall\\statsProp\\Data_Full_LayerCAM_SwinSmall_CompCars_Web_ocrnet_hr48_carparts_noflip_ShowPropArea_23_08_2022.xlsx\n",
      "Modifying G:/results/CompCars_Web\\SwinSmall\\statsProp\\Data_Full_XGradCAM_SwinSmall_CompCars_Web_ocrnet_hr48_carparts_noflip_ShowPropArea_23_08_2022.xlsx\n",
      "Modifying G:/results/CompCars_Web\\SwinSmall\\wronglyClassifications\\Data_Full_EigenCAM_SwinSmall_CompCars_Web_ocrnet_hr48_carparts_noflip_wrongClassified_22_08_2022.xlsx\n",
      "Modifying G:/results/CompCars_Web\\SwinSmall\\wronglyClassifications\\Data_Full_EigenGradCAM_SwinSmall_CompCars_Web_ocrnet_hr48_carparts_noflip_wrongClassified_22_08_2022.xlsx\n",
      "Modifying G:/results/CompCars_Web\\SwinSmall\\wronglyClassifications\\Data_Full_gradCAM++_SwinSmall_CompCars_Web_ocrnet_hr48_carparts_noflip_wrongClassified_22_08_2022.xlsx\n",
      "Modifying G:/results/CompCars_Web\\SwinSmall\\wronglyClassifications\\Data_Full_gradCAM_SwinSmall_CompCars_Web_ocrnet_hr48_carparts_noflip_wrongClassified_22_08_2022.xlsx\n",
      "Modifying G:/results/CompCars_Web\\SwinSmall\\wronglyClassifications\\Data_Full_LayerCAM_SwinSmall_CompCars_Web_ocrnet_hr48_carparts_noflip_wrongClassified_22_08_2022.xlsx\n",
      "Modifying G:/results/CompCars_Web\\SwinSmall\\wronglyClassifications\\Data_Full_XGradCAM_SwinSmall_CompCars_Web_ocrnet_hr48_carparts_noflip_wrongClassified_22_08_2022.xlsx\n"
     ]
    }
   ],
   "source": [
    "appendPanda('G:/results/CompCars_Web')"
   ]
  },
  {
   "cell_type": "code",
   "execution_count": null,
   "id": "aa414545",
   "metadata": {},
   "outputs": [],
   "source": []
  }
 ],
 "metadata": {
  "kernelspec": {
   "display_name": "Python 3 (ipykernel)",
   "language": "python",
   "name": "python3"
  },
  "language_info": {
   "codemirror_mode": {
    "name": "ipython",
    "version": 3
   },
   "file_extension": ".py",
   "mimetype": "text/x-python",
   "name": "python",
   "nbconvert_exporter": "python",
   "pygments_lexer": "ipython3",
   "version": "3.10.4"
  }
 },
 "nbformat": 4,
 "nbformat_minor": 5
}
