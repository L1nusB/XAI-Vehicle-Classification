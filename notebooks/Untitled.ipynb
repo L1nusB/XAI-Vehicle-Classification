{
 "cells": [
  {
   "cell_type": "code",
   "execution_count": 20,
   "id": "6293ab3c",
   "metadata": {},
   "outputs": [
    {
     "name": "stdout",
     "output_type": "stream",
     "text": [
      "The autoreload extension is already loaded. To reload it, use:\n",
      "  %reload_ext autoreload\n"
     ]
    }
   ],
   "source": [
    "%load_ext autoreload\n",
    "%autoreload 2\n",
    "\n",
    "import numpy as np\n",
    "import os\n",
    "import mmcv\n",
    "import torch\n",
    "from mmcv import Config\n",
    "import matplotlib.pyplot as plt\n",
    "import matplotlib.image as mpimg\n",
    "import matplotlib.gridspec as gridspec"
   ]
  },
  {
   "cell_type": "code",
   "execution_count": 2,
   "id": "90766d18",
   "metadata": {},
   "outputs": [],
   "source": [
    "configCAM = '../CAMModels/resnet/compCars_Original/resnet50_b128x2_compcars-original-split.py'\n",
    "cfg = Config.fromfile(configCAM)"
   ]
  },
  {
   "cell_type": "code",
   "execution_count": 4,
   "id": "5911ff11",
   "metadata": {},
   "outputs": [
    {
     "data": {
      "text/plain": [
       "{'type': 'CompCars',\n",
       " 'data_prefix': 'data/CompCars_sv_original_split/val',\n",
       " 'ann_file': 'data/CompCars_sv_original_split/meta/val.txt',\n",
       " 'pipeline': [{'type': 'LoadImageFromFile'},\n",
       "  {'type': 'Resize', 'size': (256, -1)},\n",
       "  {'type': 'CenterCrop', 'crop_size': 224},\n",
       "  {'type': 'Normalize',\n",
       "   'mean': [123.675, 116.28, 103.53],\n",
       "   'std': [58.395, 57.12, 57.375],\n",
       "   'to_rgb': True},\n",
       "  {'type': 'ImageToTensor', 'keys': ['img']},\n",
       "  {'type': 'Collect', 'keys': ['img']}]}"
      ]
     },
     "execution_count": 4,
     "metadata": {},
     "output_type": "execute_result"
    }
   ],
   "source": [
    "cfg.data.test"
   ]
  },
  {
   "cell_type": "code",
   "execution_count": 31,
   "id": "07faf13f",
   "metadata": {},
   "outputs": [],
   "source": [
    "a = np.random.rand(3,5,10)\n",
    "i = a <= 0.3\n",
    "b = np.copy(a)\n",
    "b[i] = 0"
   ]
  },
  {
   "cell_type": "code",
   "execution_count": 32,
   "id": "b0ab196f",
   "metadata": {
    "scrolled": true
   },
   "outputs": [
    {
     "data": {
      "text/plain": [
       "array([[[0.37185827, 0.76462865, 0.4307922 , 0.52129781, 0.90677901,\n",
       "         0.1308136 , 0.89102806, 0.91783943, 0.36541535, 0.08829013],\n",
       "        [0.4527965 , 0.18349389, 0.62848587, 0.3794151 , 0.44687261,\n",
       "         0.10237352, 0.10539415, 0.32135222, 0.5952298 , 0.29907406],\n",
       "        [0.41202144, 0.89513119, 0.7420808 , 0.72819878, 0.8778329 ,\n",
       "         0.78521323, 0.66546102, 0.45277554, 0.28962259, 0.81702973],\n",
       "        [0.20770689, 0.11743793, 0.08541892, 0.68808841, 0.41111316,\n",
       "         0.50775082, 0.05161047, 0.80362897, 0.23960035, 0.46100641],\n",
       "        [0.48374921, 0.08740086, 0.69949978, 0.75778382, 0.03854761,\n",
       "         0.00889882, 0.98753314, 0.25635819, 0.86203818, 0.18778676]],\n",
       "\n",
       "       [[0.68791487, 0.46991184, 0.00988849, 0.11646755, 0.95009213,\n",
       "         0.78421666, 0.42238011, 0.60807175, 0.30036339, 0.68614283],\n",
       "        [0.94933333, 0.41986046, 0.89085252, 0.05061708, 0.47103807,\n",
       "         0.90954247, 0.42618682, 0.03199175, 0.83517199, 0.39765098],\n",
       "        [0.68706244, 0.66870235, 0.00685731, 0.80506182, 0.71065632,\n",
       "         0.45393823, 0.44992823, 0.32787292, 0.15693645, 0.14724727],\n",
       "        [0.86096339, 0.47943027, 0.82406223, 0.52570909, 0.34057068,\n",
       "         0.99615439, 0.95402354, 0.93025263, 0.88803874, 0.91714972],\n",
       "        [0.4483959 , 0.71372875, 0.05461259, 0.71865102, 0.47038315,\n",
       "         0.04219812, 0.27082789, 0.03982817, 0.82547078, 0.03270402]],\n",
       "\n",
       "       [[0.40767378, 0.16421826, 0.20646797, 0.49735274, 0.46135429,\n",
       "         0.53276584, 0.15652424, 0.6482239 , 0.50143359, 0.87610306],\n",
       "        [0.50187746, 0.08648188, 0.61999509, 0.90876825, 0.09541244,\n",
       "         0.23680583, 0.81455643, 0.15326704, 0.30763402, 0.90453454],\n",
       "        [0.81272624, 0.6556062 , 0.5053413 , 0.45311322, 0.92651121,\n",
       "         0.38542719, 0.06382946, 0.09156472, 0.77325266, 0.6172471 ],\n",
       "        [0.42305576, 0.21964229, 0.98794432, 0.05203781, 0.14701179,\n",
       "         0.5703813 , 0.49479886, 0.85567964, 0.52810131, 0.23841667],\n",
       "        [0.49090085, 0.43754191, 0.46628187, 0.26476151, 0.05424429,\n",
       "         0.63065714, 0.96082372, 0.24102957, 0.06586969, 0.13537007]]])"
      ]
     },
     "execution_count": 32,
     "metadata": {},
     "output_type": "execute_result"
    }
   ],
   "source": [
    "a"
   ]
  },
  {
   "cell_type": "code",
   "execution_count": 33,
   "id": "cf2d3ac7",
   "metadata": {
    "scrolled": true
   },
   "outputs": [
    {
     "data": {
      "text/plain": [
       "array([[[0.37185827, 0.76462865, 0.4307922 , 0.52129781, 0.90677901,\n",
       "         0.        , 0.89102806, 0.91783943, 0.36541535, 0.        ],\n",
       "        [0.4527965 , 0.        , 0.62848587, 0.3794151 , 0.44687261,\n",
       "         0.        , 0.        , 0.32135222, 0.5952298 , 0.        ],\n",
       "        [0.41202144, 0.89513119, 0.7420808 , 0.72819878, 0.8778329 ,\n",
       "         0.78521323, 0.66546102, 0.45277554, 0.        , 0.81702973],\n",
       "        [0.        , 0.        , 0.        , 0.68808841, 0.41111316,\n",
       "         0.50775082, 0.        , 0.80362897, 0.        , 0.46100641],\n",
       "        [0.48374921, 0.        , 0.69949978, 0.75778382, 0.        ,\n",
       "         0.        , 0.98753314, 0.        , 0.86203818, 0.        ]],\n",
       "\n",
       "       [[0.68791487, 0.46991184, 0.        , 0.        , 0.95009213,\n",
       "         0.78421666, 0.42238011, 0.60807175, 0.30036339, 0.68614283],\n",
       "        [0.94933333, 0.41986046, 0.89085252, 0.        , 0.47103807,\n",
       "         0.90954247, 0.42618682, 0.        , 0.83517199, 0.39765098],\n",
       "        [0.68706244, 0.66870235, 0.        , 0.80506182, 0.71065632,\n",
       "         0.45393823, 0.44992823, 0.32787292, 0.        , 0.        ],\n",
       "        [0.86096339, 0.47943027, 0.82406223, 0.52570909, 0.34057068,\n",
       "         0.99615439, 0.95402354, 0.93025263, 0.88803874, 0.91714972],\n",
       "        [0.4483959 , 0.71372875, 0.        , 0.71865102, 0.47038315,\n",
       "         0.        , 0.        , 0.        , 0.82547078, 0.        ]],\n",
       "\n",
       "       [[0.40767378, 0.        , 0.        , 0.49735274, 0.46135429,\n",
       "         0.53276584, 0.        , 0.6482239 , 0.50143359, 0.87610306],\n",
       "        [0.50187746, 0.        , 0.61999509, 0.90876825, 0.        ,\n",
       "         0.        , 0.81455643, 0.        , 0.30763402, 0.90453454],\n",
       "        [0.81272624, 0.6556062 , 0.5053413 , 0.45311322, 0.92651121,\n",
       "         0.38542719, 0.        , 0.        , 0.77325266, 0.6172471 ],\n",
       "        [0.42305576, 0.        , 0.98794432, 0.        , 0.        ,\n",
       "         0.5703813 , 0.49479886, 0.85567964, 0.52810131, 0.        ],\n",
       "        [0.49090085, 0.43754191, 0.46628187, 0.        , 0.        ,\n",
       "         0.63065714, 0.96082372, 0.        , 0.        , 0.        ]]])"
      ]
     },
     "execution_count": 33,
     "metadata": {},
     "output_type": "execute_result"
    }
   ],
   "source": [
    "b"
   ]
  },
  {
   "cell_type": "code",
   "execution_count": 75,
   "id": "5c7eb159",
   "metadata": {},
   "outputs": [],
   "source": [
    "c = torch.rand(3,5,5)"
   ]
  },
  {
   "cell_type": "code",
   "execution_count": 76,
   "id": "8045ed87",
   "metadata": {},
   "outputs": [
    {
     "data": {
      "text/plain": [
       "tensor([[[0.8690, 0.0161, 0.6682, 0.9861, 0.0021],\n",
       "         [0.6235, 0.2898, 0.0241, 0.2157, 0.5477],\n",
       "         [0.8950, 0.6189, 0.3978, 0.4093, 0.7588],\n",
       "         [0.5049, 0.4341, 0.5237, 0.6691, 0.8020],\n",
       "         [0.5957, 0.0660, 0.7846, 0.2897, 0.1322]],\n",
       "\n",
       "        [[0.9284, 0.2669, 0.6066, 0.5173, 0.9353],\n",
       "         [0.6283, 0.4970, 0.8394, 0.9177, 0.5669],\n",
       "         [0.4467, 0.4414, 0.2630, 0.2332, 0.2946],\n",
       "         [0.5432, 0.2607, 0.1558, 0.8925, 0.3728],\n",
       "         [0.5690, 0.4673, 0.9616, 0.0369, 0.1743]],\n",
       "\n",
       "        [[0.5335, 0.2750, 0.2771, 0.2014, 0.3505],\n",
       "         [0.3916, 0.1711, 0.9827, 0.9704, 0.1586],\n",
       "         [0.1201, 0.7778, 0.8246, 0.9393, 0.6587],\n",
       "         [0.0436, 0.1861, 0.0162, 0.9861, 0.4864],\n",
       "         [0.9151, 0.7858, 0.9623, 0.9134, 0.0597]]])"
      ]
     },
     "execution_count": 76,
     "metadata": {},
     "output_type": "execute_result"
    }
   ],
   "source": [
    "c"
   ]
  },
  {
   "cell_type": "code",
   "execution_count": 55,
   "id": "dfcb5380",
   "metadata": {},
   "outputs": [],
   "source": [
    "c[c<.3] = 0"
   ]
  },
  {
   "cell_type": "code",
   "execution_count": 77,
   "id": "e6406832",
   "metadata": {},
   "outputs": [
    {
     "data": {
      "text/plain": [
       "tensor([[[0.8690, 0.0161, 0.6682, 0.9861, 0.0021],\n",
       "         [0.6235, 0.2898, 0.0241, 0.2157, 0.5477],\n",
       "         [0.8950, 0.6189, 0.3978, 0.4093, 0.7588],\n",
       "         [0.5049, 0.4341, 0.5237, 0.6691, 0.8020],\n",
       "         [0.5957, 0.0660, 0.7846, 0.2897, 0.1322]],\n",
       "\n",
       "        [[0.9284, 0.2669, 0.6066, 0.5173, 0.9353],\n",
       "         [0.6283, 0.4970, 0.8394, 0.9177, 0.5669],\n",
       "         [0.4467, 0.4414, 0.2630, 0.2332, 0.2946],\n",
       "         [0.5432, 0.2607, 0.1558, 0.8925, 0.3728],\n",
       "         [0.5690, 0.4673, 0.9616, 0.0369, 0.1743]],\n",
       "\n",
       "        [[0.5335, 0.2750, 0.2771, 0.2014, 0.3505],\n",
       "         [0.3916, 0.1711, 0.9827, 0.9704, 0.1586],\n",
       "         [0.1201, 0.7778, 0.8246, 0.9393, 0.6587],\n",
       "         [0.0436, 0.1861, 0.0162, 0.9861, 0.4864],\n",
       "         [0.9151, 0.7858, 0.9623, 0.9134, 0.0597]]])"
      ]
     },
     "execution_count": 77,
     "metadata": {},
     "output_type": "execute_result"
    }
   ],
   "source": [
    "c"
   ]
  },
  {
   "cell_type": "code",
   "execution_count": 82,
   "id": "8d9242ac",
   "metadata": {
    "scrolled": true
   },
   "outputs": [
    {
     "data": {
      "text/plain": [
       "tensor([[3, 0, 0, 4, 2],\n",
       "        [4, 3, 0, 3, 2],\n",
       "        [0, 2, 3, 3, 2]])"
      ]
     },
     "execution_count": 82,
     "metadata": {},
     "output_type": "execute_result"
    }
   ],
   "source": [
    "c.argmax(dim=2)"
   ]
  },
  {
   "cell_type": "code",
   "execution_count": 86,
   "id": "942ff93a",
   "metadata": {},
   "outputs": [
    {
     "data": {
      "text/plain": [
       "torch.return_types.max(\n",
       "values=tensor([[0.9861, 0.6235, 0.8950, 0.8020, 0.7846],\n",
       "        [0.9353, 0.9177, 0.4467, 0.8925, 0.9616],\n",
       "        [0.5335, 0.9827, 0.9393, 0.9861, 0.9623]]),\n",
       "indices=tensor([[3, 0, 0, 4, 2],\n",
       "        [4, 3, 0, 3, 2],\n",
       "        [0, 2, 3, 3, 2]]))"
      ]
     },
     "execution_count": 86,
     "metadata": {},
     "output_type": "execute_result"
    }
   ],
   "source": [
    "c.max(dim=2)"
   ]
  },
  {
   "cell_type": "code",
   "execution_count": 87,
   "id": "094cdda2",
   "metadata": {},
   "outputs": [],
   "source": [
    "m = c.max(dim=2)"
   ]
  },
  {
   "cell_type": "code",
   "execution_count": 88,
   "id": "2badd7bd",
   "metadata": {},
   "outputs": [
    {
     "data": {
      "text/plain": [
       "tensor([[0.9861, 0.6235, 0.8950, 0.8020, 0.7846],\n",
       "        [0.9353, 0.9177, 0.4467, 0.8925, 0.9616],\n",
       "        [0.5335, 0.9827, 0.9393, 0.9861, 0.9623]])"
      ]
     },
     "execution_count": 88,
     "metadata": {},
     "output_type": "execute_result"
    }
   ],
   "source": [
    "m.values"
   ]
  },
  {
   "cell_type": "code",
   "execution_count": 89,
   "id": "bed49798",
   "metadata": {},
   "outputs": [
    {
     "data": {
      "text/plain": [
       "tensor([[False,  True, False, False, False],\n",
       "        [False, False,  True, False, False],\n",
       "        [ True, False, False, False, False]])"
      ]
     },
     "execution_count": 89,
     "metadata": {},
     "output_type": "execute_result"
    }
   ],
   "source": [
    "m.values < 0.7"
   ]
  },
  {
   "cell_type": "code",
   "execution_count": 90,
   "id": "2c2fd943",
   "metadata": {},
   "outputs": [],
   "source": [
    "m.indices[m.values < 0.7] = -1"
   ]
  },
  {
   "cell_type": "code",
   "execution_count": 91,
   "id": "51cf2539",
   "metadata": {},
   "outputs": [
    {
     "data": {
      "text/plain": [
       "torch.return_types.max(\n",
       "values=tensor([[0.9861, 0.6235, 0.8950, 0.8020, 0.7846],\n",
       "        [0.9353, 0.9177, 0.4467, 0.8925, 0.9616],\n",
       "        [0.5335, 0.9827, 0.9393, 0.9861, 0.9623]]),\n",
       "indices=tensor([[ 3, -1,  0,  4,  2],\n",
       "        [ 4,  3, -1,  3,  2],\n",
       "        [-1,  2,  3,  3,  2]]))"
      ]
     },
     "execution_count": 91,
     "metadata": {},
     "output_type": "execute_result"
    }
   ],
   "source": [
    "m"
   ]
  },
  {
   "cell_type": "code",
   "execution_count": 100,
   "id": "8df97879",
   "metadata": {},
   "outputs": [],
   "source": [
    "a = ('test','abc','nani')\n",
    "b = ('new')"
   ]
  },
  {
   "cell_type": "code",
   "execution_count": 99,
   "id": "9d6d4b3d",
   "metadata": {},
   "outputs": [
    {
     "data": {
      "text/plain": [
       "('test', 'abc', 'nani')"
      ]
     },
     "execution_count": 99,
     "metadata": {},
     "output_type": "execute_result"
    }
   ],
   "source": [
    "a"
   ]
  },
  {
   "cell_type": "code",
   "execution_count": 95,
   "id": "3f42bade",
   "metadata": {},
   "outputs": [
    {
     "data": {
      "text/plain": [
       "0"
      ]
     },
     "execution_count": 95,
     "metadata": {},
     "output_type": "execute_result"
    }
   ],
   "source": [
    "a.index('test')"
   ]
  },
  {
   "cell_type": "code",
   "execution_count": 103,
   "id": "1a068b05",
   "metadata": {},
   "outputs": [
    {
     "ename": "TypeError",
     "evalue": "can only concatenate tuple (not \"str\") to tuple",
     "output_type": "error",
     "traceback": [
      "\u001b[1;31m---------------------------------------------------------------------------\u001b[0m",
      "\u001b[1;31mTypeError\u001b[0m                                 Traceback (most recent call last)",
      "Input \u001b[1;32mIn [103]\u001b[0m, in \u001b[0;36m<cell line: 1>\u001b[1;34m()\u001b[0m\n\u001b[1;32m----> 1\u001b[0m n \u001b[38;5;241m=\u001b[39m \u001b[43ma\u001b[49m\u001b[43m \u001b[49m\u001b[38;5;241;43m+\u001b[39;49m\u001b[43m \u001b[49m\u001b[43m(\u001b[49m\u001b[43mb\u001b[49m\u001b[43m)\u001b[49m\n",
      "\u001b[1;31mTypeError\u001b[0m: can only concatenate tuple (not \"str\") to tuple"
     ]
    }
   ],
   "source": [
    "n = a + (b)"
   ]
  },
  {
   "cell_type": "code",
   "execution_count": 102,
   "id": "6a762eb8",
   "metadata": {},
   "outputs": [
    {
     "data": {
      "text/plain": [
       "'new'"
      ]
     },
     "execution_count": 102,
     "metadata": {},
     "output_type": "execute_result"
    }
   ],
   "source": [
    "b"
   ]
  },
  {
   "cell_type": "code",
   "execution_count": null,
   "id": "d94c1e2b",
   "metadata": {},
   "outputs": [],
   "source": []
  }
 ],
 "metadata": {
  "kernelspec": {
   "display_name": "Python 3 (ipykernel)",
   "language": "python",
   "name": "python3"
  },
  "language_info": {
   "codemirror_mode": {
    "name": "ipython",
    "version": 3
   },
   "file_extension": ".py",
   "mimetype": "text/x-python",
   "name": "python",
   "nbconvert_exporter": "python",
   "pygments_lexer": "ipython3",
   "version": "3.10.4"
  }
 },
 "nbformat": 4,
 "nbformat_minor": 5
}
