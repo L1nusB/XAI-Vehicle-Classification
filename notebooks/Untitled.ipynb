{
 "cells": [
  {
   "cell_type": "code",
   "execution_count": 1,
   "id": "6293ab3c",
   "metadata": {},
   "outputs": [],
   "source": [
    "%load_ext autoreload\n",
    "%autoreload 2\n",
    "\n",
    "import numpy as np\n",
    "import os\n",
    "import mmcv\n",
    "import torch\n",
    "from mmcv import Config\n",
    "import matplotlib.pyplot as plt\n",
    "import matplotlib.image as mpimg\n",
    "import matplotlib.gridspec as gridspec"
   ]
  },
  {
   "cell_type": "code",
   "execution_count": 2,
   "id": "90766d18",
   "metadata": {},
   "outputs": [],
   "source": [
    "configCAM = '../CAMModels/resnet/compCars_Original/resnet50_b128x2_compcars-original-split.py'\n",
    "cfg = Config.fromfile(configCAM)"
   ]
  },
  {
   "cell_type": "code",
   "execution_count": 4,
   "id": "5911ff11",
   "metadata": {},
   "outputs": [
    {
     "data": {
      "text/plain": [
       "{'type': 'CompCars',\n",
       " 'data_prefix': 'data/CompCars_sv_original_split/val',\n",
       " 'ann_file': 'data/CompCars_sv_original_split/meta/val.txt',\n",
       " 'pipeline': [{'type': 'LoadImageFromFile'},\n",
       "  {'type': 'Resize', 'size': (256, -1)},\n",
       "  {'type': 'CenterCrop', 'crop_size': 224},\n",
       "  {'type': 'Normalize',\n",
       "   'mean': [123.675, 116.28, 103.53],\n",
       "   'std': [58.395, 57.12, 57.375],\n",
       "   'to_rgb': True},\n",
       "  {'type': 'ImageToTensor', 'keys': ['img']},\n",
       "  {'type': 'Collect', 'keys': ['img']}]}"
      ]
     },
     "execution_count": 4,
     "metadata": {},
     "output_type": "execute_result"
    }
   ],
   "source": [
    "cfg.data.test"
   ]
  },
  {
   "cell_type": "code",
   "execution_count": 4,
   "id": "5b220083",
   "metadata": {},
   "outputs": [],
   "source": [
    "def t(**kwargs):\n",
    "    print(kwargs)\n",
    "    \n",
    "def g(test=None,F=None):\n",
    "    print(test)\n",
    "    print(F)\n",
    "    \n",
    "def h(**kwargs):\n",
    "    g(kwargs)"
   ]
  },
  {
   "cell_type": "code",
   "execution_count": 2,
   "id": "b346a3c6",
   "metadata": {},
   "outputs": [
    {
     "name": "stdout",
     "output_type": "stream",
     "text": [
      "{'test': 'test'}\n"
     ]
    }
   ],
   "source": [
    "t(test='test')"
   ]
  },
  {
   "cell_type": "code",
   "execution_count": 5,
   "id": "bec9d325",
   "metadata": {},
   "outputs": [
    {
     "name": "stdout",
     "output_type": "stream",
     "text": [
      "{'test': 'test'}\n",
      "None\n"
     ]
    }
   ],
   "source": [
    "h(test='test')"
   ]
  },
  {
   "cell_type": "code",
   "execution_count": 9,
   "id": "c1ae0b28",
   "metadata": {},
   "outputs": [],
   "source": [
    "a = np.random.randint(0,10,(1,2,4))"
   ]
  },
  {
   "cell_type": "code",
   "execution_count": 10,
   "id": "17029826",
   "metadata": {},
   "outputs": [
    {
     "data": {
      "text/plain": [
       "array([[[4, 8, 4, 7],\n",
       "        [8, 8, 6, 2]]])"
      ]
     },
     "execution_count": 10,
     "metadata": {},
     "output_type": "execute_result"
    }
   ],
   "source": [
    "a"
   ]
  },
  {
   "cell_type": "code",
   "execution_count": 11,
   "id": "89acf6a2",
   "metadata": {},
   "outputs": [
    {
     "data": {
      "text/plain": [
       "array([6. , 8. , 5. , 4.5])"
      ]
     },
     "execution_count": 11,
     "metadata": {},
     "output_type": "execute_result"
    }
   ],
   "source": [
    "a.mean(axis=1).mean(axis=0)"
   ]
  },
  {
   "cell_type": "code",
   "execution_count": 12,
   "id": "3ceab52d",
   "metadata": {},
   "outputs": [
    {
     "data": {
      "text/plain": [
       "array([[4., 8., 4., 7.],\n",
       "       [8., 8., 6., 2.]])"
      ]
     },
     "execution_count": 12,
     "metadata": {},
     "output_type": "execute_result"
    }
   ],
   "source": [
    "a.mean(axis=0)"
   ]
  },
  {
   "cell_type": "code",
   "execution_count": 13,
   "id": "0db9b808",
   "metadata": {},
   "outputs": [
    {
     "data": {
      "text/plain": [
       "array([[6. , 8. , 5. , 4.5]])"
      ]
     },
     "execution_count": 13,
     "metadata": {},
     "output_type": "execute_result"
    }
   ],
   "source": [
    "a.mean(axis=1)"
   ]
  },
  {
   "cell_type": "code",
   "execution_count": null,
   "id": "0534f8ad",
   "metadata": {},
   "outputs": [],
   "source": []
  }
 ],
 "metadata": {
  "kernelspec": {
   "display_name": "Python 3 (ipykernel)",
   "language": "python",
   "name": "python3"
  },
  "language_info": {
   "codemirror_mode": {
    "name": "ipython",
    "version": 3
   },
   "file_extension": ".py",
   "mimetype": "text/x-python",
   "name": "python",
   "nbconvert_exporter": "python",
   "pygments_lexer": "ipython3",
   "version": "3.10.4"
  }
 },
 "nbformat": 4,
 "nbformat_minor": 5
}
