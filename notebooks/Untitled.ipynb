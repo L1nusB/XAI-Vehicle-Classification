{
 "cells": [
  {
   "cell_type": "code",
   "execution_count": 1,
   "id": "0185fe4a",
   "metadata": {},
   "outputs": [],
   "source": [
    "import numpy as np\n",
    "import os\n",
    "from collections import namedtuple"
   ]
  },
  {
   "cell_type": "code",
   "execution_count": 24,
   "id": "d9cd39ad",
   "metadata": {},
   "outputs": [],
   "source": [
    "d = {'a':[1,2,3],'b':[3,4,5],'tset.jpg':[5,6,7]}"
   ]
  },
  {
   "cell_type": "code",
   "execution_count": 5,
   "id": "fbb251f9",
   "metadata": {},
   "outputs": [],
   "source": [
    "np.savez(\"test\",**d)"
   ]
  },
  {
   "cell_type": "code",
   "execution_count": 7,
   "id": "d16a7447",
   "metadata": {},
   "outputs": [],
   "source": [
    "l = np.load(\"test.npz\")"
   ]
  },
  {
   "cell_type": "code",
   "execution_count": 11,
   "id": "18fa09ad",
   "metadata": {},
   "outputs": [
    {
     "data": {
      "text/plain": [
       "array([1, 2, 3])"
      ]
     },
     "execution_count": 11,
     "metadata": {},
     "output_type": "execute_result"
    }
   ],
   "source": [
    "l['a']"
   ]
  },
  {
   "cell_type": "code",
   "execution_count": 12,
   "id": "27ae4a84",
   "metadata": {},
   "outputs": [
    {
     "data": {
      "text/plain": [
       "{'a': [1, 2, 3], 'b': [3, 4, 5]}"
      ]
     },
     "execution_count": 12,
     "metadata": {},
     "output_type": "execute_result"
    }
   ],
   "source": [
    "d"
   ]
  },
  {
   "cell_type": "code",
   "execution_count": 27,
   "id": "e59d4f28",
   "metadata": {},
   "outputs": [
    {
     "ename": "ValueError",
     "evalue": "Type names and field names must be valid identifiers: 'tset.jpg'",
     "output_type": "error",
     "traceback": [
      "\u001b[1;31m---------------------------------------------------------------------------\u001b[0m",
      "\u001b[1;31mValueError\u001b[0m                                Traceback (most recent call last)",
      "Input \u001b[1;32mIn [27]\u001b[0m, in \u001b[0;36m<cell line: 1>\u001b[1;34m()\u001b[0m\n\u001b[1;32m----> 1\u001b[0m nt \u001b[38;5;241m=\u001b[39m \u001b[43mnamedtuple\u001b[49m\u001b[43m(\u001b[49m\u001b[38;5;124;43m'\u001b[39;49m\u001b[38;5;124;43mTestTuple\u001b[39;49m\u001b[38;5;124;43m'\u001b[39;49m\u001b[43m,\u001b[49m\u001b[43m \u001b[49m\u001b[43md\u001b[49m\u001b[43m)\u001b[49m\n\u001b[0;32m      2\u001b[0m tup \u001b[38;5;241m=\u001b[39m nt(\u001b[38;5;241m*\u001b[39m\u001b[38;5;241m*\u001b[39md)\n",
      "File \u001b[1;32m~\\anaconda3\\envs\\open-mmlab\\lib\\collections\\__init__.py:358\u001b[0m, in \u001b[0;36mnamedtuple\u001b[1;34m(typename, field_names, rename, defaults, module)\u001b[0m\n\u001b[0;32m    356\u001b[0m     \u001b[38;5;28;01mraise\u001b[39;00m \u001b[38;5;167;01mTypeError\u001b[39;00m(\u001b[38;5;124m'\u001b[39m\u001b[38;5;124mType names and field names must be strings\u001b[39m\u001b[38;5;124m'\u001b[39m)\n\u001b[0;32m    357\u001b[0m \u001b[38;5;28;01mif\u001b[39;00m \u001b[38;5;129;01mnot\u001b[39;00m name\u001b[38;5;241m.\u001b[39misidentifier():\n\u001b[1;32m--> 358\u001b[0m     \u001b[38;5;28;01mraise\u001b[39;00m \u001b[38;5;167;01mValueError\u001b[39;00m(\u001b[38;5;124m'\u001b[39m\u001b[38;5;124mType names and field names must be valid \u001b[39m\u001b[38;5;124m'\u001b[39m\n\u001b[0;32m    359\u001b[0m                      \u001b[38;5;124mf\u001b[39m\u001b[38;5;124m'\u001b[39m\u001b[38;5;124midentifiers: \u001b[39m\u001b[38;5;132;01m{\u001b[39;00mname\u001b[38;5;132;01m!r}\u001b[39;00m\u001b[38;5;124m'\u001b[39m)\n\u001b[0;32m    360\u001b[0m \u001b[38;5;28;01mif\u001b[39;00m _iskeyword(name):\n\u001b[0;32m    361\u001b[0m     \u001b[38;5;28;01mraise\u001b[39;00m \u001b[38;5;167;01mValueError\u001b[39;00m(\u001b[38;5;124m'\u001b[39m\u001b[38;5;124mType names and field names cannot be a \u001b[39m\u001b[38;5;124m'\u001b[39m\n\u001b[0;32m    362\u001b[0m                      \u001b[38;5;124mf\u001b[39m\u001b[38;5;124m'\u001b[39m\u001b[38;5;124mkeyword: \u001b[39m\u001b[38;5;132;01m{\u001b[39;00mname\u001b[38;5;132;01m!r}\u001b[39;00m\u001b[38;5;124m'\u001b[39m)\n",
      "\u001b[1;31mValueError\u001b[0m: Type names and field names must be valid identifiers: 'tset.jpg'"
     ]
    }
   ],
   "source": [
    "nt = namedtuple('TestTuple', d)\n",
    "tup = nt(**d)"
   ]
  },
  {
   "cell_type": "code",
   "execution_count": 120,
   "id": "68992693",
   "metadata": {},
   "outputs": [],
   "source": [
    "path = 'C:/Users/Linus/Desktop/mmclassification/CAMs/annfile.txt'\n",
    "classname = ['Buck_Enclave', 'BWM_BWM_X1', 'Acura_Acura_ILX']"
   ]
  },
  {
   "cell_type": "code",
   "execution_count": 115,
   "id": "f6942fbd",
   "metadata": {},
   "outputs": [
    {
     "data": {
      "text/plain": [
       "['../data/CompCars_sv_original_split/train\\\\Benz_Benz_A_Class_05963f823131f2.jpg',\n",
       " '../data/CompCars_sv_original_split/train\\\\Benz_Benz_A_Class_083c3ffa09d663.jpg',\n",
       " '../data/CompCars_sv_original_split/train\\\\Benz_Benz_A_Class_09ad9d1fc5187d.jpg',\n",
       " '../data/CompCars_sv_original_split/train\\\\Benz_Benz_A_Class_0d1336f5a3ddc3.jpg',\n",
       " '../data/CompCars_sv_original_split/train\\\\Benz_Benz_A_Class_0e444d4e3cc90d.jpg',\n",
       " '../data/CompCars_sv_original_split/train\\\\Benz_Benz_A_Class_107af52a1a31d8.jpg',\n",
       " '../data/CompCars_sv_original_split/train\\\\Benz_Benz_A_Class_112827c9665694.jpg',\n",
       " '../data/CompCars_sv_original_split/train\\\\Benz_Benz_A_Class_1217f0f2ac3cd3.jpg',\n",
       " '../data/CompCars_sv_original_split/train\\\\Benz_Benz_A_Class_1352d40894ef6e.jpg',\n",
       " '../data/CompCars_sv_original_split/train\\\\Benz_Benz_A_Class_1f262602c4ecb7.jpg',\n",
       " '../data/CompCars_sv_original_split/train\\\\Benz_Benz_A_Class_22e2eeddc96fc7.jpg',\n",
       " '../data/CompCars_sv_original_split/train\\\\Benz_Benz_A_Class_2671f4f481647d.jpg',\n",
       " '../data/CompCars_sv_original_split/train\\\\Benz_Benz_A_Class_30968f5d2ad891.jpg',\n",
       " '../data/CompCars_sv_original_split/train\\\\Benz_Benz_A_Class_38841663c90da5.jpg',\n",
       " '../data/CompCars_sv_original_split/train\\\\Benz_Benz_A_Class_3d5bfe5fd768d2.jpg',\n",
       " '../data/CompCars_sv_original_split/train\\\\Benz_Benz_A_Class_3d955b85266c24.jpg',\n",
       " '../data/CompCars_sv_original_split/train\\\\Benz_Benz_A_Class_427fa69186e215.jpg',\n",
       " '../data/CompCars_sv_original_split/train\\\\Benz_Benz_A_Class_42d968887799aa.jpg',\n",
       " '../data/CompCars_sv_original_split/train\\\\Benz_Benz_A_Class_4307cce3b793c6.jpg',\n",
       " '../data/CompCars_sv_original_split/train\\\\Benz_Benz_A_Class_45583e2164b399.jpg',\n",
       " '../data/CompCars_sv_original_split/train\\\\Benz_Benz_A_Class_4fab4e621698c9.jpg',\n",
       " '../data/CompCars_sv_original_split/train\\\\Benz_Benz_A_Class_517ee8edcf5576.jpg',\n",
       " '../data/CompCars_sv_original_split/train\\\\Benz_Benz_A_Class_535eac2bdbff47.jpg',\n",
       " '../data/CompCars_sv_original_split/train\\\\Benz_Benz_A_Class_558cd49a6a635c.jpg',\n",
       " '../data/CompCars_sv_original_split/train\\\\Benz_Benz_A_Class_585afd89b7e222.jpg',\n",
       " '../data/CompCars_sv_original_split/train\\\\Benz_Benz_A_Class_58f33bab26c3a0.jpg',\n",
       " '../data/CompCars_sv_original_split/train\\\\Benz_Benz_A_Class_5ffbc475622168.jpg',\n",
       " '../data/CompCars_sv_original_split/train\\\\Benz_Benz_A_Class_60d90bdcbfc579.jpg',\n",
       " '../data/CompCars_sv_original_split/train\\\\Benz_Benz_A_Class_610b56439cb27f.jpg',\n",
       " '../data/CompCars_sv_original_split/train\\\\Benz_Benz_A_Class_63fd88b0313555.jpg',\n",
       " '../data/CompCars_sv_original_split/train\\\\Benz_Benz_A_Class_65bda8c89c965e.jpg',\n",
       " '../data/CompCars_sv_original_split/train\\\\Benz_Benz_A_Class_706389848a1483.jpg',\n",
       " '../data/CompCars_sv_original_split/train\\\\Benz_Benz_A_Class_741aaa9d30ac6e.jpg',\n",
       " '../data/CompCars_sv_original_split/train\\\\Benz_Benz_A_Class_7ad6c54208c33e.jpg',\n",
       " '../data/CompCars_sv_original_split/train\\\\Benz_Benz_A_Class_8799a450509413.jpg',\n",
       " '../data/CompCars_sv_original_split/train\\\\Benz_Benz_A_Class_88003858b0cf22.jpg',\n",
       " '../data/CompCars_sv_original_split/train\\\\Benz_Benz_A_Class_8f20a7a083b005.jpg',\n",
       " '../data/CompCars_sv_original_split/train\\\\Benz_Benz_A_Class_912d7b1aa9f5d8.jpg',\n",
       " '../data/CompCars_sv_original_split/train\\\\Benz_Benz_A_Class_9224647bf1ce3f.jpg',\n",
       " '../data/CompCars_sv_original_split/train\\\\Benz_Benz_A_Class_972e27754af49d.jpg',\n",
       " '../data/CompCars_sv_original_split/train\\\\Benz_Benz_A_Class_98a1c6ce3c254f.jpg',\n",
       " '../data/CompCars_sv_original_split/train\\\\Benz_Benz_A_Class_9f589abb9f4603.jpg',\n",
       " '../data/CompCars_sv_original_split/train\\\\Benz_Benz_A_Class_a125b5cb12780c.jpg',\n",
       " '../data/CompCars_sv_original_split/train\\\\Benz_Benz_A_Class_a4927112c0eae7.jpg',\n",
       " '../data/CompCars_sv_original_split/train\\\\Benz_Benz_A_Class_a55ed65ee87469.jpg',\n",
       " '../data/CompCars_sv_original_split/train\\\\Benz_Benz_A_Class_a5a80d0e9b7dcd.jpg',\n",
       " '../data/CompCars_sv_original_split/train\\\\Benz_Benz_A_Class_aab83241812846.jpg',\n",
       " '../data/CompCars_sv_original_split/train\\\\Benz_Benz_A_Class_b3b9d00a49b010.jpg',\n",
       " '../data/CompCars_sv_original_split/train\\\\Benz_Benz_A_Class_c22268742e6cb1.jpg',\n",
       " '../data/CompCars_sv_original_split/train\\\\Benz_Benz_A_Class_c585a4aa297a1e.jpg',\n",
       " '../data/CompCars_sv_original_split/train\\\\Benz_Benz_A_Class_c6df99bf1cb0c5.jpg',\n",
       " '../data/CompCars_sv_original_split/train\\\\Benz_Benz_A_Class_c6e55ef0f1148e.jpg',\n",
       " '../data/CompCars_sv_original_split/train\\\\Benz_Benz_A_Class_ca9794b39dfdf6.jpg',\n",
       " '../data/CompCars_sv_original_split/train\\\\Benz_Benz_A_Class_cba890a034102c.jpg',\n",
       " '../data/CompCars_sv_original_split/train\\\\Benz_Benz_A_Class_d07bc00fbdaba9.jpg',\n",
       " '../data/CompCars_sv_original_split/train\\\\Benz_Benz_A_Class_d14c05f901bbe7.jpg',\n",
       " '../data/CompCars_sv_original_split/train\\\\Benz_Benz_A_Class_d272c920a0b654.jpg',\n",
       " '../data/CompCars_sv_original_split/train\\\\Benz_Benz_A_Class_d507958d03333d.jpg',\n",
       " '../data/CompCars_sv_original_split/train\\\\Benz_Benz_A_Class_d6146afaca3a53.jpg',\n",
       " '../data/CompCars_sv_original_split/train\\\\Benz_Benz_A_Class_dad851fe8649c0.jpg',\n",
       " '../data/CompCars_sv_original_split/train\\\\Benz_Benz_A_Class_db19b1c900ae8f.jpg',\n",
       " '../data/CompCars_sv_original_split/train\\\\Benz_Benz_A_Class_e73b4e1a3a33a3.jpg',\n",
       " '../data/CompCars_sv_original_split/train\\\\Benz_Benz_A_Class_e87d9ba115e9c0.jpg',\n",
       " '../data/CompCars_sv_original_split/train\\\\Benz_Benz_A_Class_e8a42f985335a9.jpg',\n",
       " '../data/CompCars_sv_original_split/train\\\\Benz_Benz_A_Class_e933fca67a70d5.jpg',\n",
       " '../data/CompCars_sv_original_split/train\\\\Benz_Benz_A_Class_eac78b46dc54cc.jpg',\n",
       " '../data/CompCars_sv_original_split/train\\\\Benz_Benz_A_Class_eb25dc0744b37f.jpg',\n",
       " '../data/CompCars_sv_original_split/train\\\\Benz_Benz_A_Class_f2e10766884945.jpg',\n",
       " '../data/CompCars_sv_original_split/train\\\\Benz_Benz_A_Class_f99891cb7a133b.jpg',\n",
       " '../data/CompCars_sv_original_split/train\\\\Buck_Enclave_01cb8aefbdf9bb.jpg',\n",
       " '../data/CompCars_sv_original_split/train\\\\Buck_Enclave_027beaeab82957.jpg',\n",
       " '../data/CompCars_sv_original_split/train\\\\Buck_Enclave_081c93d5be04b0.jpg',\n",
       " '../data/CompCars_sv_original_split/train\\\\Buck_Enclave_08458ca6e6446b.jpg',\n",
       " '../data/CompCars_sv_original_split/train\\\\Buck_Enclave_08b5ba9b1539ce.jpg',\n",
       " '../data/CompCars_sv_original_split/train\\\\Buck_Enclave_0b2b845c19423d.jpg',\n",
       " '../data/CompCars_sv_original_split/train\\\\Buck_Enclave_0c2e59f87950cf.jpg',\n",
       " '../data/CompCars_sv_original_split/train\\\\Buck_Enclave_0c5ceb46d3f603.jpg',\n",
       " '../data/CompCars_sv_original_split/train\\\\Buck_Enclave_0e90cc352c7721.jpg',\n",
       " '../data/CompCars_sv_original_split/train\\\\Buck_Enclave_126694fad600f4.jpg',\n",
       " '../data/CompCars_sv_original_split/train\\\\Buck_Enclave_1912bf2db303d4.jpg',\n",
       " '../data/CompCars_sv_original_split/train\\\\Buck_Enclave_1a9e900a8b60a5.jpg',\n",
       " '../data/CompCars_sv_original_split/train\\\\Buck_Enclave_1d6655585b3d2c.jpg',\n",
       " '../data/CompCars_sv_original_split/train\\\\Buck_Enclave_1ea676cc06015b.jpg',\n",
       " '../data/CompCars_sv_original_split/train\\\\Buck_Enclave_207fc9bf03ab10.jpg',\n",
       " '../data/CompCars_sv_original_split/train\\\\Buck_Enclave_20bfa3a22aeef4.jpg',\n",
       " '../data/CompCars_sv_original_split/train\\\\Buck_Enclave_223c5520395ee7.jpg',\n",
       " '../data/CompCars_sv_original_split/train\\\\Buck_Enclave_228e0f11e41218.jpg',\n",
       " '../data/CompCars_sv_original_split/train\\\\Buck_Enclave_23189ff4668200.jpg',\n",
       " '../data/CompCars_sv_original_split/train\\\\Buck_Enclave_24ffdbdc15f5a6.jpg',\n",
       " '../data/CompCars_sv_original_split/train\\\\Buck_Enclave_265f0847296797.jpg',\n",
       " '../data/CompCars_sv_original_split/train\\\\Buck_Enclave_268f492d04a564.jpg',\n",
       " '../data/CompCars_sv_original_split/train\\\\Buck_Enclave_287578684ffb0f.jpg',\n",
       " '../data/CompCars_sv_original_split/train\\\\Buck_Enclave_28cb5407aebbbe.jpg',\n",
       " '../data/CompCars_sv_original_split/train\\\\Buck_Enclave_29ea73c491887b.jpg',\n",
       " '../data/CompCars_sv_original_split/train\\\\Buck_Enclave_2d1d77008b5f85.jpg',\n",
       " '../data/CompCars_sv_original_split/train\\\\Buck_Enclave_2f18dc716da7d9.jpg',\n",
       " '../data/CompCars_sv_original_split/train\\\\Buck_Enclave_31d17fb2c52644.jpg',\n",
       " '../data/CompCars_sv_original_split/train\\\\Buck_Enclave_31faf570f7e352.jpg',\n",
       " '../data/CompCars_sv_original_split/train\\\\Buck_Enclave_330f751e30eb44.jpg',\n",
       " '../data/CompCars_sv_original_split/train\\\\Buck_Enclave_42cf0a200f48ce.jpg',\n",
       " '../data/CompCars_sv_original_split/train\\\\Buck_Enclave_4cf260498e64de.jpg',\n",
       " '../data/CompCars_sv_original_split/train\\\\Buck_Enclave_554dcd3d9e0d3a.jpg',\n",
       " '../data/CompCars_sv_original_split/train\\\\Buck_Enclave_57a4be5ff9632b.jpg',\n",
       " '../data/CompCars_sv_original_split/train\\\\Buck_Enclave_5b678ab6935472.jpg',\n",
       " '../data/CompCars_sv_original_split/train\\\\Buck_Enclave_603460da97ba64.jpg',\n",
       " '../data/CompCars_sv_original_split/train\\\\Buck_Enclave_616a63b43c4e37.jpg',\n",
       " '../data/CompCars_sv_original_split/train\\\\Buck_Enclave_65a3ba7c0f10f9.jpg',\n",
       " '../data/CompCars_sv_original_split/train\\\\Buck_Enclave_65bc42c6376a51.jpg',\n",
       " '../data/CompCars_sv_original_split/train\\\\Buck_Enclave_6951605bb8a590.jpg',\n",
       " '../data/CompCars_sv_original_split/train\\\\Buck_Enclave_69bfa550f8dd61.jpg',\n",
       " '../data/CompCars_sv_original_split/train\\\\Buck_Enclave_6df5913e072721.jpg',\n",
       " '../data/CompCars_sv_original_split/train\\\\Buck_Enclave_6dfab75aa427c9.jpg',\n",
       " '../data/CompCars_sv_original_split/train\\\\Buck_Enclave_6ead29dc38b49f.jpg',\n",
       " '../data/CompCars_sv_original_split/train\\\\Buck_Enclave_6f57dc74a898ca.jpg',\n",
       " '../data/CompCars_sv_original_split/train\\\\Buck_Enclave_7058a400a62173.jpg',\n",
       " '../data/CompCars_sv_original_split/train\\\\Buck_Enclave_74adec6a22fced.jpg',\n",
       " '../data/CompCars_sv_original_split/train\\\\Buck_Enclave_7634f94fbfe5f2.jpg',\n",
       " '../data/CompCars_sv_original_split/train\\\\Buck_Enclave_764e0cb0dd362a.jpg',\n",
       " '../data/CompCars_sv_original_split/train\\\\Buck_Enclave_7877eced51675b.jpg',\n",
       " '../data/CompCars_sv_original_split/train\\\\Buck_Enclave_78b61ae5ecbcf8.jpg',\n",
       " '../data/CompCars_sv_original_split/train\\\\Buck_Enclave_792867d177f2ab.jpg',\n",
       " '../data/CompCars_sv_original_split/train\\\\Buck_Enclave_7a47631e50a7c1.jpg',\n",
       " '../data/CompCars_sv_original_split/train\\\\Buck_Enclave_7afb65cd75172e.jpg',\n",
       " '../data/CompCars_sv_original_split/train\\\\Buck_Enclave_7be73277b0cedb.jpg',\n",
       " '../data/CompCars_sv_original_split/train\\\\Buck_Enclave_83ed35cb11f7e9.jpg',\n",
       " '../data/CompCars_sv_original_split/train\\\\Buck_Enclave_856b844a62ccc7.jpg',\n",
       " '../data/CompCars_sv_original_split/train\\\\Buck_Enclave_88810cdb9e04c5.jpg',\n",
       " '../data/CompCars_sv_original_split/train\\\\Buck_Enclave_8d5e8fb47dfe80.jpg',\n",
       " '../data/CompCars_sv_original_split/train\\\\Buck_Enclave_8f8f9ee47915da.jpg',\n",
       " '../data/CompCars_sv_original_split/train\\\\Buck_Enclave_90b91754526630.jpg',\n",
       " '../data/CompCars_sv_original_split/train\\\\Buck_Enclave_91d21d713a085d.jpg',\n",
       " '../data/CompCars_sv_original_split/train\\\\Buck_Enclave_932344d0f096a9.jpg',\n",
       " '../data/CompCars_sv_original_split/train\\\\Buck_Enclave_93a6a2fc82e663.jpg',\n",
       " '../data/CompCars_sv_original_split/train\\\\Buck_Enclave_93bc21c8a805e8.jpg',\n",
       " '../data/CompCars_sv_original_split/train\\\\Buck_Enclave_99b9e4c88dfc9e.jpg',\n",
       " '../data/CompCars_sv_original_split/train\\\\Buck_Enclave_a3cd0a8b31ab1b.jpg',\n",
       " '../data/CompCars_sv_original_split/train\\\\Buck_Enclave_a4a08be253d347.jpg',\n",
       " '../data/CompCars_sv_original_split/train\\\\Buck_Enclave_abe664d92e40db.jpg',\n",
       " '../data/CompCars_sv_original_split/train\\\\Buck_Enclave_af9b41ad80ebec.jpg',\n",
       " '../data/CompCars_sv_original_split/train\\\\Buck_Enclave_b0805af8b0602a.jpg',\n",
       " '../data/CompCars_sv_original_split/train\\\\Buck_Enclave_b1159980f97972.jpg',\n",
       " '../data/CompCars_sv_original_split/train\\\\Buck_Enclave_b30d26e979a8bc.jpg',\n",
       " '../data/CompCars_sv_original_split/train\\\\Buck_Enclave_b3bac7a0e0ef9c.jpg',\n",
       " '../data/CompCars_sv_original_split/train\\\\Buck_Enclave_ba2f8a4ada12f3.jpg',\n",
       " '../data/CompCars_sv_original_split/train\\\\Buck_Enclave_bd96584ae99613.jpg',\n",
       " '../data/CompCars_sv_original_split/train\\\\Buck_Enclave_bdad67e1c5562c.jpg',\n",
       " '../data/CompCars_sv_original_split/train\\\\Buck_Enclave_bfad4ca4d358e7.jpg',\n",
       " '../data/CompCars_sv_original_split/train\\\\Buck_Enclave_c2489eebf94262.jpg',\n",
       " '../data/CompCars_sv_original_split/train\\\\Buck_Enclave_c35ea56a6a06a1.jpg',\n",
       " '../data/CompCars_sv_original_split/train\\\\Buck_Enclave_c8389d3fae31bc.jpg',\n",
       " '../data/CompCars_sv_original_split/train\\\\Buck_Enclave_c83937bdc3d1b8.jpg',\n",
       " '../data/CompCars_sv_original_split/train\\\\Buck_Enclave_c91ff002969676.jpg',\n",
       " '../data/CompCars_sv_original_split/train\\\\Buck_Enclave_cac699cf2f6f02.jpg',\n",
       " '../data/CompCars_sv_original_split/train\\\\Buck_Enclave_cb89542b7ac80e.jpg',\n",
       " '../data/CompCars_sv_original_split/train\\\\Buck_Enclave_cc09c5306ca3d4.jpg',\n",
       " '../data/CompCars_sv_original_split/train\\\\Buck_Enclave_d23ba71094d3fe.jpg',\n",
       " '../data/CompCars_sv_original_split/train\\\\Buck_Enclave_d27315edbe3740.jpg',\n",
       " '../data/CompCars_sv_original_split/train\\\\Buck_Enclave_d4141c3f5253c7.jpg',\n",
       " '../data/CompCars_sv_original_split/train\\\\Buck_Enclave_d47880942848d7.jpg',\n",
       " '../data/CompCars_sv_original_split/train\\\\Buck_Enclave_d7053ed8c4f468.jpg',\n",
       " '../data/CompCars_sv_original_split/train\\\\Buck_Enclave_d99ff37c67ac65.jpg',\n",
       " '../data/CompCars_sv_original_split/train\\\\Buck_Enclave_da3822310569f3.jpg',\n",
       " '../data/CompCars_sv_original_split/train\\\\Buck_Enclave_dbbf1038e3ea5a.jpg',\n",
       " '../data/CompCars_sv_original_split/train\\\\Buck_Enclave_dcfca4658b9b67.jpg',\n",
       " '../data/CompCars_sv_original_split/train\\\\Buck_Enclave_dd02c6958f0613.jpg',\n",
       " '../data/CompCars_sv_original_split/train\\\\Buck_Enclave_de25fd44875d48.jpg',\n",
       " '../data/CompCars_sv_original_split/train\\\\Buck_Enclave_e36fa450d2a5ce.jpg',\n",
       " '../data/CompCars_sv_original_split/train\\\\Buck_Enclave_e4e20b1f4a1f2f.jpg',\n",
       " '../data/CompCars_sv_original_split/train\\\\Buck_Enclave_e866251d88f463.jpg',\n",
       " '../data/CompCars_sv_original_split/train\\\\Buck_Enclave_e88fa87075607e.jpg',\n",
       " '../data/CompCars_sv_original_split/train\\\\Buck_Enclave_e8b7999d5f0ebe.jpg',\n",
       " '../data/CompCars_sv_original_split/train\\\\Buck_Enclave_e951d4f7f81f6d.jpg',\n",
       " '../data/CompCars_sv_original_split/train\\\\Buck_Enclave_ef272a772991f1.jpg',\n",
       " '../data/CompCars_sv_original_split/train\\\\Buck_Enclave_f10da3d2b19e1c.jpg',\n",
       " '../data/CompCars_sv_original_split/train\\\\Buck_Enclave_f225c51e385879.jpg',\n",
       " '../data/CompCars_sv_original_split/train\\\\Buck_Enclave_f2f49d0205b3dd.jpg',\n",
       " '../data/CompCars_sv_original_split/train\\\\Buck_Enclave_f38160a7d01b30.jpg',\n",
       " '../data/CompCars_sv_original_split/train\\\\Buck_Enclave_f443a804ac6c99.jpg',\n",
       " '../data/CompCars_sv_original_split/train\\\\Buck_Enclave_f51ec744279e01.jpg',\n",
       " '../data/CompCars_sv_original_split/train\\\\Buck_Enclave_f56d1db63683a5.jpg',\n",
       " '../data/CompCars_sv_original_split/train\\\\Buck_Enclave_fea133801a1cdc.jpg']"
      ]
     },
     "execution_count": 115,
     "metadata": {},
     "output_type": "execute_result"
    }
   ],
   "source": [
    "[os.path.join(path,f) for f in os.listdir(path) if any(f.startswith(s) for s in classname) and os.path.isfile(os.path.join(path,f))]"
   ]
  },
  {
   "cell_type": "code",
   "execution_count": 121,
   "id": "e5558886",
   "metadata": {},
   "outputs": [],
   "source": [
    "with open(path, encoding='utf-8') as f:\n",
    "    samples = [x.strip().rsplit(' ',1) for x in f.readlines() if any(x.startswith(s) for s in classname)]\n",
    "    s = [y for y in samples if any(y[0].startswith(s) for s in classname)]"
   ]
  },
  {
   "cell_type": "code",
   "execution_count": 122,
   "id": "0da19a53",
   "metadata": {},
   "outputs": [
    {
     "data": {
      "text/plain": [
       "43"
      ]
     },
     "execution_count": 122,
     "metadata": {},
     "output_type": "execute_result"
    }
   ],
   "source": [
    "len(samples)"
   ]
  },
  {
   "cell_type": "code",
   "execution_count": 123,
   "id": "374fa17f",
   "metadata": {},
   "outputs": [
    {
     "data": {
      "text/plain": [
       "[['Acura_Acura_ILX_7e68078389331f.jpg', '0_2'],\n",
       " ['Acura_Acura_ILX_a59db35f6cbfdb.jpg', '0_2'],\n",
       " ['Acura_Acura_ILX_804440e19488e2.jpg', '0_2'],\n",
       " ['Acura_Acura_ILX_cd1b197d3657ca.jpg', '0_2'],\n",
       " ['Acura_Acura_ILX_7ca9143fe3ab16.jpg', '0_2'],\n",
       " ['Acura_Acura_ILX_a97bc8afa4da73.jpg', '0_2'],\n",
       " ['Acura_Acura_ILX_822bc00542942f.jpg', '0_2'],\n",
       " ['Acura_Acura_ILX_4a6802353729d1.jpg', '0_2'],\n",
       " ['Acura_Acura_ILX_aa29839d67bbad.jpg', '0_2'],\n",
       " ['Acura_Acura_ILX_2a6cce617fc27d.jpg', '0_2'],\n",
       " ['Acura_Acura_ILX_8998bb4d1b7fee.jpg', '0_8'],\n",
       " ['Acura_Acura_ILX_c1bba3cf2d737e.jpg', '0_8'],\n",
       " ['Acura_Acura_ILX_3d01f404957978.jpg', '0_2'],\n",
       " ['Acura_Acura_ILX_1673ba71a400e8.jpg', '0_2'],\n",
       " ['Acura_Acura_ILX_47c7b2d497e4ac.jpg', '0_2'],\n",
       " ['Acura_Acura_ILX_56bf2c86d53ba1.jpg', '0_2'],\n",
       " ['Acura_Acura_ILX_d2d087cc74d8bc.jpg', '0_2'],\n",
       " ['Acura_Acura_ILX_6a4ff59de01601.jpg', '0_2'],\n",
       " ['Acura_Acura_ILX_a377e753a98309.jpg', '0_2'],\n",
       " ['Acura_Acura_ILX_5f6fd31167255b.jpg', '0_2'],\n",
       " ['Acura_Acura_ILX_2fbd17ddc849a9.jpg', '0_2'],\n",
       " ['Acura_Acura_ILX_447523e03f3149.jpg', '0_2'],\n",
       " ['Acura_Acura_ILX_7a92680974b8c3.jpg', '0_2'],\n",
       " ['Acura_Acura_ILX_0502a4c6c6099c.jpg', '0_2'],\n",
       " ['Acura_Acura_ILX_b9284b709ba2f6.jpg', '0_2'],\n",
       " ['Acura_Acura_ILX_5db0a0d416a55d.jpg', '0_2'],\n",
       " ['Acura_Acura_ILX_8bf991f5104056.jpg', '0_2'],\n",
       " ['Acura_Acura_ILX_639d3250f7b92f.jpg', '0_2'],\n",
       " ['Acura_Acura_ILX_b2deaaf6e32ca8.jpg', '0_2'],\n",
       " ['Acura_Acura_ILX_2403b77edd6673.jpg', '0_2'],\n",
       " ['Acura_Acura_ILX_8a52ad9c7bf697.jpg', '0_2'],\n",
       " ['Acura_Acura_ILX_baedc3f49478f0.jpg', '0_2'],\n",
       " ['Acura_Acura_ILX_e78df5231051b6.jpg', '0_2'],\n",
       " ['Acura_Acura_ILX_2ab9890f11d6ac.jpg', '0_2'],\n",
       " ['Acura_Acura_ILX_2f4690e79f0960.jpg', '0_2'],\n",
       " ['Acura_Acura_ILX_fe083b89081b7e.jpg', '0_2'],\n",
       " ['Acura_Acura_ILX_86d21d29c1e217.jpg', '0_2'],\n",
       " ['Acura_Acura_ILX_8cb12996005936.jpg', '0_2'],\n",
       " ['Acura_Acura_ILX_7522ddfcfef1e6.jpg', '0_2'],\n",
       " ['Acura_Acura_ILX_c6134feff4f947.jpg', '0_2'],\n",
       " ['Acura_Acura_ILX_764d9f3eb04844.jpg', '0_2'],\n",
       " ['Acura_Acura_ILX_6adf0669e9c4cd.jpg', '0_2'],\n",
       " ['Acura_Acura_ILX_ef50018f813f8a.jpg', '0_2']]"
      ]
     },
     "execution_count": 123,
     "metadata": {},
     "output_type": "execute_result"
    }
   ],
   "source": [
    "s"
   ]
  },
  {
   "cell_type": "code",
   "execution_count": 109,
   "id": "359216a0",
   "metadata": {},
   "outputs": [
    {
     "name": "stdout",
     "output_type": "stream",
     "text": [
      "0\n",
      "Benz\n",
      "1\n",
      "Buck_Enclave\n"
     ]
    }
   ],
   "source": [
    "for index, path in enumerate(classname):\n",
    "    print(index)\n",
    "    print(path)"
   ]
  },
  {
   "cell_type": "code",
   "execution_count": 116,
   "id": "9f5de142",
   "metadata": {},
   "outputs": [],
   "source": [
    "a = np.zeros((1,244,244))"
   ]
  },
  {
   "cell_type": "code",
   "execution_count": 117,
   "id": "15177732",
   "metadata": {},
   "outputs": [
    {
     "data": {
      "text/plain": [
       "(1, 244, 244)"
      ]
     },
     "execution_count": 117,
     "metadata": {},
     "output_type": "execute_result"
    }
   ],
   "source": [
    "a.shape"
   ]
  },
  {
   "cell_type": "code",
   "execution_count": 119,
   "id": "68d5937a",
   "metadata": {},
   "outputs": [
    {
     "data": {
      "text/plain": [
       "(244, 244)"
      ]
     },
     "execution_count": 119,
     "metadata": {},
     "output_type": "execute_result"
    }
   ],
   "source": [
    "a.squeeze().shape"
   ]
  },
  {
   "cell_type": "code",
   "execution_count": null,
   "id": "a50c59ff",
   "metadata": {},
   "outputs": [],
   "source": []
  }
 ],
 "metadata": {
  "kernelspec": {
   "display_name": "Python 3 (ipykernel)",
   "language": "python",
   "name": "python3"
  },
  "language_info": {
   "codemirror_mode": {
    "name": "ipython",
    "version": 3
   },
   "file_extension": ".py",
   "mimetype": "text/x-python",
   "name": "python",
   "nbconvert_exporter": "python",
   "pygments_lexer": "ipython3",
   "version": "3.8.13"
  }
 },
 "nbformat": 4,
 "nbformat_minor": 5
}
