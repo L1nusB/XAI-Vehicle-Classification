{
 "cells": [
  {
   "cell_type": "code",
   "execution_count": 1,
   "id": "6293ab3c",
   "metadata": {},
   "outputs": [],
   "source": [
    "%load_ext autoreload\n",
    "%autoreload 2\n",
    "\n",
    "import numpy as np\n",
    "import os\n",
    "import mmcv\n",
    "import torch\n",
    "from mmcv import Config\n",
    "from mmcls.datasets.pipelines import Compose\n",
    "import matplotlib.pyplot as plt\n",
    "import matplotlib.image as mpimg\n",
    "import matplotlib.gridspec as gridspec\n",
    "from PIL import Image\n",
    "import heapq"
   ]
  },
  {
   "cell_type": "code",
   "execution_count": 2,
   "id": "90766d18",
   "metadata": {},
   "outputs": [],
   "source": [
    "configCAM = '../CAMModels/resnet/compCars_Original/resnet50_b128x2_compcars-original-split.py'\n",
    "cfg = Config.fromfile(configCAM)"
   ]
  },
  {
   "cell_type": "code",
   "execution_count": 4,
   "id": "5911ff11",
   "metadata": {},
   "outputs": [
    {
     "data": {
      "text/plain": [
       "{'type': 'CompCars',\n",
       " 'data_prefix': 'data/CompCars_sv_original_split/val',\n",
       " 'ann_file': 'data/CompCars_sv_original_split/meta/val.txt',\n",
       " 'pipeline': [{'type': 'LoadImageFromFile'},\n",
       "  {'type': 'Resize', 'size': (256, -1)},\n",
       "  {'type': 'CenterCrop', 'crop_size': 224},\n",
       "  {'type': 'Normalize',\n",
       "   'mean': [123.675, 116.28, 103.53],\n",
       "   'std': [58.395, 57.12, 57.375],\n",
       "   'to_rgb': True},\n",
       "  {'type': 'ImageToTensor', 'keys': ['img']},\n",
       "  {'type': 'Collect', 'keys': ['img']}]}"
      ]
     },
     "execution_count": 4,
     "metadata": {},
     "output_type": "execute_result"
    }
   ],
   "source": [
    "cfg.data.test"
   ]
  },
  {
   "cell_type": "code",
   "execution_count": 7,
   "id": "c0db0457",
   "metadata": {},
   "outputs": [],
   "source": [
    "from mmcv.utils import Registry\n",
    "DATASETS = Registry('dataset', scope='mmcls')"
   ]
  },
  {
   "cell_type": "code",
   "execution_count": 9,
   "id": "3c4740b2",
   "metadata": {},
   "outputs": [
    {
     "data": {
      "text/plain": [
       "Registry(name=dataset, items={})"
      ]
     },
     "execution_count": 9,
     "metadata": {},
     "output_type": "execute_result"
    }
   ],
   "source": [
    "DATASETS"
   ]
  },
  {
   "cell_type": "code",
   "execution_count": null,
   "id": "07faf13f",
   "metadata": {},
   "outputs": [],
   "source": []
  }
 ],
 "metadata": {
  "kernelspec": {
   "display_name": "Python 3 (ipykernel)",
   "language": "python",
   "name": "python3"
  },
  "language_info": {
   "codemirror_mode": {
    "name": "ipython",
    "version": 3
   },
   "file_extension": ".py",
   "mimetype": "text/x-python",
   "name": "python",
   "nbconvert_exporter": "python",
   "pygments_lexer": "ipython3",
   "version": "3.8.13"
  }
 },
 "nbformat": 4,
 "nbformat_minor": 5
}
