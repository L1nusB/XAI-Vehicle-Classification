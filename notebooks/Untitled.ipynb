{
 "cells": [
  {
   "cell_type": "code",
   "execution_count": 1,
   "id": "6293ab3c",
   "metadata": {},
   "outputs": [],
   "source": [
    "import os\n",
    "import sys"
   ]
  },
  {
   "cell_type": "code",
   "execution_count": 2,
   "id": "1915b774",
   "metadata": {},
   "outputs": [
    {
     "data": {
      "text/plain": [
       "['C:\\\\Users\\\\Linus\\\\Desktop\\\\XAI-Vehicle-Classification\\\\notebooks',\n",
       " 'C:\\\\Users\\\\Linus\\\\anaconda3\\\\envs\\\\mmseg\\\\python310.zip',\n",
       " 'C:\\\\Users\\\\Linus\\\\anaconda3\\\\envs\\\\mmseg\\\\DLLs',\n",
       " 'C:\\\\Users\\\\Linus\\\\anaconda3\\\\envs\\\\mmseg\\\\lib',\n",
       " 'C:\\\\Users\\\\Linus\\\\anaconda3\\\\envs\\\\mmseg',\n",
       " '',\n",
       " 'C:\\\\Users\\\\Linus\\\\anaconda3\\\\envs\\\\mmseg\\\\lib\\\\site-packages',\n",
       " 'c:\\\\users\\\\linus\\\\desktop\\\\mmsegmentation',\n",
       " 'C:\\\\Users\\\\Linus\\\\anaconda3\\\\envs\\\\mmseg\\\\lib\\\\site-packages\\\\win32',\n",
       " 'C:\\\\Users\\\\Linus\\\\anaconda3\\\\envs\\\\mmseg\\\\lib\\\\site-packages\\\\win32\\\\lib',\n",
       " 'C:\\\\Users\\\\Linus\\\\anaconda3\\\\envs\\\\mmseg\\\\lib\\\\site-packages\\\\Pythonwin']"
      ]
     },
     "execution_count": 2,
     "metadata": {},
     "output_type": "execute_result"
    }
   ],
   "source": [
    "sys.path"
   ]
  },
  {
   "cell_type": "code",
   "execution_count": 2,
   "id": "21c08d9f",
   "metadata": {},
   "outputs": [],
   "source": [
    "module_path = os.path.abspath(os.path.join('..'))\n",
    "if module_path not in sys.path:\n",
    "    sys.path.append(module_path)"
   ]
  },
  {
   "cell_type": "code",
   "execution_count": 3,
   "id": "45ff74e6",
   "metadata": {},
   "outputs": [
    {
     "data": {
      "text/plain": [
       "['C:\\\\Users\\\\Linus\\\\Desktop\\\\XAI-Vehicle-Classification\\\\notebooks',\n",
       " 'C:\\\\Users\\\\Linus\\\\anaconda3\\\\envs\\\\mmseg\\\\python310.zip',\n",
       " 'C:\\\\Users\\\\Linus\\\\anaconda3\\\\envs\\\\mmseg\\\\DLLs',\n",
       " 'C:\\\\Users\\\\Linus\\\\anaconda3\\\\envs\\\\mmseg\\\\lib',\n",
       " 'C:\\\\Users\\\\Linus\\\\anaconda3\\\\envs\\\\mmseg',\n",
       " '',\n",
       " 'C:\\\\Users\\\\Linus\\\\anaconda3\\\\envs\\\\mmseg\\\\lib\\\\site-packages',\n",
       " 'c:\\\\users\\\\linus\\\\desktop\\\\mmsegmentation',\n",
       " 'C:\\\\Users\\\\Linus\\\\anaconda3\\\\envs\\\\mmseg\\\\lib\\\\site-packages\\\\win32',\n",
       " 'C:\\\\Users\\\\Linus\\\\anaconda3\\\\envs\\\\mmseg\\\\lib\\\\site-packages\\\\win32\\\\lib',\n",
       " 'C:\\\\Users\\\\Linus\\\\anaconda3\\\\envs\\\\mmseg\\\\lib\\\\site-packages\\\\Pythonwin',\n",
       " 'C:\\\\Users\\\\Linus\\\\Desktop\\\\XAI-Vehicle-Classification']"
      ]
     },
     "execution_count": 3,
     "metadata": {},
     "output_type": "execute_result"
    }
   ],
   "source": [
    "sys.path"
   ]
  },
  {
   "cell_type": "code",
   "execution_count": 5,
   "id": "96faae52",
   "metadata": {},
   "outputs": [],
   "source": [
    "from scripts import test"
   ]
  },
  {
   "cell_type": "code",
   "execution_count": 8,
   "id": "2066d45d",
   "metadata": {},
   "outputs": [
    {
     "name": "stdout",
     "output_type": "stream",
     "text": [
      "From Ref\n",
      "From Ref2\n"
     ]
    }
   ],
   "source": [
    "test.references()"
   ]
  },
  {
   "cell_type": "code",
   "execution_count": null,
   "id": "90766d18",
   "metadata": {},
   "outputs": [],
   "source": []
  }
 ],
 "metadata": {
  "kernelspec": {
   "display_name": "Python 3 (ipykernel)",
   "language": "python",
   "name": "python3"
  },
  "language_info": {
   "codemirror_mode": {
    "name": "ipython",
    "version": 3
   },
   "file_extension": ".py",
   "mimetype": "text/x-python",
   "name": "python",
   "nbconvert_exporter": "python",
   "pygments_lexer": "ipython3",
   "version": "3.10.4"
  }
 },
 "nbformat": 4,
 "nbformat_minor": 5
}
