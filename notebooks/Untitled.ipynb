{
 "cells": [
  {
   "cell_type": "code",
   "execution_count": 1,
   "id": "6293ab3c",
   "metadata": {},
   "outputs": [],
   "source": [
    "%load_ext autoreload\n",
    "%autoreload 2\n",
    "\n",
    "import numpy as np\n",
    "import os\n",
    "import mmcv\n",
    "import importlib\n",
    "import torch\n",
    "import torchvision.transforms as transforms\n",
    "from mmcv import Config\n",
    "from mmcls.datasets.pipelines import Compose\n",
    "import matplotlib.pyplot as plt\n",
    "import matplotlib.image as mpimg\n",
    "import matplotlib.gridspec as gridspec\n",
    "from PIL import Image\n",
    "import heapq\n",
    "from mmseg.apis import inference_segmentor, init_segmentor\n",
    "from mmseg.core.evaluation import get_palette\n",
    "from pytorch_grad_cam.utils.image import show_cam_on_image\n",
    "import cv2\n",
    "\n",
    "import sys\n",
    "\n",
    "module_path = os.path.abspath(os.path.join('..'))\n",
    "if module_path not in sys.path:\n",
    "    sys.path.append(module_path)\n",
    "    \n",
    "\n",
    "from scripts import generate_statistics_single\n",
    "from scripts import visualization_seg_masks\n",
    "from scripts import generate_statistics\n",
    "from scripts import generate_cams\n",
    "from scripts import utils\n",
    "from scripts.utils.pipeline import get_pipeline_torchvision\n",
    "from scripts import generate_segs\n",
    "from scripts import visualize_cam_results"
   ]
  },
  {
   "cell_type": "code",
   "execution_count": 2,
   "id": "90766d18",
   "metadata": {},
   "outputs": [],
   "source": [
    "configSeg = '../segmentation/ocrnet_hr48_512x512_carparts_noflip/ocrnet_hr48_512x512_carparts_noflip.py'\n",
    "checkpointSeg = '../segmentation/ocrnet_hr48_512x512_carparts_noflip/latest.pth'\n",
    "imgRootTrain = '../data/CompCars_sv_original_split/train'\n",
    "imgRootVal = '../data/CompCars_sv_original_split/val'\n",
    "configCAMResOG = '../CAMModels/resnet/compCars_Original/resnet50_b128x2_compcars-original-split.py'\n",
    "checkpointCAMResOG = '../CAMModels/resnet/compCars_Original/latest.pth'\n",
    "configCAMSwinSmallOG = '../CAMModels/swinSmall/compCars_Original/swin-small_b128x2_compcars-original-split.py'\n",
    "checkpointCAMSwinSmallOG = '../CAMModels/swinSmall/compCars_Original/latest.pth'\n",
    "annfileTrain = '../annfileTrain.txt'\n",
    "annfileVal = '../annfileVal.txt'\n",
    "annfileValGt = '../annfileValGt.txt'\n",
    "imgNameTrain='Acura_Acura_ILX_2a6cce617fc27d.jpg'\n",
    "imgNameVal = 'Acura_Acura_ILX_3c11ef9e42931b.jpg'\n",
    "imgPathTrain=os.path.join(imgRootTrain, imgNameTrain)\n",
    "imgPathVal=os.path.join(imgRootVal, imgNameVal)\n",
    "\n",
    "paletteName='Comp_Original_Ocrnet_Carparts_Noflip'\n",
    "\n",
    "segDataPath = 'G:/XAI-Vehicle-Classification/preGenData/Segmentations/CompCars_Original/valAllSegs.npz'\n",
    "\n",
    "camDataGradCAM = 'G:/XAI-Vehicle-Classification/preGenData/preGenData/CompCars_original/ResNet/valAllCAMs.npz'\n",
    "camDataEigenCAM = 'G:/XAI-Vehicle-Classification/preGenData/CompCars_original/ResNet/valAllCAMsEigen.npz'\n",
    "camDataEigenGrad = 'G:/XAI-Vehicle-Classification/preGenData/CompCars_original/ResNet/valAllCAMsEigenGrad.npz'\n",
    "camDataGradCAMGPU = 'G:/XAI-Vehicle-Classification/preGenData/CompCars_original/ResNet/valAllCAMsGPU.npz'\n",
    "camDataGradCAMPlusPlus = 'G:/XAI-Vehicle-Classification/preGenData/CompCars_original/ResNet/valAllCAMsGrad++.npz'\n",
    "camDataLayerCAM = 'G:/XAI-Vehicle-Classification/preGenData/CompCars_original/ResNet/valAllCAMsLayer.npz'\n",
    "camDataXCAM = 'G:/XAI-Vehicle-Classification/preGenData/CompCars_original/ResNet/valAllCAMsXGrad.npz'"
   ]
  },
  {
   "cell_type": "code",
   "execution_count": 76,
   "id": "96a836f7",
   "metadata": {},
   "outputs": [
    {
     "name": "stdout",
     "output_type": "stream",
     "text": [
      "Created filtered annotation file at ..\\annfile_filtered.txt\n",
      "{'type': 'CompCars', 'data_prefix': '../data/CompCars_sv_original_split/val', 'ann_file': '..\\\\annfile_filtered.txt', 'pipeline': [{'type': 'LoadImageFromFile'}, {'type': 'Resize', 'size': (256, -1)}, {'type': 'CenterCrop', 'crop_size': 224}, {'type': 'Normalize', 'mean': [123.675, 116.28, 103.53], 'std': [58.395, 57.12, 57.375], 'to_rgb': True}, {'type': 'ImageToTensor', 'keys': ['img']}, {'type': 'Collect', 'keys': ['img']}]}\n",
      "[>>>>>>>>>>>>>>>>>>>>>>>>>>>>>>>>>>>] 3/3, 0.5 task/s, elapsed: 6s, ETA:     0sCreating annotation file at ..\\annfile_correct.txt\n",
      "Creating annotation file at ..\\annfile_incorrect.txt\n"
     ]
    }
   ],
   "source": [
    "res, labels, dataset, gt = generate_statistics.generate_statistics_missclassified(imgRoot=imgRootVal, camConfig=configCAMResOG, \n",
    "                                                       camCheckpoint=checkpointCAMResOG, camData=camDataGradCAM,\n",
    "                                                       segData=segDataPath, dataClasses=['Acura_Acura_ILX'],\n",
    "                                                       annfile=annfileValGt)"
   ]
  },
  {
   "cell_type": "code",
   "execution_count": 33,
   "id": "6b226aea",
   "metadata": {},
   "outputs": [
    {
     "data": {
      "text/plain": [
       "array([0, 0, 0], dtype=int64)"
      ]
     },
     "execution_count": 33,
     "metadata": {},
     "output_type": "execute_result"
    }
   ],
   "source": [
    "labels"
   ]
  },
  {
   "cell_type": "code",
   "execution_count": 34,
   "id": "33d2adcc",
   "metadata": {},
   "outputs": [
    {
     "data": {
      "text/plain": [
       "array([0, 0, 0], dtype=int64)"
      ]
     },
     "execution_count": 34,
     "metadata": {},
     "output_type": "execute_result"
    }
   ],
   "source": [
    "gt"
   ]
  },
  {
   "cell_type": "code",
   "execution_count": 38,
   "id": "3aed4654",
   "metadata": {},
   "outputs": [
    {
     "data": {
      "text/plain": [
       "array([0, 0, 0], dtype=int64)"
      ]
     },
     "execution_count": 38,
     "metadata": {},
     "output_type": "execute_result"
    }
   ],
   "source": [
    "labels & gt"
   ]
  },
  {
   "cell_type": "code",
   "execution_count": 45,
   "id": "5a4cf419",
   "metadata": {},
   "outputs": [
    {
     "data": {
      "text/plain": [
       "array([False,  True, False])"
      ]
     },
     "execution_count": 45,
     "metadata": {},
     "output_type": "execute_result"
    }
   ],
   "source": [
    "labels == np.array([2,0,1])"
   ]
  },
  {
   "cell_type": "code",
   "execution_count": 43,
   "id": "832156eb",
   "metadata": {},
   "outputs": [
    {
     "data": {
      "text/plain": [
       "array([False,  True, False])"
      ]
     },
     "execution_count": 43,
     "metadata": {},
     "output_type": "execute_result"
    }
   ],
   "source": [
    "np.array([0,0,1]) == np.array([1,0,0])"
   ]
  },
  {
   "cell_type": "code",
   "execution_count": 50,
   "id": "86b22c21",
   "metadata": {},
   "outputs": [
    {
     "data": {
      "text/plain": [
       "array([{'img_prefix': '../data/CompCars_sv_original_split/val', 'img_info': {'filename': 'Acura_Acura_ILX_3c11ef9e42931b.jpg'}, 'gt_label': array(0, dtype=int64)},\n",
       "       {'img_prefix': '../data/CompCars_sv_original_split/val', 'img_info': {'filename': 'Acura_Acura_ILX_3f182088df7c66.jpg'}, 'gt_label': array(0, dtype=int64)},\n",
       "       {'img_prefix': '../data/CompCars_sv_original_split/val', 'img_info': {'filename': 'Acura_Acura_ILX_7ec5dcfce68270.jpg'}, 'gt_label': array(0, dtype=int64)}],\n",
       "      dtype=object)"
      ]
     },
     "execution_count": 50,
     "metadata": {},
     "output_type": "execute_result"
    }
   ],
   "source": [
    "np.array(dataset.data_infos)[labels==gt]"
   ]
  },
  {
   "cell_type": "code",
   "execution_count": 52,
   "id": "efaafe3b",
   "metadata": {},
   "outputs": [
    {
     "data": {
      "text/plain": [
       "array([{'img_prefix': '../data/CompCars_sv_original_split/val', 'img_info': {'filename': 'Acura_Acura_ILX_3f182088df7c66.jpg'}, 'gt_label': array(0, dtype=int64)}],\n",
       "      dtype=object)"
      ]
     },
     "execution_count": 52,
     "metadata": {},
     "output_type": "execute_result"
    }
   ],
   "source": [
    "np.array(dataset.data_infos)[labels==np.array([2,0,1])]"
   ]
  },
  {
   "cell_type": "code",
   "execution_count": 68,
   "id": "ae1f5233",
   "metadata": {},
   "outputs": [
    {
     "data": {
      "text/plain": [
       "['Acura_Acura_ILX_3c11ef9e42931b.jpg 0_0',\n",
       " 'Acura_Acura_ILX_3f182088df7c66.jpg 0_0',\n",
       " 'Acura_Acura_ILX_7ec5dcfce68270.jpg 0_0']"
      ]
     },
     "execution_count": 68,
     "metadata": {},
     "output_type": "execute_result"
    }
   ],
   "source": [
    "[match['img_info']['filename'] + \" \" + str(match['gt_label'].item()) + \"_0\" for match in np.array(dataset.data_infos)[labels==gt]]"
   ]
  },
  {
   "cell_type": "code",
   "execution_count": 75,
   "id": "76de6bb5",
   "metadata": {},
   "outputs": [
    {
     "data": {
      "text/plain": [
       "['Acura_Acura_ILX_3c11ef9e42931b.jpg 0_0',\n",
       " 'Acura_Acura_ILX_7ec5dcfce68270.jpg 0_0']"
      ]
     },
     "execution_count": 75,
     "metadata": {},
     "output_type": "execute_result"
    }
   ],
   "source": [
    "[match['img_info']['filename'] + \" \" + str(match['gt_label'].item()) + \"_0\" for match in np.array(dataset.data_infos)[np.logical_not(labels==np.array([2,0,1]))]]"
   ]
  },
  {
   "cell_type": "code",
   "execution_count": null,
   "id": "15d5d379",
   "metadata": {},
   "outputs": [],
   "source": []
  }
 ],
 "metadata": {
  "kernelspec": {
   "display_name": "Python 3 (ipykernel)",
   "language": "python",
   "name": "python3"
  },
  "language_info": {
   "codemirror_mode": {
    "name": "ipython",
    "version": 3
   },
   "file_extension": ".py",
   "mimetype": "text/x-python",
   "name": "python",
   "nbconvert_exporter": "python",
   "pygments_lexer": "ipython3",
   "version": "3.10.4"
  }
 },
 "nbformat": 4,
 "nbformat_minor": 5
}
