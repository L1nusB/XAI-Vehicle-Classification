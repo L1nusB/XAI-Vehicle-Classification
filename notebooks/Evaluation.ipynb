{
 "cells": [
  {
   "cell_type": "code",
   "execution_count": 1,
   "id": "15c28976",
   "metadata": {},
   "outputs": [
    {
     "name": "stdout",
     "output_type": "stream",
     "text": [
      "Importing BlurSegments step into Pipeline\n"
     ]
    }
   ],
   "source": [
    "%load_ext autoreload\n",
    "%autoreload 2\n",
    "\n",
    "import numpy as np\n",
    "import os\n",
    "import mmcv\n",
    "import importlib\n",
    "import torch\n",
    "import torchvision.transforms as transforms\n",
    "from mmcv import Config\n",
    "from mmcls.datasets.pipelines import Compose\n",
    "from mmcls.models.builder import build_classifier\n",
    "import matplotlib.pyplot as plt\n",
    "import matplotlib.image as mpimg\n",
    "import matplotlib.gridspec as gridspec\n",
    "from matplotlib import cm\n",
    "from PIL import Image\n",
    "import heapq\n",
    "from mmseg.apis import inference_segmentor, init_segmentor\n",
    "from mmseg.core.evaluation import get_palette\n",
    "from mmseg.datasets.builder import build_dataset, build_dataloader, DATASETS\n",
    "from pytorch_grad_cam.utils.image import show_cam_on_image\n",
    "import cv2\n",
    "import pandas\n",
    "import json\n",
    "import seaborn as sns\n",
    "\n",
    "import sys\n",
    "\n",
    "module_path = os.path.abspath(os.path.join('..'))\n",
    "if module_path not in sys.path:\n",
    "    sys.path.append(module_path)\n",
    "    \n",
    "\n",
    "from scripts import generate_statistics_single\n",
    "from scripts import visualization_seg_masks\n",
    "from scripts import generate_statistics\n",
    "from scripts import generate_cams\n",
    "from scripts import utils\n",
    "from scripts.utils.pipeline import get_pipeline_torchvision\n",
    "from scripts import generate_segs\n",
    "from scripts import visualize_cam_results\n",
    "from scripts.utils.BlurDataset import get_blurred_dataset\n",
    "from scripts.utils import preprocessing, io\n",
    "from scripts.utils.model import get_wrongly_classified\n",
    "from scripts.utils.evaluation import compare_original_blurred, get_eval_metrics\n",
    "from scripts import evaluate_effectiveness"
   ]
  },
  {
   "cell_type": "code",
   "execution_count": 3,
   "id": "007092a5",
   "metadata": {},
   "outputs": [],
   "source": [
    "configSeg = '../segmentation/ocrnet_hr48_512x512_carparts_noflip/ocrnet_hr48_512x512_carparts_noflip.py'\n",
    "checkpointSeg = '../segmentation/ocrnet_hr48_512x512_carparts_noflip/latest.pth'\n",
    "\n",
    "segDataPathOriginal = 'G:/XAI-Vehicle-Classification/preGenData/Segmentations/CompCars_Original/valAllSegs.npz'\n",
    "segDataPathColor = 'G:/XAI-Vehicle-Classification/preGenData/Segmentations/CompCars_Color/valAllSegs.npz'\n",
    "segDataPathWeb = 'G:/XAI-Vehicle-Classification/preGenData/Segmentations/CompCars_Web/valAllSegs.npz'\n",
    "segDataPathStanford = 'G:/XAI-Vehicle-Classification/preGenData/Segmentations/StanfordCars_Original/valAllSegs.npz'\n",
    "\n",
    "paletteName='Comp_Original_Ocrnet_Carparts_Noflip'\n",
    "\n",
    "segDataPathOG = 'G:/XAI-Vehicle-Classification/preGenData/Segmentations/CompCars_Original/valAllSegs.npz'\n",
    "segDataPathNoScaleOG = 'G:/XAI-Vehicle-Classification/preGenData/Segmentations/CompCars_Original/valAllSegsNoScale.npz'\n",
    "\n",
    "camDataGradCAM = 'G:/XAI-Vehicle-Classification/preGenData/CompCars_original/ResNet/valAllCAMs.npz'\n",
    "camDataEigenCAM = 'G:/XAI-Vehicle-Classification/preGenData/CompCars_original/ResNet/valAllCAMsEigen.npz'\n",
    "camDataEigenGrad = 'G:/XAI-Vehicle-Classification/preGenData/CompCars_original/ResNet/valAllCAMsEigenGrad.npz'\n",
    "camDataGradCAMGPU = 'G:/XAI-Vehicle-Classification/preGenData/CompCars_original/ResNet/valAllCAMsGPU.npz'\n",
    "camDataGradCAMPlusPlus = 'G:/XAI-Vehicle-Classification/preGenData/CompCars_original/ResNet/valAllCAMsGrad++.npz'\n",
    "camDataLayerCAM = 'G:/XAI-Vehicle-Classification/preGenData/CompCars_original/ResNet/valAllCAMsLayer.npz'\n",
    "camDataXCAM = 'G:/XAI-Vehicle-Classification/preGenData/CompCars_original/ResNet/valAllCAMsXGrad.npz'\n",
    "\n",
    "imgRootValOriginal = '../data/CompCars_sv_original_split/val'\n",
    "imgRootValColor = '../data/CompCars_sv_color_split/val'\n",
    "imgRootValWeb = '../data/CompCars_web_original_split/val'\n",
    "imgRootValStandford = '../data/StanfordCars_original_split/val'\n",
    "\n",
    "blurBackgroundImgRootOriginal = '../data/CompCars_sv_original_split/blurred/blurredBackground'\n",
    "blurBackgrdHoodFBumperImgRootOriginal = '../data/CompCars_sv_original_split/blurred/blurredBackground_Hood_FBumper'\n",
    "blurFLLightHoodFBumperImgRootOriginal = '../data/CompCars_sv_original_split/blurred/blurredFLLight_Hood_FBumper'\n",
    "blurFLLightImgRootOriginal = '../data/CompCars_sv_original_split/blurred/blurredFrontLeftLight'\n",
    "\n",
    "blurWhiteBackgroundImgRootOriginal = '../data/CompCars_sv_original_split/blurred/blurredBackgroundWhite'\n",
    "blurWhiteBackgrdHoodFBumperImgRootOriginal = '../data/CompCars_sv_original_split/blurred/blurredBackground_Hood_FBumperWhite'\n",
    "blurWhiteFLLightHoodFBumperImgRootOriginal = '../data/CompCars_sv_original_split/blurred/blurredFLLight_Hood_FBumperWhite'\n",
    "blurWhiteFLLightImgRootOriginal = '../data/CompCars_sv_original_split/blurred/blurredFrontLeftLightWhite'\n",
    "\n",
    "annfileValOriginal = '../data/CompCars_sv_original_split/meta/val.txt'\n",
    "annfileValColor = '../data/CompCars_sv_color_split/meta/val.txt'\n",
    "annfileValWeb = '../data/CompCars_web_original_split/meta/val.txt'\n",
    "annfileValStanford = '../data/StanfordCars_original_split/meta/val.txt'\n",
    "\n",
    "dirResOG = 'G:/results/CompCars_original/ResNet'\n",
    "dirResCol = 'G:/results/CompCars_Color/ResNet'\n",
    "dirResWeb = 'G:/results/CompCars_Web/ResNet'\n",
    "\n",
    "dirSwinBaseOG = 'G:/results/CompCars_original/SwinBase'\n",
    "dirSwinBaseCol = 'G:/results/CompCars_Color/SwinBase'\n",
    "dirSwinBaseWeb = 'G:/results/CompCars_Web/SwinBase'\n",
    "\n",
    "dirSwinSmallOG = 'G:/results/CompCars_original/SwinSmall'\n",
    "dirSwinSmallCol = 'G:/results/CompCars_Color/SwinSmall'\n",
    "dirSwinSmallWeb = 'G:/results/CompCars_Web/SwinSmall'\n",
    "\n",
    "configCAMResOriginal = '../CAMModels/resnet/compCars_Original/resnet50_b128x2_compcars-original-split.py'\n",
    "checkpointCAMResOriginal = '../CAMModels/resnet/compCars_Original/latest.pth'\n",
    "configCAMResColor = '../CAMModels/resnet/compCars_Color/resnet50_b128x2_compcars-color-split.py'\n",
    "checkpointCAMResColor = '../CAMModels/resnet/compCars_Color/latest.pth'\n",
    "configCAMResWeb = '../CAMModels/resnet/compCars_Web/resnet50_b128x2_compcars-web-original-split.py'\n",
    "checkpointCAMResWeb = '../CAMModels/resnet/compCars_Web/latest.pth'\n",
    "configCAMResStanford = '../CAMModels/resnet/stanfordCars_Original/resnet50_b128x2_stanford.py'\n",
    "checkpointCAMResStanford = '../CAMModels/resnet/stanfordCars_Original/latest.pth'\n",
    "\n",
    "configCAMSwinBaseOriginal = '../CAMModels/swinBase/compCars_Original/swin-base_b128x2_compcars-original-split.py'\n",
    "checkpointCAMSwinBaseOriginal = '../CAMModels/swinBase/compCars_Original/latest.pth'\n",
    "configCAMSwinBaseColor = '../CAMModels/swinBase/compCars_Color/swin-base_b128x2_compcars-color-split.py'\n",
    "checkpointCAMSwinBaseColor = '../CAMModels/swinBase/compCars_Color/latest.pth'\n",
    "configCAMSwinBaseWeb = '../CAMModels/swinBase/compCars_Web/swin-base_b128x2_compcars-web-original-split.py'\n",
    "checkpointCAMSwinBaseWeb = '../CAMModels/swinBase/compCars_Web/latest.pth'\n",
    "configCAMSwinBaseStanford = '../CAMModels/swinBase/stanfordCars_Original/swin-base_b128x2_stanford.py'\n",
    "checkpointCAMSwinBaseStanford = '../CAMModels/swinBase/stanfordCars_Original/latest.pth'\n",
    "\n",
    "configCAMSwinSmallOriginal = '../CAMModels/swinSmall/compCars_Original/swin-small_b128x2_compcars-original-split.py'\n",
    "checkpointCAMSwinSmallOriginal = '../CAMModels/swinSmall/compCars_Original/latest.pth'\n",
    "configCAMSwinSmallColor = '../CAMModels/swinSmall/compCars_Color/swin-small_b128x2_compcars-color-split.py'\n",
    "checkpointCAMSwinSmallColor = '../CAMModels/swinSmall/compCars_Color/latest.pth'\n",
    "configCAMSwinSmallWeb = '../CAMModels/swinSmall/compCars_Web/swin-small_b128x2_compcars-web-original-split.py'\n",
    "checkpointCAMSwinSmallWeb = '../CAMModels/swinSmall/compCars_Web/latest.pth'\n",
    "configCAMSwinSmallStanford = '../CAMModels/swinSmall/stanfordCars_Original/swin-small_b128x2_stanford.py'\n",
    "checkpointCAMSwinSmallStanford = '../CAMModels/swinSmall/stanfordCars_Original/latest.pth'\n",
    "\n",
    "eval_data_original_res = 'G:/results/CompCars_original/eval_results_resnet.json'\n",
    "eval_data_original_swinbase = 'G:/results/CompCars_original/eval_results_swinbase.json'\n",
    "eval_data_original_swinsmall = 'G:/results/CompCars_original/eval_results_swinsmall.json'\n",
    "\n",
    "eval_data_color_res = 'G:/results/CompCars_Color/eval_results_resnet.json'\n",
    "eval_data_color_swinbase = 'G:/results/CompCars_Color/eval_results_swinbase.json'\n",
    "eval_data_color_swinsmall = 'G:/results/CompCars_Color/eval_results_swinsmall.json'\n",
    "\n",
    "eval_data_web_res = 'G:/results/CompCars_Web/eval_results_resnet.json'\n",
    "eval_data_web_swinbase = 'G:/results/CompCars_Web/eval_results_swinbase.json'\n",
    "eval_data_web_swinsmall = 'G:/results/CompCars_Web/eval_results_swinsmall.json'\n",
    "\n",
    "eval_data_stanford_res = 'G:/results/StanfordCars_Original/eval_results_resnet.json'\n",
    "eval_data_stanford_swinbase = 'G:/results/StanfordCars_Original/eval_results_swinbase.json'\n",
    "eval_data_stanford_swinsmall = 'G:/results/StanfordCars_Original/eval_results_swinsmall.json'"
   ]
  },
  {
   "cell_type": "code",
   "execution_count": 8,
   "id": "e98d4680",
   "metadata": {},
   "outputs": [
    {
     "name": "stdout",
     "output_type": "stream",
     "text": [
      "[>>>>>>>>>>>>>>>>>>>>>>>>] 13333/13333, 176.2 task/s, elapsed: 76s, ETA:     0s\n"
     ]
    }
   ],
   "source": [
    "generate_cams.saveImgsFromFile('G:/XAI-Vehicle-Classification/preGenData/blurredBackground/CompCars_Original/SwinSmall/valAllCAMsLayerGPU.npz',\n",
    "                              saveDir='CAMSwinSmallBlurBackgroundLayer')"
   ]
  },
  {
   "cell_type": "code",
   "execution_count": 3,
   "id": "1c171e31",
   "metadata": {
    "scrolled": true
   },
   "outputs": [
    {
     "name": "stdout",
     "output_type": "stream",
     "text": [
      "Evaluating original model vs blurred background.\n",
      "Evaluating original model vs blurred where segments background are blurred.\n",
      "Created filtered annotation file at results/CompCars_Original/ResNet/background\\annfile_filtered.txt\n",
      "Using standard dataset on blurred data at directory ../data/CompCars_sv_original_split/blurred/blurredBackground\n",
      "Model already on GPU\n",
      "Using given evaluation data of original model.\n",
      "Loading data from Json G:/results/CompCars_original/eval_results_resnet.json\n",
      "Computing Evaluation Metrics for Blurred Dataset\n",
      "[>>>>>>>>>>>>>>>>>>>>>>>>] 13333/13333, 256.8 task/s, elapsed: 52s, ETA:     0s\n",
      "Saving json data to results/CompCars_Original/ResNet/background\\eval_results_blurred.json\n",
      "Add total Change and improvement of original over blurred\n",
      "Saving evaluation results to results/CompCars_Original/ResNet/background\\evalBlurred.xlsx\n",
      "Removing temporary filtered annotation file results/CompCars_Original/ResNet/background\\annfile_filtered.txt\n",
      "Evaluating original model vs blurred background.\n",
      "Evaluating original model vs blurred where segments background are blurred.\n",
      "Created filtered annotation file at results/CompCars_Original/SwinBase/background\\annfile_filtered.txt\n",
      "Using standard dataset on blurred data at directory ../data/CompCars_sv_original_split/blurred/blurredBackground\n",
      "Model already on GPU\n",
      "Using given evaluation data of original model.\n",
      "Loading data from Json G:/results/CompCars_original/eval_results_swinbase.json\n",
      "Computing Evaluation Metrics for Blurred Dataset\n",
      "[>>>>>>>>>>>>>>>>>>>>>>>>] 13333/13333, 178.5 task/s, elapsed: 75s, ETA:     0s\n",
      "Saving json data to results/CompCars_Original/SwinBase/background\\eval_results_blurred.json\n",
      "Add total Change and improvement of original over blurred\n",
      "Saving evaluation results to results/CompCars_Original/SwinBase/background\\evalBlurred.xlsx\n",
      "Removing temporary filtered annotation file results/CompCars_Original/SwinBase/background\\annfile_filtered.txt\n",
      "Evaluating original model vs blurred background.\n",
      "Evaluating original model vs blurred where segments background are blurred.\n",
      "Created filtered annotation file at results/CompCars_Original/SwinSmall/background\\annfile_filtered.txt\n",
      "Using standard dataset on blurred data at directory ../data/CompCars_sv_original_split/blurred/blurredBackground\n",
      "Model already on GPU\n",
      "Using given evaluation data of original model.\n",
      "Loading data from Json G:/results/CompCars_original/eval_results_swinsmall.json\n",
      "Computing Evaluation Metrics for Blurred Dataset\n",
      "[>>>>>>>>>>>>>>>>>>>>>>>>] 13333/13333, 209.3 task/s, elapsed: 64s, ETA:     0s\n",
      "Saving json data to results/CompCars_Original/SwinSmall/background\\eval_results_blurred.json\n",
      "Add total Change and improvement of original over blurred\n",
      "Saving evaluation results to results/CompCars_Original/SwinSmall/background\\evalBlurred.xlsx\n",
      "Removing temporary filtered annotation file results/CompCars_Original/SwinSmall/background\\annfile_filtered.txt\n"
     ]
    }
   ],
   "source": [
    "evaluate_effectiveness.evaluate_blurred_background(imgRoot=imgRootValOriginal, classifierConfig=configCAMResOriginal, \n",
    "                                                classifierCheckpoint=checkpointCAMResOriginal, annfile=annfileValOriginal,\n",
    "                                                segData=segDataPathNoScaleOG, segConfig=configSeg,\n",
    "                                                segCheckpoint=checkpointSeg,  \n",
    "                                                saveDir='results/CompCars_Original/ResNet/background', \n",
    "                                                eval_data_original=eval_data_original_res, \n",
    "                                                imgRootBlurred=blurBackgroundImgRootOriginal)\n",
    "evaluate_effectiveness.evaluate_blurred_background(imgRoot=imgRootValOriginal, classifierConfig=configCAMSwinBaseOriginal, \n",
    "                                                classifierCheckpoint=checkpointCAMSwinBaseOriginal, annfile=annfileValOriginal,\n",
    "                                                segData=segDataPathNoScaleOG, segConfig=configSeg,\n",
    "                                                segCheckpoint=checkpointSeg,  \n",
    "                                                saveDir='results/CompCars_Original/SwinBase/background', \n",
    "                                                eval_data_original=eval_data_original_swinbase, \n",
    "                                                imgRootBlurred=blurBackgroundImgRootOriginal)\n",
    "evaluate_effectiveness.evaluate_blurred_background(imgRoot=imgRootValOriginal, classifierConfig=configCAMSwinSmallOriginal, \n",
    "                                                classifierCheckpoint=checkpointCAMSwinSmallOriginal, annfile=annfileValOriginal,\n",
    "                                                segData=segDataPathNoScaleOG, segConfig=configSeg,\n",
    "                                                segCheckpoint=checkpointSeg,  \n",
    "                                                saveDir='results/CompCars_Original/SwinSmall/background', \n",
    "                                                eval_data_original=eval_data_original_swinsmall, \n",
    "                                                imgRootBlurred=blurBackgroundImgRootOriginal)"
   ]
  },
  {
   "cell_type": "code",
   "execution_count": 5,
   "id": "2e577a7b",
   "metadata": {},
   "outputs": [
    {
     "name": "stdout",
     "output_type": "stream",
     "text": [
      "Evaluating metrics on model.\n",
      "Created filtered annotation file at ./annfile_filtered.txt\n",
      "[>>>>>>>>>>>>>>>>>>>>>>>>] 13333/13333, 195.0 task/s, elapsed: 68s, ETA:     0s\n",
      "Saving json data to results/CompCars_Original/SwinSmall/blurBackgrdWhite\\eval_results_swinsmall.json\n"
     ]
    }
   ],
   "source": [
    "get_eval_metrics(configCAMSwinSmallOriginal, checkpointCAMSwinSmallOriginal, blurWhiteBackgroundImgRootOriginal, \n",
    "                 annfileValOriginal, saveDir='results/CompCars_Original/SwinSmall/blurBackgrdWhite', \n",
    "                 fileName='eval_results_swinsmall')"
   ]
  },
  {
   "cell_type": "code",
   "execution_count": 4,
   "id": "a7cb735f",
   "metadata": {},
   "outputs": [
    {
     "name": "stdout",
     "output_type": "stream",
     "text": [
      "Evaluating original model vs blurred background.\n",
      "Evaluating original model vs blurred where segments background are blurred.\n",
      "Created filtered annotation file at results/CompCars_Original/SwinSmall/blurBackgrdWhite\\annfile_filtered.txt\n",
      "Using standard dataset on blurred data at directory ../data/CompCars_sv_original_split/blurred/blurredBackgroundWhite\n",
      "Model already on GPU\n",
      "Using given evaluation data of original model.\n",
      "Loading data from Json G:/results/CompCars_original/eval_results_swinsmall.json\n",
      "Computing Evaluation Metrics for Blurred Dataset\n",
      "[>>>>>>>>>>>>>>>>>>>>>>>>] 13333/13333, 176.1 task/s, elapsed: 76s, ETA:     0s\n",
      "Saving json data to results/CompCars_Original/SwinSmall/blurBackgrdWhite\\eval_results_blurred.json\n",
      "Add total Change and improvement of original over blurred\n",
      "Saving evaluation results to results/CompCars_Original/SwinSmall/blurBackgrdWhite\\evalBlurred.xlsx\n",
      "Removing temporary filtered annotation file results/CompCars_Original/SwinSmall/blurBackgrdWhite\\annfile_filtered.txt\n"
     ]
    }
   ],
   "source": [
    "evaluate_effectiveness.evaluate_blurred_background(imgRoot=imgRootValOriginal, classifierConfig=configCAMSwinSmallOriginal, \n",
    "                                                classifierCheckpoint=checkpointCAMSwinSmallOriginal, annfile=annfileValOriginal,\n",
    "                                                segData=segDataPathNoScaleOG, segConfig=configSeg,\n",
    "                                                segCheckpoint=checkpointSeg,  \n",
    "                                                saveDir='results/CompCars_Original/SwinSmall/blurBackgrdWhite', \n",
    "                                                eval_data_original=eval_data_original_swinsmall, \n",
    "                                                imgRootBlurred=blurWhiteBackgroundImgRootOriginal)"
   ]
  },
  {
   "cell_type": "code",
   "execution_count": null,
   "id": "3ecda443",
   "metadata": {},
   "outputs": [],
   "source": []
  }
 ],
 "metadata": {
  "kernelspec": {
   "display_name": "Python 3 (ipykernel)",
   "language": "python",
   "name": "python3"
  },
  "language_info": {
   "codemirror_mode": {
    "name": "ipython",
    "version": 3
   },
   "file_extension": ".py",
   "mimetype": "text/x-python",
   "name": "python",
   "nbconvert_exporter": "python",
   "pygments_lexer": "ipython3",
   "version": "3.10.4"
  }
 },
 "nbformat": 4,
 "nbformat_minor": 5
}
