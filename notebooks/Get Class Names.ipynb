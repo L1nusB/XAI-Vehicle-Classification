{
 "cells": [
  {
   "cell_type": "code",
   "execution_count": 3,
   "id": "375fc421",
   "metadata": {},
   "outputs": [],
   "source": [
    "import os\n",
    "import math"
   ]
  },
  {
   "cell_type": "code",
   "execution_count": 4,
   "id": "9758e01c",
   "metadata": {},
   "outputs": [],
   "source": [
    "p = 'C:/Users/Linus/Desktop/mmclassification/data/StanfordCars_original_split/meta/val.txt'"
   ]
  },
  {
   "cell_type": "code",
   "execution_count": 5,
   "id": "0d3f7842",
   "metadata": {},
   "outputs": [],
   "source": [
    "def test(file):\n",
    "    with open(file, encoding='utf-8') as f:\n",
    "        maxIndex = 0\n",
    "        samples = [line.strip().rsplit(' ',1) for line in f.readlines()]\n",
    "        for _, index in samples:\n",
    "            maxIndex = max((int)(index.split('_')[0]), maxIndex)\n",
    "        l = [''] * (maxIndex+1)\n",
    "        for name, index in samples:\n",
    "            l[(int)(index.split('_')[0])] = \"_\".join(name.split('_')[:-1])\n",
    "    return l\n",
    "        "
   ]
  },
  {
   "cell_type": "code",
   "execution_count": 6,
   "id": "441276c0",
   "metadata": {},
   "outputs": [],
   "source": [
    "s = test(p)"
   ]
  },
  {
   "cell_type": "code",
   "execution_count": 7,
   "id": "09bc58fb",
   "metadata": {},
   "outputs": [
    {
     "data": {
      "text/plain": [
       "['AM_General_Hummer_SUV_2000',\n",
       " 'Acura_RL_Sedan_2012',\n",
       " 'Acura_TL_Sedan_2012',\n",
       " 'Acura_TL_Type-S_2008',\n",
       " 'Acura_TSX_Sedan_2012',\n",
       " 'Acura_Integra_Type_R_2001',\n",
       " 'Acura_ZDX_Hatchback_2012',\n",
       " 'Aston_Martin_V8_Vantage_Convertible_2012',\n",
       " 'Aston_Martin_V8_Vantage_Coupe_2012',\n",
       " 'Aston_Martin_Virage_Convertible_2012',\n",
       " 'Aston_Martin_Virage_Coupe_2012',\n",
       " 'Audi_RS_4_Convertible_2008',\n",
       " 'Audi_A5_Coupe_2012',\n",
       " 'Audi_TTS_Coupe_2012',\n",
       " 'Audi_R8_Coupe_2012',\n",
       " 'Audi_V8_Sedan_1994',\n",
       " 'Audi_100_Sedan_1994',\n",
       " 'Audi_100_Wagon_1994',\n",
       " 'Audi_TT_Hatchback_2011',\n",
       " 'Audi_S6_Sedan_2011',\n",
       " 'Audi_S5_Convertible_2012',\n",
       " 'Audi_S5_Coupe_2012',\n",
       " 'Audi_S4_Sedan_2012',\n",
       " 'Audi_S4_Sedan_2007',\n",
       " 'Audi_TT_RS_Coupe_2012',\n",
       " 'BMW_ActiveHybrid_5_Sedan_2012',\n",
       " 'BMW_1_Series_Convertible_2012',\n",
       " 'BMW_1_Series_Coupe_2012',\n",
       " 'BMW_3_Series_Sedan_2012',\n",
       " 'BMW_3_Series_Wagon_2012',\n",
       " 'BMW_6_Series_Convertible_2007',\n",
       " 'BMW_X5_SUV_2007',\n",
       " 'BMW_X6_SUV_2012',\n",
       " 'BMW_M3_Coupe_2012',\n",
       " 'BMW_M5_Sedan_2010',\n",
       " 'BMW_M6_Convertible_2010',\n",
       " 'BMW_X3_SUV_2012',\n",
       " 'BMW_Z4_Convertible_2012',\n",
       " 'Bentley_Continental_Supersports_Conv._Convertible_2012',\n",
       " 'Bentley_Arnage_Sedan_2009',\n",
       " 'Bentley_Mulsanne_Sedan_2011',\n",
       " 'Bentley_Continental_GT_Coupe_2012',\n",
       " 'Bentley_Continental_GT_Coupe_2007',\n",
       " 'Bentley_Continental_Flying_Spur_Sedan_2007',\n",
       " 'Bugatti_Veyron_16.4_Convertible_2009',\n",
       " 'Bugatti_Veyron_16.4_Coupe_2009',\n",
       " 'Buick_Regal_GS_2012',\n",
       " 'Buick_Rainier_SUV_2007',\n",
       " 'Buick_Verano_Sedan_2012',\n",
       " 'Buick_Enclave_SUV_2012',\n",
       " 'Cadillac_CTS-V_Sedan_2012',\n",
       " 'Cadillac_SRX_SUV_2012',\n",
       " 'Cadillac_Escalade_EXT_Crew_Cab_2007',\n",
       " 'Chevrolet_Silverado_1500_Hybrid_Crew_Cab_2012',\n",
       " 'Chevrolet_Corvette_Convertible_2012',\n",
       " 'Chevrolet_Corvette_ZR1_2012',\n",
       " 'Chevrolet_Corvette_Ron_Fellows_Edition_Z06_2007',\n",
       " 'Chevrolet_Traverse_SUV_2012',\n",
       " 'Chevrolet_Camaro_Convertible_2012',\n",
       " 'Chevrolet_HHR_SS_2010',\n",
       " 'Chevrolet_Impala_Sedan_2007',\n",
       " 'Chevrolet_Tahoe_Hybrid_SUV_2012',\n",
       " 'Chevrolet_Sonic_Sedan_2012',\n",
       " 'Chevrolet_Express_Cargo_Van_2007',\n",
       " 'Chevrolet_Avalanche_Crew_Cab_2012',\n",
       " 'Chevrolet_Cobalt_SS_2010',\n",
       " 'Chevrolet_Malibu_Hybrid_Sedan_2010',\n",
       " 'Chevrolet_TrailBlazer_SS_2009',\n",
       " 'Chevrolet_Silverado_2500HD_Regular_Cab_2012',\n",
       " 'Chevrolet_Silverado_1500_Classic_Extended_Cab_2007',\n",
       " 'Chevrolet_Express_Van_2007',\n",
       " 'Chevrolet_Monte_Carlo_Coupe_2007',\n",
       " 'Chevrolet_Malibu_Sedan_2007',\n",
       " 'Chevrolet_Silverado_1500_Extended_Cab_2012',\n",
       " 'Chevrolet_Silverado_1500_Regular_Cab_2012',\n",
       " 'Chrysler_Aspen_SUV_2009',\n",
       " 'Chrysler_Sebring_Convertible_2010',\n",
       " 'Chrysler_Town_and_Country_Minivan_2012',\n",
       " 'Chrysler_300_SRT-8_2010',\n",
       " 'Chrysler_Crossfire_Convertible_2008',\n",
       " 'Chrysler_PT_Cruiser_Convertible_2008',\n",
       " 'Daewoo_Nubira_Wagon_2002',\n",
       " 'Dodge_Caliber_Wagon_2012',\n",
       " 'Dodge_Caliber_Wagon_2007',\n",
       " 'Dodge_Caravan_Minivan_1997',\n",
       " 'Dodge_Ram_Pickup_3500_Crew_Cab_2010',\n",
       " 'Dodge_Ram_Pickup_3500_Quad_Cab_2009',\n",
       " 'Dodge_Sprinter_Cargo_Van_2009',\n",
       " 'Dodge_Journey_SUV_2012',\n",
       " 'Dodge_Dakota_Crew_Cab_2010',\n",
       " 'Dodge_Dakota_Club_Cab_2007',\n",
       " 'Dodge_Magnum_Wagon_2008',\n",
       " 'Dodge_Challenger_SRT8_2011',\n",
       " 'Dodge_Durango_SUV_2012',\n",
       " 'Dodge_Durango_SUV_2007',\n",
       " 'Dodge_Charger_Sedan_2012',\n",
       " 'Dodge_Charger_SRT-8_2009',\n",
       " 'Eagle_Talon_Hatchback_1998',\n",
       " 'FIAT_500_Abarth_2012',\n",
       " 'FIAT_500_Convertible_2012',\n",
       " 'Ferrari_FF_Coupe_2012',\n",
       " 'Ferrari_California_Convertible_2012',\n",
       " 'Ferrari_458_Italia_Convertible_2012',\n",
       " 'Ferrari_458_Italia_Coupe_2012',\n",
       " 'Fisker_Karma_Sedan_2012',\n",
       " 'Ford_F-450_Super_Duty_Crew_Cab_2012',\n",
       " 'Ford_Mustang_Convertible_2007',\n",
       " 'Ford_Freestar_Minivan_2007',\n",
       " 'Ford_Expedition_EL_SUV_2009',\n",
       " 'Ford_Edge_SUV_2012',\n",
       " 'Ford_Ranger_SuperCab_2011',\n",
       " 'Ford_GT_Coupe_2006',\n",
       " 'Ford_F-150_Regular_Cab_2012',\n",
       " 'Ford_F-150_Regular_Cab_2007',\n",
       " 'Ford_Focus_Sedan_2007',\n",
       " 'Ford_E-Series_Wagon_Van_2012',\n",
       " 'Ford_Fiesta_Sedan_2012',\n",
       " 'GMC_Terrain_SUV_2012',\n",
       " 'GMC_Savana_Van_2012',\n",
       " 'GMC_Yukon_Hybrid_SUV_2012',\n",
       " 'GMC_Acadia_SUV_2012',\n",
       " 'GMC_Canyon_Extended_Cab_2012',\n",
       " 'Geo_Metro_Convertible_1993',\n",
       " 'HUMMER_H3T_Crew_Cab_2010',\n",
       " 'HUMMER_H2_SUT_Crew_Cab_2009',\n",
       " 'Honda_Odyssey_Minivan_2012',\n",
       " 'Honda_Odyssey_Minivan_2007',\n",
       " 'Honda_Accord_Coupe_2012',\n",
       " 'Honda_Accord_Sedan_2012',\n",
       " 'Hyundai_Veloster_Hatchback_2012',\n",
       " 'Hyundai_Santa_Fe_SUV_2012',\n",
       " 'Hyundai_Tucson_SUV_2012',\n",
       " 'Hyundai_Veracruz_SUV_2012',\n",
       " 'Hyundai_Sonata_Hybrid_Sedan_2012',\n",
       " 'Hyundai_Elantra_Sedan_2007',\n",
       " 'Hyundai_Accent_Sedan_2012',\n",
       " 'Hyundai_Genesis_Sedan_2012',\n",
       " 'Hyundai_Sonata_Sedan_2012',\n",
       " 'Hyundai_Elantra_Touring_Hatchback_2012',\n",
       " 'Hyundai_Azera_Sedan_2012',\n",
       " 'Infiniti_G_Coupe_IPL_2012',\n",
       " 'Infiniti_QX56_SUV_2011',\n",
       " 'Isuzu_Ascender_SUV_2008',\n",
       " 'Jaguar_XK_XKR_2012',\n",
       " 'Jeep_Patriot_SUV_2012',\n",
       " 'Jeep_Wrangler_SUV_2012',\n",
       " 'Jeep_Liberty_SUV_2012',\n",
       " 'Jeep_Grand_Cherokee_SUV_2012',\n",
       " 'Jeep_Compass_SUV_2012',\n",
       " 'Lamborghini_Reventon_Coupe_2008',\n",
       " 'Lamborghini_Aventador_Coupe_2012',\n",
       " 'Lamborghini_Gallardo_LP_570-4_Superleggera_2012',\n",
       " 'Lamborghini_Diablo_Coupe_2001',\n",
       " 'Land_Rover_Range_Rover_SUV_2012',\n",
       " 'Land_Rover_LR2_SUV_2012',\n",
       " 'Lincoln_Town_Car_Sedan_2011',\n",
       " 'MINI_Cooper_Roadster_Convertible_2012',\n",
       " 'Maybach_Landaulet_Convertible_2012',\n",
       " 'Mazda_Tribute_SUV_2011',\n",
       " 'McLaren_MP4-12C_Coupe_2012',\n",
       " 'Mercedes-Benz_300-Class_Convertible_1993',\n",
       " 'Mercedes-Benz_C-Class_Sedan_2012',\n",
       " 'Mercedes-Benz_SL-Class_Coupe_2009',\n",
       " 'Mercedes-Benz_E-Class_Sedan_2012',\n",
       " 'Mercedes-Benz_S-Class_Sedan_2012',\n",
       " 'Mercedes-Benz_Sprinter_Van_2012',\n",
       " 'Mitsubishi_Lancer_Sedan_2012',\n",
       " 'Nissan_Leaf_Hatchback_2012',\n",
       " 'Nissan_NV_Passenger_Van_2012',\n",
       " 'Nissan_Juke_Hatchback_2012',\n",
       " 'Nissan_240SX_Coupe_1998',\n",
       " 'Plymouth_Neon_Coupe_1999',\n",
       " 'Porsche_Panamera_Sedan_2012',\n",
       " 'Ram_CV_Cargo_Van_Minivan_2012',\n",
       " 'Rolls-Royce_Phantom_Drophead_Coupe_Convertible_2012',\n",
       " 'Rolls-Royce_Ghost_Sedan_2012',\n",
       " 'Rolls-Royce_Phantom_Sedan_2012',\n",
       " 'Scion_xD_Hatchback_2012',\n",
       " 'Spyker_C8_Convertible_2009',\n",
       " 'Spyker_C8_Coupe_2009',\n",
       " 'Suzuki_Aerio_Sedan_2007',\n",
       " 'Suzuki_Kizashi_Sedan_2012',\n",
       " 'Suzuki_SX4_Hatchback_2012',\n",
       " 'Suzuki_SX4_Sedan_2012',\n",
       " 'Tesla_Model_S_Sedan_2012',\n",
       " 'Toyota_Sequoia_SUV_2012',\n",
       " 'Toyota_Camry_Sedan_2012',\n",
       " 'Toyota_Corolla_Sedan_2012',\n",
       " 'Toyota_4Runner_SUV_2012',\n",
       " 'Volkswagen_Golf_Hatchback_2012',\n",
       " 'Volkswagen_Golf_Hatchback_1991',\n",
       " 'Volkswagen_Beetle_Hatchback_2012',\n",
       " 'Volvo_C30_Hatchback_2012',\n",
       " 'Volvo_240_Sedan_1993',\n",
       " 'Volvo_XC90_SUV_2007',\n",
       " 'smart_fortwo_Convertible_2012']"
      ]
     },
     "execution_count": 7,
     "metadata": {},
     "output_type": "execute_result"
    }
   ],
   "source": [
    "s"
   ]
  },
  {
   "cell_type": "code",
   "execution_count": 22,
   "id": "b053c42f",
   "metadata": {},
   "outputs": [
    {
     "data": {
      "text/plain": [
       "195"
      ]
     },
     "execution_count": 22,
     "metadata": {},
     "output_type": "execute_result"
    }
   ],
   "source": [
    "len(l)"
   ]
  },
  {
   "cell_type": "code",
   "execution_count": 25,
   "id": "3fe2a746",
   "metadata": {},
   "outputs": [
    {
     "data": {
      "text/plain": [
       "'Audi_TTS_Coupe_2012'"
      ]
     },
     "execution_count": 25,
     "metadata": {},
     "output_type": "execute_result"
    }
   ],
   "source": [
    "l[12]"
   ]
  },
  {
   "cell_type": "code",
   "execution_count": 28,
   "id": "39591f40",
   "metadata": {},
   "outputs": [
    {
     "data": {
      "text/plain": [
       "195"
      ]
     },
     "execution_count": 28,
     "metadata": {},
     "output_type": "execute_result"
    }
   ],
   "source": [
    "len(s)"
   ]
  },
  {
   "cell_type": "code",
   "execution_count": 29,
   "id": "9a4e91a5",
   "metadata": {},
   "outputs": [
    {
     "ename": "IndexError",
     "evalue": "list index out of range",
     "output_type": "error",
     "traceback": [
      "\u001b[1;31m---------------------------------------------------------------------------\u001b[0m",
      "\u001b[1;31mIndexError\u001b[0m                                Traceback (most recent call last)",
      "Input \u001b[1;32mIn [29]\u001b[0m, in \u001b[0;36m<cell line: 1>\u001b[1;34m()\u001b[0m\n\u001b[1;32m----> 1\u001b[0m \u001b[43ms\u001b[49m\u001b[43m[\u001b[49m\u001b[38;5;241;43m195\u001b[39;49m\u001b[43m]\u001b[49m\n",
      "\u001b[1;31mIndexError\u001b[0m: list index out of range"
     ]
    }
   ],
   "source": [
    "s[195]"
   ]
  },
  {
   "cell_type": "code",
   "execution_count": null,
   "id": "142cdf48",
   "metadata": {},
   "outputs": [],
   "source": []
  }
 ],
 "metadata": {
  "kernelspec": {
   "display_name": "Python 3 (ipykernel)",
   "language": "python",
   "name": "python3"
  },
  "language_info": {
   "codemirror_mode": {
    "name": "ipython",
    "version": 3
   },
   "file_extension": ".py",
   "mimetype": "text/x-python",
   "name": "python",
   "nbconvert_exporter": "python",
   "pygments_lexer": "ipython3",
   "version": "3.10.4"
  }
 },
 "nbformat": 4,
 "nbformat_minor": 5
}
