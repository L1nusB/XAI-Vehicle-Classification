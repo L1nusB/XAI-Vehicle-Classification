{
 "cells": [
  {
   "cell_type": "code",
   "execution_count": 1,
   "id": "bfea95bf",
   "metadata": {},
   "outputs": [],
   "source": [
    "from datetime import date\n",
    "import os\n",
    "import numpy as np\n",
    "\n",
    "MAPPING = {\n",
    "    'valAllCAMs_':'gradCAM',\n",
    "    'valAllCAMsEigen_':'EigenCAM',\n",
    "    'valAllCAMsEigenGrad_':'EigenGradCAM',\n",
    "    'valAllCAMsGrad++_':'gradCAM++',\n",
    "    'valAllCAMsLayer_':'LayerCAM',\n",
    "    'valAllCAMsXGrad_':'XGradCAM',\n",
    "}\n",
    "MAPPING_GPU = {\n",
    "    'valAllCAMsGPU_':'gradCAM'\n",
    "}"
   ]
  },
  {
   "cell_type": "code",
   "execution_count": 10,
   "id": "f3cf1b5e",
   "metadata": {},
   "outputs": [],
   "source": [
    "def renameFiles(directory, camModel, dataset,additionals=\"\", prefix='Full', \n",
    "                segModel='ocrnet_hr48_carparts_noflip', timestamp=\"\", fileextension='.jpg',\n",
    "                replacePrefix=\"\"):\n",
    "    if replacePrefix:\n",
    "        newPrefix = replacePrefix\n",
    "    else:\n",
    "        newPrefix = prefix\n",
    "    if timestamp:\n",
    "        dstr = timestamp\n",
    "    else:\n",
    "        dstr = date.today().strftime(\"%d_%m_%Y\")\n",
    "    if additionals:\n",
    "        postfix = additionals + '_' + dstr + fileextension\n",
    "    else:\n",
    "        postfix = dstr + fileextension\n",
    "    for file in [p for p in os.listdir(directory) \n",
    "                 if os.path.isfile(os.path.join(directory, p))]:\n",
    "        newName = \"\"\n",
    "        if file.startswith(prefix):\n",
    "            for key,value in MAPPING.items():\n",
    "                if key in file:\n",
    "                    newName = '_'.join([newPrefix, value, camModel, dataset, segModel, postfix])\n",
    "                    print(f'Renaming from:{file}, \\nTo:{newName}\\n')\n",
    "                    os.rename(os.path.join(directory, file), os.path.join(directory, newName))\n",
    "                    break\n",
    "            if newName == \"\":\n",
    "                for key, value in MAPPING_GPU.items():\n",
    "                    if key in file:\n",
    "                        newName = '_'.join([newPrefix, value, camModel, dataset, segModel, 'GPU',postfix])\n",
    "                        print(f'Renaming from:{file}, \\nTo:{newName}\\n')\n",
    "                        os.rename(os.path.join(directory, file), os.path.join(directory, newName))\n",
    "                        break"
   ]
  },
  {
   "cell_type": "code",
   "execution_count": 20,
   "id": "33e88e84",
   "metadata": {},
   "outputs": [
    {
     "name": "stdout",
     "output_type": "stream",
     "text": [
      "Renaming from:Full_valAllCAMsEigenGrad_CAM-Predefined_CAM-Predefined_SEG-Predefined_valAllSegs_21_08_2022.jpg, \n",
      "To:Full_EigenGradCAM_ResNet_CompCars_Original_ocrnet_hr48_carparts_noflip_wrongClassified_21_08_2022.jpg\n",
      "\n",
      "Renaming from:Full_valAllCAMsEigen_CAM-Predefined_CAM-Predefined_SEG-Predefined_valAllSegs_21_08_2022.jpg, \n",
      "To:Full_EigenCAM_ResNet_CompCars_Original_ocrnet_hr48_carparts_noflip_wrongClassified_21_08_2022.jpg\n",
      "\n",
      "Renaming from:Full_valAllCAMsGrad++_CAM-Predefined_CAM-Predefined_SEG-Predefined_valAllSegs_21_08_2022.jpg, \n",
      "To:Full_gradCAM++_ResNet_CompCars_Original_ocrnet_hr48_carparts_noflip_wrongClassified_21_08_2022.jpg\n",
      "\n",
      "Renaming from:Full_valAllCAMsLayer_CAM-Predefined_CAM-Predefined_SEG-Predefined_valAllSegs_21_08_2022.jpg, \n",
      "To:Full_LayerCAM_ResNet_CompCars_Original_ocrnet_hr48_carparts_noflip_wrongClassified_21_08_2022.jpg\n",
      "\n",
      "Renaming from:Full_valAllCAMsXGrad_CAM-Predefined_CAM-Predefined_SEG-Predefined_valAllSegs_21_08_2022.jpg, \n",
      "To:Full_XGradCAM_ResNet_CompCars_Original_ocrnet_hr48_carparts_noflip_wrongClassified_21_08_2022.jpg\n",
      "\n",
      "Renaming from:Full_valAllCAMs_CAM-Predefined_CAM-Predefined_SEG-Predefined_valAllSegs_21_08_2022.jpg, \n",
      "To:Full_gradCAM_ResNet_CompCars_Original_ocrnet_hr48_carparts_noflip_wrongClassified_21_08_2022.jpg\n",
      "\n"
     ]
    }
   ],
   "source": [
    "renameFiles('G:/results/CompCars_Original/ResNet/wronglyClassifications', 'ResNet', 'CompCars_Original', \n",
    "            additionals='wrongClassified', timestamp=\"21_08_2022\")"
   ]
  },
  {
   "cell_type": "code",
   "execution_count": 21,
   "id": "c592dece",
   "metadata": {},
   "outputs": [
    {
     "name": "stdout",
     "output_type": "stream",
     "text": [
      "Renaming from:wronglyClassified_Multiple_annfile_valAllCAMsEigenGrad_CAM-Predefined_CAM-Predefined_SEG-Predefined_valAllSegs_21_08_2022.jpg.xlsx, \n",
      "To:Data_Full_EigenGradCAM_ResNet_CompCars_Original_ocrnet_hr48_carparts_noflip_wrongClassified_21_08_2022.xlsx\n",
      "\n",
      "Renaming from:wronglyClassified_Multiple_annfile_valAllCAMsEigen_CAM-Predefined_CAM-Predefined_SEG-Predefined_valAllSegs_21_08_2022.jpg.xlsx, \n",
      "To:Data_Full_EigenCAM_ResNet_CompCars_Original_ocrnet_hr48_carparts_noflip_wrongClassified_21_08_2022.xlsx\n",
      "\n",
      "Renaming from:wronglyClassified_Multiple_annfile_valAllCAMsGrad++_CAM-Predefined_CAM-Predefined_SEG-Predefined_valAllSegs_21_08_2022.jpg.xlsx, \n",
      "To:Data_Full_gradCAM++_ResNet_CompCars_Original_ocrnet_hr48_carparts_noflip_wrongClassified_21_08_2022.xlsx\n",
      "\n",
      "Renaming from:wronglyClassified_Multiple_annfile_valAllCAMsLayer_CAM-Predefined_CAM-Predefined_SEG-Predefined_valAllSegs_21_08_2022.jpg.xlsx, \n",
      "To:Data_Full_LayerCAM_ResNet_CompCars_Original_ocrnet_hr48_carparts_noflip_wrongClassified_21_08_2022.xlsx\n",
      "\n",
      "Renaming from:wronglyClassified_Multiple_annfile_valAllCAMsXGrad_CAM-Predefined_CAM-Predefined_SEG-Predefined_valAllSegs_21_08_2022.jpg.xlsx, \n",
      "To:Data_Full_XGradCAM_ResNet_CompCars_Original_ocrnet_hr48_carparts_noflip_wrongClassified_21_08_2022.xlsx\n",
      "\n",
      "Renaming from:wronglyClassified_Multiple_annfile_valAllCAMs_CAM-Predefined_CAM-Predefined_SEG-Predefined_valAllSegs_21_08_2022.jpg.xlsx, \n",
      "To:Data_Full_gradCAM_ResNet_CompCars_Original_ocrnet_hr48_carparts_noflip_wrongClassified_21_08_2022.xlsx\n",
      "\n"
     ]
    }
   ],
   "source": [
    "renameFiles('G:/results/CompCars_Original/ResNet/wronglyClassifications', 'ResNet', 'CompCars_Original', \n",
    "            additionals='wrongClassified', timestamp=\"21_08_2022\", prefix='wronglyClassified_Multiple_annfile',\n",
    "            fileextension='.xlsx', replacePrefix='Data_Full')"
   ]
  },
  {
   "cell_type": "code",
   "execution_count": null,
   "id": "91c0e1be",
   "metadata": {},
   "outputs": [],
   "source": []
  }
 ],
 "metadata": {
  "kernelspec": {
   "display_name": "Python 3 (ipykernel)",
   "language": "python",
   "name": "python3"
  },
  "language_info": {
   "codemirror_mode": {
    "name": "ipython",
    "version": 3
   },
   "file_extension": ".py",
   "mimetype": "text/x-python",
   "name": "python",
   "nbconvert_exporter": "python",
   "pygments_lexer": "ipython3",
   "version": "3.10.4"
  }
 },
 "nbformat": 4,
 "nbformat_minor": 5
}
