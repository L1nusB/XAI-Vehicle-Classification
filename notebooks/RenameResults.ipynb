{
 "cells": [
  {
   "cell_type": "code",
   "execution_count": 1,
   "id": "bfea95bf",
   "metadata": {},
   "outputs": [],
   "source": [
    "from datetime import date\n",
    "import os\n",
    "import numpy as np\n",
    "\n",
    "MAPPING = {\n",
    "    'valAllCAMs_':'gradCAM',\n",
    "    'valAllCAMsEigen_':'EigenCAM',\n",
    "    'valAllCAMsEigenGrad_':'EigenGradCAM',\n",
    "    'valAllCAMsGrad++_':'gradCAM++',\n",
    "    'valAllCAMsLayer_':'LayerCAM',\n",
    "    'valAllCAMsXGrad_':'XGradCAM',\n",
    "}\n",
    "MAPPING_GPU = {\n",
    "    'valAllCAMsGPU_':'gradCAM'\n",
    "}"
   ]
  },
  {
   "cell_type": "code",
   "execution_count": 26,
   "id": "f3cf1b5e",
   "metadata": {},
   "outputs": [],
   "source": [
    "def renameFiles(directory, camModel, dataset,additionals=\"\", prefix='Full', segModel='ocrnet_hr48_carparts_noflip'):\n",
    "    if additionals:\n",
    "        postfix = additionals + '_' + date.today().strftime(\"%d_%m_%Y\")\n",
    "    else:\n",
    "        postfix = date.today().strftime(\"%d_%m_%Y\")\n",
    "    for file in [p for p in os.listdir(directory) \n",
    "                 if os.path.isfile(os.path.join(directory, p))]:\n",
    "        newName = \"\"\n",
    "        if file.startswith(prefix):\n",
    "            for key,value in MAPPING.items():\n",
    "                if key in file:\n",
    "                    newName = '_'.join([prefix, value, camModel, dataset, segModel, postfix])\n",
    "                    print(f'Renaming from:{file}, \\nTo:{newName}\\n')\n",
    "                    os.rename(os.path.join(directory, file), os.path.join(directory, newName))\n",
    "                    break\n",
    "            if newName == \"\":\n",
    "                for key, value in MAPPING_GPU.items():\n",
    "                    if key in file:\n",
    "                        newName = '_'.join([prefix, value, camModel, dataset, segModel, 'GPU',postfix])\n",
    "                        print(f'Renaming from:{file}, \\nTo:{newName}\\n')\n",
    "                        os.rename(os.path.join(directory, file), os.path.join(directory, newName))\n",
    "                        break"
   ]
  },
  {
   "cell_type": "code",
   "execution_count": 27,
   "id": "33e88e84",
   "metadata": {},
   "outputs": [
    {
     "name": "stdout",
     "output_type": "stream",
     "text": [
      "Renaming from:Full_valAllCAMsEigenGrad_CAM-Predefined_CAM-Predefined_SEG-Predefined_valAllSeg_13_08_2022.jpg, \n",
      "To:Full_EigenGradCAM_ResNet_CompCars_Original_ocrnet_hr48_carparts_noflip_13_08_2022\n",
      "\n",
      "Renaming from:Full_valAllCAMsEigen_CAM-Predefined_CAM-Predefined_SEG-Predefined_valAllSeg_13_08_2022.jpg, \n",
      "To:Full_EigenCAM_ResNet_CompCars_Original_ocrnet_hr48_carparts_noflip_13_08_2022\n",
      "\n",
      "Renaming from:Full_valAllCAMsGPU_CAM-Predefined_CAM-Predefined_SEG-Predefined_valAllSeg_13_08_2022.jpg, \n",
      "To:Full_gradCAM_ResNet_CompCars_Original_ocrnet_hr48_carparts_noflip_GPU_13_08_2022\n",
      "\n",
      "Renaming from:Full_valAllCAMsGrad++_CAM-Predefined_CAM-Predefined_SEG-Predefined_valAllSeg_13_08_2022.jpg, \n",
      "To:Full_gradCAM++_ResNet_CompCars_Original_ocrnet_hr48_carparts_noflip_13_08_2022\n",
      "\n",
      "Renaming from:Full_valAllCAMsLayer_CAM-Predefined_CAM-Predefined_SEG-Predefined_valAllSeg_13_08_2022.jpg, \n",
      "To:Full_LayerCAM_ResNet_CompCars_Original_ocrnet_hr48_carparts_noflip_13_08_2022\n",
      "\n",
      "Renaming from:Full_valAllCAMsXGrad_CAM-Predefined_CAM-Predefined_SEG-Predefined_valAllSeg_13_08_2022.jpg, \n",
      "To:Full_XGradCAM_ResNet_CompCars_Original_ocrnet_hr48_carparts_noflip_13_08_2022\n",
      "\n",
      "Renaming from:Full_valAllCAMs_CAM-Predefined_CAM-Predefined_SEG-Predefined_valAllSeg_13_08_2022.jpg, \n",
      "To:Full_gradCAM_ResNet_CompCars_Original_ocrnet_hr48_carparts_noflip_13_08_2022\n",
      "\n"
     ]
    }
   ],
   "source": [
    "renameFiles('../results/CompCars_Original/ResNet/Tes', 'ResNet', 'CompCars_Original')"
   ]
  },
  {
   "cell_type": "code",
   "execution_count": null,
   "id": "94eda0a2",
   "metadata": {},
   "outputs": [],
   "source": []
  }
 ],
 "metadata": {
  "kernelspec": {
   "display_name": "Python 3 (ipykernel)",
   "language": "python",
   "name": "python3"
  },
  "language_info": {
   "codemirror_mode": {
    "name": "ipython",
    "version": 3
   },
   "file_extension": ".py",
   "mimetype": "text/x-python",
   "name": "python",
   "nbconvert_exporter": "python",
   "pygments_lexer": "ipython3",
   "version": "3.10.4"
  }
 },
 "nbformat": 4,
 "nbformat_minor": 5
}
