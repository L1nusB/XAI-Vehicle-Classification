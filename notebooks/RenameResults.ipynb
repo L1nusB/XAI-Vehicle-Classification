{
 "cells": [
  {
   "cell_type": "code",
   "execution_count": 1,
   "id": "bfea95bf",
   "metadata": {},
   "outputs": [],
   "source": [
    "from datetime import date\n",
    "import os\n",
    "import numpy as np\n",
    "\n",
    "MAPPING = {\n",
    "    'valAllCAMs_':'gradCAM',\n",
    "    'valAllCAMsEigen_':'EigenCAM',\n",
    "    'valAllCAMsEigenGrad_':'EigenGradCAM',\n",
    "    'valAllCAMsGrad++_':'gradCAM++',\n",
    "    'valAllCAMsLayer_':'LayerCAM',\n",
    "    'valAllCAMsXGrad_':'XGradCAM',\n",
    "}\n",
    "MAPPING_GPU = {\n",
    "    'valAllCAMsGPU_':'gradCAM'\n",
    "}"
   ]
  },
  {
   "cell_type": "code",
   "execution_count": 8,
   "id": "f3cf1b5e",
   "metadata": {},
   "outputs": [],
   "source": [
    "def renameFiles(directory, camModel, dataset,additionals=\"\", prefix='Full', \n",
    "                segModel='ocrnet_hr48_carparts_noflip', timestamp=\"\"):\n",
    "    if timestamp:\n",
    "        dstr = timestamp\n",
    "    else:\n",
    "        dstr = date.today().strftime(\"%d_%m_%Y\")\n",
    "    if additionals:\n",
    "        postfix = additionals + '_' + dstr + \".jpg\"\n",
    "    else:\n",
    "        postfix = dstr + \".jpg\"\n",
    "    for file in [p for p in os.listdir(directory) \n",
    "                 if os.path.isfile(os.path.join(directory, p))]:\n",
    "        newName = \"\"\n",
    "        if file.startswith(prefix):\n",
    "            for key,value in MAPPING.items():\n",
    "                if key in file:\n",
    "                    newName = '_'.join([prefix, value, camModel, dataset, segModel, postfix])\n",
    "                    print(f'Renaming from:{file}, \\nTo:{newName}\\n')\n",
    "                    os.rename(os.path.join(directory, file), os.path.join(directory, newName))\n",
    "                    break\n",
    "            if newName == \"\":\n",
    "                for key, value in MAPPING_GPU.items():\n",
    "                    if key in file:\n",
    "                        newName = '_'.join([prefix, value, camModel, dataset, segModel, 'GPU',postfix])\n",
    "                        print(f'Renaming from:{file}, \\nTo:{newName}\\n')\n",
    "                        os.rename(os.path.join(directory, file), os.path.join(directory, newName))\n",
    "                        break"
   ]
  },
  {
   "cell_type": "code",
   "execution_count": 27,
   "id": "33e88e84",
   "metadata": {},
   "outputs": [
    {
     "name": "stdout",
     "output_type": "stream",
     "text": [
      "Renaming from:Full_valAllCAMsEigenGrad_CAM-Predefined_CAM-Predefined_SEG-Predefined_valAllSegs_ShowPropArea_AreaNormalized_13_08_2022.jpg, \n",
      "To:Full_EigenGradCAM_SwinSmall_CompCars_Web_ocrnet_hr48_carparts_noflip_normalized_PropArea_13_08_2022.jpg\n",
      "\n",
      "Renaming from:Full_valAllCAMsEigen_CAM-Predefined_CAM-Predefined_SEG-Predefined_valAllSegs_ShowPropArea_AreaNormalized_13_08_2022.jpg, \n",
      "To:Full_EigenCAM_SwinSmall_CompCars_Web_ocrnet_hr48_carparts_noflip_normalized_PropArea_13_08_2022.jpg\n",
      "\n",
      "Renaming from:Full_valAllCAMsGPU_CAM-Predefined_CAM-Predefined_SEG-Predefined_valAllSegs_ShowPropArea_AreaNormalized_13_08_2022.jpg, \n",
      "To:Full_gradCAM_SwinSmall_CompCars_Web_ocrnet_hr48_carparts_noflip_GPU_normalized_PropArea_13_08_2022.jpg\n",
      "\n",
      "Renaming from:Full_valAllCAMsGrad++_CAM-Predefined_CAM-Predefined_SEG-Predefined_valAllSegs_ShowPropArea_AreaNormalized_13_08_2022.jpg, \n",
      "To:Full_gradCAM++_SwinSmall_CompCars_Web_ocrnet_hr48_carparts_noflip_normalized_PropArea_13_08_2022.jpg\n",
      "\n",
      "Renaming from:Full_valAllCAMsLayer_CAM-Predefined_CAM-Predefined_SEG-Predefined_valAllSegs_ShowPropArea_AreaNormalized_13_08_2022.jpg, \n",
      "To:Full_LayerCAM_SwinSmall_CompCars_Web_ocrnet_hr48_carparts_noflip_normalized_PropArea_13_08_2022.jpg\n",
      "\n",
      "Renaming from:Full_valAllCAMsXGrad_CAM-Predefined_CAM-Predefined_SEG-Predefined_valAllSegs_ShowPropArea_AreaNormalized_13_08_2022.jpg, \n",
      "To:Full_XGradCAM_SwinSmall_CompCars_Web_ocrnet_hr48_carparts_noflip_normalized_PropArea_13_08_2022.jpg\n",
      "\n",
      "Renaming from:Full_valAllCAMs_CAM-Predefined_CAM-Predefined_SEG-Predefined_valAllSegs_ShowPropArea_AreaNormalized_13_08_2022.jpg, \n",
      "To:Full_gradCAM_SwinSmall_CompCars_Web_ocrnet_hr48_carparts_noflip_normalized_PropArea_13_08_2022.jpg\n",
      "\n"
     ]
    }
   ],
   "source": [
    "renameFiles('G:/results/CompCars_Web/SwinSmall/normalized', 'SwinSmall', 'CompCars_Web', \n",
    "            additionals='normalized_PropArea', timestamp=\"13_08_2022\")"
   ]
  },
  {
   "cell_type": "code",
   "execution_count": 28,
   "id": "c592dece",
   "metadata": {},
   "outputs": [
    {
     "name": "stdout",
     "output_type": "stream",
     "text": [
      "Renaming from:Full_valAllCAMsEigenGrad_CAM-Predefined_CAM-Predefined_SEG-Predefined_valAllSegs_Mean_Std_Total_14_08_2022.jpg, \n",
      "To:Full_EigenGradCAM_SwinSmall_CompCars_Web_ocrnet_hr48_carparts_noflip_Mean_Std_Total_14_08_2022.jpg\n",
      "\n",
      "Renaming from:Full_valAllCAMsEigen_CAM-Predefined_CAM-Predefined_SEG-Predefined_valAllSegs_Mean_Std_Total_14_08_2022.jpg, \n",
      "To:Full_EigenCAM_SwinSmall_CompCars_Web_ocrnet_hr48_carparts_noflip_Mean_Std_Total_14_08_2022.jpg\n",
      "\n",
      "Renaming from:Full_valAllCAMsGPU_CAM-Predefined_CAM-Predefined_SEG-Predefined_valAllSegs_Mean_Std_Total_14_08_2022.jpg, \n",
      "To:Full_gradCAM_SwinSmall_CompCars_Web_ocrnet_hr48_carparts_noflip_GPU_Mean_Std_Total_14_08_2022.jpg\n",
      "\n",
      "Renaming from:Full_valAllCAMsGrad++_CAM-Predefined_CAM-Predefined_SEG-Predefined_valAllSegs_Mean_Std_Total_14_08_2022.jpg, \n",
      "To:Full_gradCAM++_SwinSmall_CompCars_Web_ocrnet_hr48_carparts_noflip_Mean_Std_Total_14_08_2022.jpg\n",
      "\n",
      "Renaming from:Full_valAllCAMsLayer_CAM-Predefined_CAM-Predefined_SEG-Predefined_valAllSegs_Mean_Std_Total_14_08_2022.jpg, \n",
      "To:Full_LayerCAM_SwinSmall_CompCars_Web_ocrnet_hr48_carparts_noflip_Mean_Std_Total_14_08_2022.jpg\n",
      "\n",
      "Renaming from:Full_valAllCAMsXGrad_CAM-Predefined_CAM-Predefined_SEG-Predefined_valAllSegs_Mean_Std_Total_14_08_2022.jpg, \n",
      "To:Full_XGradCAM_SwinSmall_CompCars_Web_ocrnet_hr48_carparts_noflip_Mean_Std_Total_14_08_2022.jpg\n",
      "\n",
      "Renaming from:Full_valAllCAMs_CAM-Predefined_CAM-Predefined_SEG-Predefined_valAllSegs_Mean_Std_Total_14_08_2022.jpg, \n",
      "To:Full_gradCAM_SwinSmall_CompCars_Web_ocrnet_hr48_carparts_noflip_Mean_Std_Total_14_08_2022.jpg\n",
      "\n"
     ]
    }
   ],
   "source": [
    "renameFiles('G:/results/CompCars_Web/SwinSmall/meanStdTotal', 'SwinSmall', 'CompCars_Web', \n",
    "            additionals='Mean_Std_Total', timestamp=\"14_08_2022\")"
   ]
  },
  {
   "cell_type": "code",
   "execution_count": null,
   "id": "91c0e1be",
   "metadata": {},
   "outputs": [],
   "source": []
  }
 ],
 "metadata": {
  "kernelspec": {
   "display_name": "Python 3 (ipykernel)",
   "language": "python",
   "name": "python3"
  },
  "language_info": {
   "codemirror_mode": {
    "name": "ipython",
    "version": 3
   },
   "file_extension": ".py",
   "mimetype": "text/x-python",
   "name": "python",
   "nbconvert_exporter": "python",
   "pygments_lexer": "ipython3",
   "version": "3.10.4"
  }
 },
 "nbformat": 4,
 "nbformat_minor": 5
}
