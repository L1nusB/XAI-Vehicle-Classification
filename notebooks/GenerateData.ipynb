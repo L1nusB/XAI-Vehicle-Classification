{
 "cells": [
  {
   "cell_type": "code",
   "execution_count": 1,
   "id": "31ff5c49",
   "metadata": {},
   "outputs": [],
   "source": [
    "%load_ext autoreload\n",
    "%autoreload 2\n",
    "\n",
    "import numpy as np\n",
    "import os\n",
    "import mmcv\n",
    "import importlib\n",
    "import torch\n",
    "import torchvision.transforms as transforms\n",
    "from mmcv import Config\n",
    "from mmcls.datasets.pipelines import Compose\n",
    "import matplotlib.pyplot as plt\n",
    "import matplotlib.image as mpimg\n",
    "import matplotlib.gridspec as gridspec\n",
    "from PIL import Image\n",
    "import heapq\n",
    "from mmseg.apis import inference_segmentor, init_segmentor\n",
    "from mmseg.core.evaluation import get_palette\n",
    "from pytorch_grad_cam.utils.image import show_cam_on_image\n",
    "import cv2\n",
    "\n",
    "import sys\n",
    "\n",
    "module_path = os.path.abspath(os.path.join('..'))\n",
    "if module_path not in sys.path:\n",
    "    sys.path.append(module_path)\n",
    "    \n",
    "\n",
    "from scripts import generate_statistics_single\n",
    "from scripts import visualization_seg_masks\n",
    "from scripts import generate_statistics\n",
    "from scripts import generate_cams\n",
    "from scripts import utils\n",
    "from scripts.utils.pipeline import get_pipeline_torchvision\n",
    "from scripts import generate_segs"
   ]
  },
  {
   "cell_type": "code",
   "execution_count": 2,
   "id": "837c4e3b",
   "metadata": {},
   "outputs": [],
   "source": [
    "configSeg = '../segmentation/ocrnet_hr48_512x512_carparts_noflip/ocrnet_hr48_512x512_carparts_noflip.py'\n",
    "checkpointSeg = '../segmentation/ocrnet_hr48_512x512_carparts_noflip/latest.pth'\n",
    "imgRootTrain = '../data/CompCars_sv_original_split/train'\n",
    "imgRootVal = '../data/CompCars_sv_original_split/val'\n",
    "configCAM = '../CAMModels/resnet/compCars_Original/resnet50_b128x2_compcars-original-split.py'\n",
    "checkpointCAM = '../CAMModels/resnet/compCars_Original/latest.pth'\n",
    "annfileTrain = '../annfileTrain.txt'\n",
    "annfileVal = '../annfileVal.txt'\n",
    "annfileValGt = '../annfileValGt.txt'\n",
    "imgNameTrain='Acura_Acura_ILX_2a6cce617fc27d.jpg'\n",
    "imgNameVal = 'Acura_Acura_ILX_3c11ef9e42931b.jpg'\n",
    "imgPathTrain=os.path.join(imgRootTrain, imgNameTrain)\n",
    "imgPathVal=os.path.join(imgRootVal, imgNameVal)\n",
    "\n",
    "paletteName='Comp_Original_Ocrnet_Carparts_Noflip'"
   ]
  },
  {
   "cell_type": "code",
   "execution_count": 3,
   "id": "d516e1bd",
   "metadata": {},
   "outputs": [],
   "source": [
    "imgRootValOriginal = '../data/CompCars_sv_original_split/val'\n",
    "imgRootValColor = '../data/CompCars_sv_color_split/val'\n",
    "imgRootValWeb = '../data/CompCars_web_original_split/val'"
   ]
  },
  {
   "cell_type": "code",
   "execution_count": 5,
   "id": "93195b56",
   "metadata": {},
   "outputs": [
    {
     "name": "stdout",
     "output_type": "stream",
     "text": [
      "Method for CAM generation: GradCAM, eigen-smooth:False, aug-smooth:False, vit-like:False\n",
      "Generate Results for specified files\n",
      "Automatically choose the last norm layer as target_layer.\n",
      "[>>>>>>>>>>>>>>>>>>>>>>>>] 13379/13379, 4.1 task/s, elapsed: 3276s, ETA:     0sSave Split file for Cams\n",
      "Save generated CAMs to ../preGenData\\ColorvalAllCAMs.npz\n",
      "Method for CAM generation: gradcam++, eigen-smooth:False, aug-smooth:False, vit-like:False\n",
      "Generate Results for specified files\n",
      "Automatically choose the last norm layer as target_layer.\n",
      "[>>>>>>>>>>>>>>>>>>>>>>>>] 13379/13379, 4.7 task/s, elapsed: 2836s, ETA:     0sSave Split file for Cams\n",
      "Save generated CAMs to ../preGenData\\ColorvalAllCAMsGrad++.npz\n",
      "Method for CAM generation: xgradcam, eigen-smooth:False, aug-smooth:False, vit-like:False\n",
      "Generate Results for specified files\n",
      "Automatically choose the last norm layer as target_layer.\n",
      "[>>>>>>>>>>>>>>>>>>>>>>>>] 13379/13379, 4.7 task/s, elapsed: 2844s, ETA:     0sSave Split file for Cams\n",
      "Save generated CAMs to ../preGenData\\ColorvalAllCAMsXGrad.npz\n",
      "Method for CAM generation: eigencam, eigen-smooth:False, aug-smooth:False, vit-like:False\n",
      "Generate Results for specified files\n",
      "Automatically choose the last norm layer as target_layer.\n",
      "[>>>>>>>>>>>>>>>>>>>>>>>>] 13379/13379, 2.9 task/s, elapsed: 4599s, ETA:     0sSave Split file for Cams\n",
      "Save generated CAMs to ../preGenData\\ColorvalAllCAMsEigen.npz\n",
      "Method for CAM generation: eigengradcam, eigen-smooth:False, aug-smooth:False, vit-like:False\n",
      "Generate Results for specified files\n",
      "Automatically choose the last norm layer as target_layer.\n",
      "[>>>>>>>>>>>>>>>>>>>>>>>>] 13379/13379, 2.2 task/s, elapsed: 6000s, ETA:     0sSave Split file for Cams\n",
      "Save generated CAMs to ../preGenData\\ColorvalAllCAMsEigenGrad.npz\n",
      "Method for CAM generation: layercam, eigen-smooth:False, aug-smooth:False, vit-like:False\n",
      "Generate Results for specified files\n",
      "Automatically choose the last norm layer as target_layer.\n",
      "[>>>>>>>>>>>>>>>>>>>>>>>>] 13379/13379, 4.5 task/s, elapsed: 2946s, ETA:     0sSave Split file for Cams\n",
      "Save generated CAMs to ../preGenData\\ColorvalAllCAMsLayer.npz\n",
      "Method for CAM generation: GradCAM, eigen-smooth:False, aug-smooth:False, vit-like:False\n",
      "Generate Results for specified files\n",
      "Automatically choose the last norm layer as target_layer.\n",
      "[>>>>>>>>>>>>>>>>>>>>>>>>] 13379/13379, 21.4 task/s, elapsed: 626s, ETA:     0sSave Split file for Cams\n",
      "Save generated CAMs to ../preGenData\\ColorvalAllCAMsGPU.npz\n"
     ]
    }
   ],
   "source": [
    "generate_cams.main([imgRootValColor, configCAM, checkpointCAM, '-s', '../preGenData/ColorvalAllCAMs'])\n",
    "generate_cams.main([imgRootValColor, configCAM, checkpointCAM, '-s', '../preGenData/ColorvalAllCAMsGrad++', '--method', 'gradcam++'])\n",
    "generate_cams.main([imgRootValColor, configCAM, checkpointCAM, '-s', '../preGenData/ColorvalAllCAMsXGrad', '--method', 'xgradcam'])\n",
    "generate_cams.main([imgRootValColor, configCAM, checkpointCAM, '-s', '../preGenData/ColorvalAllCAMsEigen', '--method', 'eigencam'])\n",
    "generate_cams.main([imgRootValColor, configCAM, checkpointCAM, '-s', '../preGenData/ColorvalAllCAMsEigenGrad', '--method', 'eigengradcam'])\n",
    "generate_cams.main([imgRootValColor, configCAM, checkpointCAM, '-s', '../preGenData/ColorvalAllCAMsLayer', '--method', 'layercam'])\n",
    "generate_cams.main([imgRootValColor, configCAM, checkpointCAM, '-s', '../preGenData/ColorvalAllCAMsGPU', '--device', 'cuda'])"
   ]
  },
  {
   "cell_type": "code",
   "execution_count": null,
   "id": "ceccb66c",
   "metadata": {},
   "outputs": [],
   "source": []
  }
 ],
 "metadata": {
  "kernelspec": {
   "display_name": "Python 3 (ipykernel)",
   "language": "python",
   "name": "python3"
  },
  "language_info": {
   "codemirror_mode": {
    "name": "ipython",
    "version": 3
   },
   "file_extension": ".py",
   "mimetype": "text/x-python",
   "name": "python",
   "nbconvert_exporter": "python",
   "pygments_lexer": "ipython3",
   "version": "3.10.4"
  }
 },
 "nbformat": 4,
 "nbformat_minor": 5
}
