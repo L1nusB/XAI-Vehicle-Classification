{
 "cells": [
  {
   "cell_type": "code",
   "execution_count": 7,
   "id": "31ff5c49",
   "metadata": {},
   "outputs": [
    {
     "name": "stdout",
     "output_type": "stream",
     "text": [
      "The autoreload extension is already loaded. To reload it, use:\n",
      "  %reload_ext autoreload\n"
     ]
    }
   ],
   "source": [
    "%load_ext autoreload\n",
    "%autoreload 2\n",
    "\n",
    "import numpy as np\n",
    "import os\n",
    "import mmcv\n",
    "import importlib\n",
    "import torch\n",
    "import torchvision.transforms as transforms\n",
    "from mmcv import Config\n",
    "from mmcls.datasets.pipelines import Compose\n",
    "import matplotlib.pyplot as plt\n",
    "import matplotlib.image as mpimg\n",
    "import matplotlib.gridspec as gridspec\n",
    "from PIL import Image\n",
    "import heapq\n",
    "from mmseg.apis import inference_segmentor, init_segmentor\n",
    "from mmseg.core.evaluation import get_palette\n",
    "from pytorch_grad_cam.utils.image import show_cam_on_image\n",
    "import cv2\n",
    "\n",
    "import sys\n",
    "\n",
    "module_path = os.path.abspath(os.path.join('..'))\n",
    "if module_path not in sys.path:\n",
    "    sys.path.append(module_path)\n",
    "    \n",
    "\n",
    "from scripts import generate_statistics_single\n",
    "from scripts import visualization_seg_masks\n",
    "from scripts import generate_statistics\n",
    "from scripts import generate_cams\n",
    "from scripts import utils\n",
    "from scripts.utils.pipeline import get_pipeline_torchvision\n",
    "from scripts import generate_segs\n",
    "from scripts import evaluate_effectiveness\n",
    "from scripts.generate_blurred import generate_blurred"
   ]
  },
  {
   "cell_type": "code",
   "execution_count": 15,
   "id": "837c4e3b",
   "metadata": {},
   "outputs": [],
   "source": [
    "configSeg = '../segmentation/ocrnet_hr48_512x512_carparts_noflip/ocrnet_hr48_512x512_carparts_noflip.py'\n",
    "checkpointSeg = '../segmentation/ocrnet_hr48_512x512_carparts_noflip/latest.pth'\n",
    "configCAMResOG = '../CAMModels/resnet/compCars_Original/resnet50_b128x2_compcars-original-split.py'\n",
    "checkpointCAMResOG = '../CAMModels/resnet/compCars_Original/latest.pth'\n",
    "configCAMResCol = '../CAMModels/resnet/compCars_Color/resnet50_b128x2_compcars-color-split.py'\n",
    "checkpointCAMResCol = '../CAMModels/resnet/compCars_Color/latest.pth'\n",
    "configCAMResWeb = '../CAMModels/resnet/compCars_Web/resnet50_b128x2_compcars-web-original-split.py'\n",
    "checkpointCAMResWeb = '../CAMModels/resnet/compCars_Web/latest.pth'\n",
    "configCAMResStanford = '../CAMModels/resnet/stanfordCars_Original/resnet50_b128x2_stanford.py'\n",
    "checkpointCAMResStanford = '../CAMModels/resnet/stanfordCars_Original/latest.pth'\n",
    "\n",
    "configCAMSwinSmallOG = '../CAMModels/swinSmall/compCars_Original/swin-small_b128x2_compcars-original-split.py'\n",
    "checkpointCAMSwinSmallOG = '../CAMModels/swinSmall/compCars_Original/latest.pth'\n",
    "configCAMSwinSmallCol = '../CAMModels/swinSmall/compCars_Color/swin-small_b128x2_compcars-color-split.py'\n",
    "checkpointCAMSwinSmallCol = '../CAMModels/swinSmall/compCars_Color/latest.pth'\n",
    "configCAMSwinSmallWeb = '../CAMModels/swinSmall/compCars_WebOriginal/swin-small_b128x2_compcars-web-original-split.py'\n",
    "checkpointCAMSwinSmallWeb = '../CAMModels/swinSmall/compCars_WebOriginal/latest.pth'\n",
    "configCAMSwinSmallStanford = '../CAMModels/swinSmall/stanfordCars_Original/swin-small_b128x2_stanford.py'\n",
    "checkpointCAMSwinSmallStanford = '../CAMModels/swinSmall/stanfordCars_Original/latest.pth'\n",
    "\n",
    "configCAMSwinBaseOG = '../CAMModels/swinBase/compCars_Original/swin-base_b128x2_compcars-original-split.py'\n",
    "checkpointCAMSwinBaseOG = '../CAMModels/swinBase/compCars_Original/latest.pth'\n",
    "configCAMSwinBaseCol = '../CAMModels/swinBase/compCars_Color/swin-base_b128x2_compcars-color-split.py'\n",
    "checkpointCAMSwinBaseCol = '../CAMModels/swinBase/compCars_Color/latest.pth'\n",
    "configCAMSwinBaseWeb = '../CAMModels/swinBase/compCars_WebOriginal/swin-base_b128x2_compcars-web-original-split.py'\n",
    "checkpointCAMSwinBaseWeb = '../CAMModels/swinBase/compCars_WebOriginal/latest.pth'\n",
    "configCAMSwinBaseStanford = '../CAMModels/swinBase/stanfordCars_Original/swin-base_b128x2_stanford.py'\n",
    "checkpointCAMSwinBaseStanford = '../CAMModels/swinBase/stanfordCars_Original/latest.pth'\n",
    "\n",
    "annfileTrain = '../annfileTrain.txt'\n",
    "annfileVal = '../annfileVal.txt'\n",
    "annfileValGt = '../annfileValGt.txt'\n",
    "imgNameTrain='Acura_Acura_ILX_2a6cce617fc27d.jpg'\n",
    "imgNameVal = 'Acura_Acura_ILX_3c11ef9e42931b.jpg'\n",
    "imgPathTrain=os.path.join(imgRootTrain, imgNameTrain)\n",
    "imgPathVal=os.path.join(imgRootVal, imgNameVal)\n",
    "\n",
    "annfileValOriginal = '../data/CompCars_sv_original_split/meta/val.txt'\n",
    "annfileValColor = '../data/CompCars_sv_color_split/meta/val.txt'\n",
    "annfileValWeb = '../data/CompCars_web_original_split/meta/val.txt'\n",
    "annfileValStanford = '../data/StanfordCars_original_split/meta/val.txt'\n",
    "\n",
    "paletteName='Comp_Original_Ocrnet_Carparts_Noflip'\n",
    "\n",
    "segDataPathNoScaleOG = 'G:/XAI-Vehicle-Classification/preGenData/Segmentations/CompCars_Original/valAllSegsNoScale.npz'\n",
    "segDataPathNoScaleWeb = 'G:/XAI-Vehicle-Classification/preGenData/Segmentations/CompCars_Web/valAllSegsNoScale.npz'\n",
    "segDataPathNoScaleStanfordOG = 'G:/XAI-Vehicle-Classification/preGenData/Segmentations/StanfordCars_Original/valAllSegsNoScale.npz'\n",
    "\n",
    "imgRootValOriginal = '../data/CompCars_sv_original_split/val'\n",
    "imgRootValColor = '../data/CompCars_sv_color_split/val'\n",
    "imgRootValWeb = '../data/CompCars_web_original_split/val'\n",
    "imgRootValStandford = '../data/StanfordCars_original_split/val'\n",
    "\n",
    "blurWhiteBackgroundImgRootOriginal = '../data/CompCars_sv_original_split/blurred/blurredBackgroundWhite'\n",
    "blurWhiteBackgrdHoodFBumperImgRootOriginal = '../data/CompCars_sv_original_split/blurred/blurredBackground_Hood_FBumperWhite'\n",
    "blurWhiteFLLightHoodFBumperImgRootOriginal = '../data/CompCars_sv_original_split/blurred/blurredFLLight_Hood_FBumperWhite'\n",
    "blurWhiteFLLightImgRootOriginal = '../data/CompCars_sv_original_split/blurred/blurredFrontLeftLightWhite'\n",
    "\n",
    "blurWhiteBackgroundImgRootWeb = '../data/CompCars_web_original_split/blurred/blurredBackgroundWhite'\n",
    "blurWhiteBackgrdHoodFBumperImgRootWeb = '../data/CompCars_web_original_split/blurred/blurredBackground_Hood_FBumperWhite'\n",
    "blurWhiteFLLightHoodFBumperImgRootWeb = '../data/CompCars_web_original_split/blurred/blurredFLLight_Hood_FBumperWhite'\n",
    "blurWhiteFLLightImgRootWeb = '../data/CompCars_web_original_split/blurred/blurredFrontLeftLightWhite'\n",
    "\n",
    "blurWhiteBackgroundImgRootStanford = '../data/StanfordCars_original_split/blurred/blurredBackgroundWhite'\n",
    "blurWhiteBackgrdHoodFBumperImgRootStanford = '../data/StanfordCars_original_split/blurred/blurredBackground_Hood_FBumperWhite'\n",
    "blurWhiteFLLightHoodFBumperImgRootStanford = '../data/StanfordCars_original_split/blurred/blurredFLLight_Hood_FBumperWhite'\n",
    "blurWhiteFLLightImgRootStanford = '../data/StanfordCars_original_split/blurred/blurredFrontLeftLightWhite'"
   ]
  },
  {
   "cell_type": "code",
   "execution_count": 4,
   "id": "0bf42b4d",
   "metadata": {},
   "outputs": [
    {
     "name": "stdout",
     "output_type": "stream",
     "text": [
      "Method for CAM generation: eigencam, eigen-smooth:False, aug-smooth:False, vit-like:False\n",
      "Generate Results for specified files\n",
      "Automatically choose the last norm layer as target_layer.\n",
      "[>>>>>>>>>>>>>>>>>>>>>>>>] 13333/13333, 3.3 task/s, elapsed: 4092s, ETA:     0sSave Split file for Cams\n",
      "Save generated CAMs to ../preGenData/CompCars_Original/ResNet/GPU\\valAllCAMsEigenGPU.npz\n",
      "Method for CAM generation: eigengradcam, eigen-smooth:False, aug-smooth:False, vit-like:False\n",
      "Generate Results for specified files\n",
      "Automatically choose the last norm layer as target_layer.\n",
      "[>>>>>>>>>>>>>>>>>>>>>>>>] 13333/13333, 3.3 task/s, elapsed: 3992s, ETA:     0sSave Split file for Cams\n",
      "Save generated CAMs to ../preGenData/CompCars_Original/ResNet/GPU\\valAllCAMsEigenGradGPU.npz\n",
      "Method for CAM generation: layercam, eigen-smooth:False, aug-smooth:False, vit-like:False\n",
      "Generate Results for specified files\n",
      "Automatically choose the last norm layer as target_layer.\n",
      "[>>>>>>>>>>>>>>>>>>>>>>>>] 13333/13333, 22.1 task/s, elapsed: 603s, ETA:     0sSave Split file for Cams\n",
      "Save generated CAMs to ../preGenData/CompCars_Original/ResNet/GPU\\valAllCAMsLayerGPU.npz\n"
     ]
    }
   ],
   "source": [
    "igR = imgRootValOriginal\n",
    "cfgC = configCAMResOG\n",
    "ckpC = checkpointCAMResOG\n",
    "svPre = '../preGenData/CompCars_Original/ResNet/GPU/'\n",
    "#generate_cams.main([igR, cfgC, ckpC, '-s', svPre + 'valAllCAMsGrad++GPU', '--method', 'gradcam++', '--device', 'cuda'])\n",
    "#generate_cams.main([igR, cfgC, ckpC, '-s', svPre + 'valAllCAMsXGradGPU', '--method', 'xgradcam', '--device', 'cuda'])\n",
    "generate_cams.main([igR, cfgC, ckpC, '-s', svPre + 'valAllCAMsEigenGPU', '--method', 'eigencam', '--device', 'cuda'])\n",
    "generate_cams.main([igR, cfgC, ckpC, '-s', svPre + 'valAllCAMsEigenGradGPU', '--method', 'eigengradcam', '--device', 'cuda'])\n",
    "generate_cams.main([igR, cfgC, ckpC, '-s', svPre + 'valAllCAMsLayerGPU', '--method', 'layercam', '--device', 'cuda'])"
   ]
  },
  {
   "cell_type": "code",
   "execution_count": 5,
   "id": "b0b413e8",
   "metadata": {},
   "outputs": [
    {
     "name": "stdout",
     "output_type": "stream",
     "text": [
      "Method for CAM generation: gradcam++, eigen-smooth:False, aug-smooth:False, vit-like:True\n",
      "Generate Results for specified files\n",
      "Automatically choose the last norm layer as target_layer.\n",
      "[>>>>>>>>>>>>>>>>>>>>>>>] 13333/13333, 12.7 task/s, elapsed: 1051s, ETA:     0sSave Split file for Cams\n",
      "Save generated CAMs to ../preGenData/CompCars_Original/SwinSmall/GPU\\valAllCAMsGrad++GPU.npz\n",
      "Method for CAM generation: xgradcam, eigen-smooth:False, aug-smooth:False, vit-like:True\n",
      "Generate Results for specified files\n",
      "Automatically choose the last norm layer as target_layer.\n",
      "[>>>>>>>>>>>>>>>>>>>>>>>] 13333/13333, 12.7 task/s, elapsed: 1047s, ETA:     0sSave Split file for Cams\n",
      "Save generated CAMs to ../preGenData/CompCars_Original/SwinSmall/GPU\\valAllCAMsXGradGPU.npz\n",
      "Method for CAM generation: eigencam, eigen-smooth:False, aug-smooth:False, vit-like:True\n",
      "Generate Results for specified files\n",
      "Automatically choose the last norm layer as target_layer.\n",
      "[>>>>>>>>>>>>>>>>>>>>>>>] 13333/13333, 12.6 task/s, elapsed: 1055s, ETA:     0sSave Split file for Cams\n",
      "Save generated CAMs to ../preGenData/CompCars_Original/SwinSmall/GPU\\valAllCAMsEigenGPU.npz\n",
      "Method for CAM generation: eigengradcam, eigen-smooth:False, aug-smooth:False, vit-like:True\n",
      "Generate Results for specified files\n",
      "Automatically choose the last norm layer as target_layer.\n",
      "[>>>>>>>>>>>>>>>>>>>>>>>] 13333/13333, 11.5 task/s, elapsed: 1155s, ETA:     0sSave Split file for Cams\n",
      "Save generated CAMs to ../preGenData/CompCars_Original/SwinSmall/GPU\\valAllCAMsEigenGradGPU.npz\n",
      "Method for CAM generation: layercam, eigen-smooth:False, aug-smooth:False, vit-like:True\n",
      "Generate Results for specified files\n",
      "Automatically choose the last norm layer as target_layer.\n",
      "[>>>>>>>>>>>>>>>>>>>>>>>] 13333/13333, 13.0 task/s, elapsed: 1025s, ETA:     0sSave Split file for Cams\n",
      "Save generated CAMs to ../preGenData/CompCars_Original/SwinSmall/GPU\\valAllCAMsLayerGPU.npz\n"
     ]
    }
   ],
   "source": [
    "igR = imgRootValOriginal\n",
    "cfgC = configCAMSwinSmallOG\n",
    "ckpC = checkpointCAMSwinSmallOG\n",
    "svPre = '../preGenData/CompCars_Original/SwinSmall/GPU/'\n",
    "generate_cams.main([igR, cfgC, ckpC, '-s', svPre + 'valAllCAMsGrad++GPU', '--method', 'gradcam++', '--vit-like', '--device', 'cuda'])\n",
    "generate_cams.main([igR, cfgC, ckpC, '-s', svPre + 'valAllCAMsXGradGPU', '--method', 'xgradcam', '--vit-like', '--device', 'cuda'])\n",
    "generate_cams.main([igR, cfgC, ckpC, '-s', svPre + 'valAllCAMsEigenGPU', '--method', 'eigencam', '--vit-like', '--device', 'cuda'])\n",
    "generate_cams.main([igR, cfgC, ckpC, '-s', svPre + 'valAllCAMsEigenGradGPU', '--method', 'eigengradcam', '--vit-like', '--device', 'cuda'])\n",
    "generate_cams.main([igR, cfgC, ckpC, '-s', svPre + 'valAllCAMsLayerGPU', '--method', 'layercam', '--vit-like', '--device', 'cuda'])"
   ]
  },
  {
   "cell_type": "code",
   "execution_count": 6,
   "id": "7f18bfed",
   "metadata": {},
   "outputs": [
    {
     "name": "stdout",
     "output_type": "stream",
     "text": [
      "Method for CAM generation: gradcam++, eigen-smooth:False, aug-smooth:False, vit-like:True\n",
      "Generate Results for specified files\n",
      "Automatically choose the last norm layer as target_layer.\n",
      "[>>>>>>>>>>>>>>>>>>>>>>>] 13333/13333, 12.7 task/s, elapsed: 1047s, ETA:     0sSave Split file for Cams\n",
      "Save generated CAMs to ../preGenData/CompCars_Original/SwinBase/GPU\\valAllCAMsGrad++GPU.npz\n",
      "Method for CAM generation: xgradcam, eigen-smooth:False, aug-smooth:False, vit-like:True\n",
      "Generate Results for specified files\n",
      "Automatically choose the last norm layer as target_layer.\n",
      "[>>>>>>>>>>>>>>>>>>>>>>>] 13333/13333, 12.6 task/s, elapsed: 1057s, ETA:     0sSave Split file for Cams\n",
      "Save generated CAMs to ../preGenData/CompCars_Original/SwinBase/GPU\\valAllCAMsXGradGPU.npz\n",
      "Method for CAM generation: eigencam, eigen-smooth:False, aug-smooth:False, vit-like:True\n",
      "Generate Results for specified files\n",
      "Automatically choose the last norm layer as target_layer.\n",
      "[>>>>>>>>>>>>>>>>>>>>>>>>] 13333/13333, 8.5 task/s, elapsed: 1566s, ETA:     0sSave Split file for Cams\n",
      "Save generated CAMs to ../preGenData/CompCars_Original/SwinBase/GPU\\valAllCAMsEigenGPU.npz\n",
      "Method for CAM generation: eigengradcam, eigen-smooth:False, aug-smooth:False, vit-like:True\n",
      "Generate Results for specified files\n",
      "Automatically choose the last norm layer as target_layer.\n",
      "[>>>>>>>>>>>>>>>>>>>>>>>>] 13333/13333, 8.0 task/s, elapsed: 1667s, ETA:     0sSave Split file for Cams\n",
      "Save generated CAMs to ../preGenData/CompCars_Original/SwinBase/GPU\\valAllCAMsEigenGradGPU.npz\n",
      "Method for CAM generation: layercam, eigen-smooth:False, aug-smooth:False, vit-like:True\n",
      "Generate Results for specified files\n",
      "Automatically choose the last norm layer as target_layer.\n",
      "[>>>>>>>>>>>>>>>>>>>>>>>] 13333/13333, 12.4 task/s, elapsed: 1076s, ETA:     0sSave Split file for Cams\n",
      "Save generated CAMs to ../preGenData/CompCars_Original/SwinBase/GPU\\valAllCAMsLayerGPU.npz\n"
     ]
    }
   ],
   "source": [
    "igR = imgRootValOriginal\n",
    "cfgC = configCAMSwinBaseOG\n",
    "ckpC = checkpointCAMSwinBaseOG\n",
    "svPre = '../preGenData/CompCars_Original/SwinBase/GPU/'\n",
    "generate_cams.main([igR, cfgC, ckpC, '-s', svPre + 'valAllCAMsGrad++GPU', '--method', 'gradcam++', '--vit-like', '--device', 'cuda'])\n",
    "generate_cams.main([igR, cfgC, ckpC, '-s', svPre + 'valAllCAMsXGradGPU', '--method', 'xgradcam', '--vit-like', '--device', 'cuda'])\n",
    "generate_cams.main([igR, cfgC, ckpC, '-s', svPre + 'valAllCAMsEigenGPU', '--method', 'eigencam', '--vit-like', '--device', 'cuda'])\n",
    "generate_cams.main([igR, cfgC, ckpC, '-s', svPre + 'valAllCAMsEigenGradGPU', '--method', 'eigengradcam', '--vit-like', '--device', 'cuda'])\n",
    "generate_cams.main([igR, cfgC, ckpC, '-s', svPre + 'valAllCAMsLayerGPU', '--method', 'layercam', '--vit-like', '--device', 'cuda'])"
   ]
  },
  {
   "cell_type": "code",
   "execution_count": 12,
   "id": "7df29868",
   "metadata": {},
   "outputs": [
    {
     "name": "stdout",
     "output_type": "stream",
     "text": [
      "Saving resulting segmentation masks in G:/XAI-Vehicle-Classification/preGenData/Segmentations/CompCars_Original\n"
     ]
    },
    {
     "name": "stderr",
     "output_type": "stream",
     "text": [
      "C:\\Users\\Linus\\Desktop\\XAI-Vehicle-Classification\\scripts\\utils\\io.py:106: UserWarning: Using generate_split_files will redirect the call to generate_ann_file. Consider directly calling that function\n",
      "  warnings.warn(\"Using generate_split_files will redirect the call to generate_ann_file. Consider directly calling that function\")\n"
     ]
    },
    {
     "name": "stdout",
     "output_type": "stream",
     "text": [
      "Creating annotation file at G:/XAI-Vehicle-Classification/preGenData/Segmentations/CompCars_Original\\valAllSegsNoScale.txt\n",
      "Calculating segmentation results.\n",
      "[>>>>>>>>>>>>>>>>>>>>>>>>] 13333/13333, 8.7 task/s, elapsed: 1532s, ETA:     0s\n",
      "Saving results at G:/XAI-Vehicle-Classification/preGenData/Segmentations/CompCars_Original\\valAllSegsNoScale.npz\n",
      "Saving resulting segmentation masks in G:/XAI-Vehicle-Classification/preGenData/Segmentations/CompCars_Color\n",
      "Creating annotation file at G:/XAI-Vehicle-Classification/preGenData/Segmentations/CompCars_Color\\valAllSegsNoScale.txt\n",
      "Calculating segmentation results.\n",
      "[>>>>>>>>>>>>>>>>>>>>>>>>] 13379/13379, 8.8 task/s, elapsed: 1528s, ETA:     0s\n",
      "Saving results at G:/XAI-Vehicle-Classification/preGenData/Segmentations/CompCars_Color\\valAllSegsNoScale.npz\n",
      "Saving resulting segmentation masks in G:/XAI-Vehicle-Classification/preGenData/Segmentations/CompCars_Web\n",
      "Creating annotation file at G:/XAI-Vehicle-Classification/preGenData/Segmentations/CompCars_Web\\valAllSegsNoScale.txt\n",
      "Calculating segmentation results.\n",
      "[>>>>>>>>>>>>>>>>>>>>>>>>] 15627/15627, 8.8 task/s, elapsed: 1782s, ETA:     0s\n",
      "Saving results at G:/XAI-Vehicle-Classification/preGenData/Segmentations/CompCars_Web\\valAllSegsNoScale.npz\n"
     ]
    }
   ],
   "source": [
    "generate_segs.main([imgRootValOriginal, configSeg, checkpointSeg,\n",
    "                    '-s', 'G:/XAI-Vehicle-Classification/preGenData/Segmentations/CompCars_Color/valAllSegsNoScale'])\n",
    "generate_segs.main([imgRootValColor, configSeg, checkpointSeg,\n",
    "                    '-s', 'G:/XAI-Vehicle-Classification/preGenData/Segmentations/CompCars_Color/valAllSegsNoScale'])\n",
    "generate_segs.main([imgRootValWeb, configSeg, checkpointSeg,\n",
    "                    '-s', 'G:/XAI-Vehicle-Classification/preGenData/Segmentations/CompCars_Web/valAllSegsNoScale'])"
   ]
  },
  {
   "cell_type": "code",
   "execution_count": 11,
   "id": "fa2daf9d",
   "metadata": {},
   "outputs": [
    {
     "name": "stdout",
     "output_type": "stream",
     "text": [
      "Evaluating original model vs blurred where segments background are blurred.\n",
      "Created filtered annotation file at blurredBackgroundOG\\annfile_filtered.txt\n",
      "Computing blurred images on demand.\n",
      "Setting up configs for Blurred Dataset\n",
      "Blurred Images will be saved to blurredBackgroundOG\\blurredImgs\n",
      "Model already on GPU\n",
      "Computing Evaluation Metrics for Original Dataset\n",
      "[>>>>>>>>>>>>>>>>>>>>>>>>] 13333/13333, 184.3 task/s, elapsed: 72s, ETA:     0s\n",
      "Saving json data to blurredBackgroundOG\\eval_results_original.json\n",
      "Computing Evaluation Metrics for Blurred Dataset\n",
      "[>>>>>>>>>>>>>>>>>>>>>>>>] 13333/13333, 24.4 task/s, elapsed: 545s, ETA:     0s\n",
      "Saving json data to blurredBackgroundOG\\eval_results_blurred.json\n",
      "Add total Change and improvement of original over blurred\n",
      "Saving evaluation results to blurredBackgroundOG\\evalBlurred.xlsx\n",
      "Removing temporary filtered annotation file blurredBackgroundOG\\annfile_filtered.txt\n"
     ]
    }
   ],
   "source": [
    "evaluate_effectiveness.evaluate_blurred(imgRootValOriginal, configCAMResOG, checkpointCAMResOG, annfileValOriginal,\n",
    "                                       segDataPathNoScaleOG, 'background', saveImgs=True, saveDir='blurredBackgroundOG',\n",
    "                                       segConfig=configSeg, segCheckpoint=checkpointSeg)"
   ]
  },
  {
   "cell_type": "code",
   "execution_count": 4,
   "id": "6638fb99",
   "metadata": {
    "scrolled": true
   },
   "outputs": [
    {
     "name": "stdout",
     "output_type": "stream",
     "text": [
      "Method for CAM generation: eigencam, eigen-smooth:False, aug-smooth:False, vit-like:True\n",
      "Generate Results for specified files\n",
      "Automatically choose the last norm layer as target_layer.\n",
      "[>>>>>>>>>>>>>>>>>>>>>>>>] 13333/13333, 2.5 task/s, elapsed: 5271s, ETA:     0s\n",
      "Save Split file for Cams\n",
      "Creating annotation file at ../preGenData/CompCars_Original/SwinBase\\valAllCAMsEigenGPU.txt\n",
      "Save generated CAMs to ../preGenData/CompCars_Original/SwinBase\\valAllCAMsEigenGPU.npz\n"
     ]
    },
    {
     "name": "stderr",
     "output_type": "stream",
     "text": [
      "C:\\Users\\Linus\\Desktop\\XAI-Vehicle-Classification\\scripts\\utils\\io.py:108: UserWarning: Using generate_split_files will redirect the call to generate_ann_file. Consider directly calling that function\n",
      "  warnings.warn(\"Using generate_split_files will redirect the call to generate_ann_file. Consider directly calling that function\")\n"
     ]
    },
    {
     "name": "stdout",
     "output_type": "stream",
     "text": [
      "Method for CAM generation: layercam, eigen-smooth:False, aug-smooth:False, vit-like:True\n",
      "Generate Results for specified files\n",
      "Automatically choose the last norm layer as target_layer.\n",
      "[>>>>>>>>>>>>>>>>>>>>>>>>] 13333/13333, 2.4 task/s, elapsed: 5613s, ETA:     0s\n",
      "Save Split file for Cams\n",
      "Creating annotation file at ../preGenData/CompCars_Original/SwinBase\\valAllCAMsLayerGPU.txt\n",
      "Save generated CAMs to ../preGenData/CompCars_Original/SwinBase\\valAllCAMsLayerGPU.npz\n",
      "Method for CAM generation: gradcam++, eigen-smooth:False, aug-smooth:False, vit-like:True\n",
      "Generate Results for specified files\n",
      "Automatically choose the last norm layer as target_layer.\n",
      "[>>>>>>>>>>>>>>>>>>>>>>>>] 13333/13333, 3.3 task/s, elapsed: 4086s, ETA:     0s\n",
      "Save Split file for Cams\n",
      "Creating annotation file at ../preGenData/CompCars_Original/SwinSmall\\valAllCAMsGrad++GPU.txt\n",
      "Save generated CAMs to ../preGenData/CompCars_Original/SwinSmall\\valAllCAMsGrad++GPU.npz\n",
      "Method for CAM generation: eigencam, eigen-smooth:False, aug-smooth:False, vit-like:True\n",
      "Generate Results for specified files\n",
      "Automatically choose the last norm layer as target_layer.\n",
      "[>>>>>>>>>>>>>>>>>>>>>>>>] 13333/13333, 3.8 task/s, elapsed: 3511s, ETA:     0s\n",
      "Save Split file for Cams\n",
      "Creating annotation file at ../preGenData/CompCars_Original/SwinSmall\\valAllCAMsEigenGPU.txt\n",
      "Save generated CAMs to ../preGenData/CompCars_Original/SwinSmall\\valAllCAMsEigenGPU.npz\n",
      "Method for CAM generation: layercam, eigen-smooth:False, aug-smooth:False, vit-like:True\n",
      "Generate Results for specified files\n",
      "Automatically choose the last norm layer as target_layer.\n",
      "[>>>>>>>>>>>>>>>>>>>>>>>>] 13333/13333, 3.3 task/s, elapsed: 4092s, ETA:     0s\n",
      "Save Split file for Cams\n",
      "Creating annotation file at ../preGenData/CompCars_Original/SwinSmall\\valAllCAMsLayerGPU.txt\n",
      "Save generated CAMs to ../preGenData/CompCars_Original/SwinSmall\\valAllCAMsLayerGPU.npz\n"
     ]
    }
   ],
   "source": [
    "igR = 'C:/Users/Linus/Desktop/XAI-Vehicle-Classification/data/CompCars_sv_original_split/blurred/blurredBackground'\n",
    "\n",
    "cfgC = configCAMResOG\n",
    "ckpC = checkpointCAMResOG\n",
    "svPre = '../preGenData/blurredBackground/CompCars_Original/ResNet/'\n",
    "generate_cams.main([igR, cfgC, ckpC, '-s', svPre + 'valAllCAMsGrad++GPU', '--method', 'gradcam++'])\n",
    "generate_cams.main([igR, cfgC, ckpC, '-s', svPre + 'valAllCAMsEigenGPU', '--method', 'eigencam'])\n",
    "generate_cams.main([igR, cfgC, ckpC, '-s', svPre + 'valAllCAMsLayerGPU', '--method', 'layercam'])\n",
    "\n",
    "cfgC = configCAMSwinBaseOG\n",
    "ckpC = checkpointCAMSwinBaseOG\n",
    "svPre = '../preGenData/blurredBackground/CompCars_Original/SwinBase/'\n",
    "generate_cams.main([igR, cfgC, ckpC, '-s', svPre + 'valAllCAMsGrad++GPU', '--method', 'gradcam++', '--vit-like'])\n",
    "generate_cams.main([igR, cfgC, ckpC, '-s', svPre + 'valAllCAMsEigenGPU', '--method', 'eigencam', '--vit-like'])\n",
    "generate_cams.main([igR, cfgC, ckpC, '-s', svPre + 'valAllCAMsLayerGPU', '--method', 'layercam', '--vit-like'])\n",
    "\n",
    "cfgC = configCAMSwinSmallOG\n",
    "ckpC = checkpointCAMSwinSmallOG\n",
    "svPre = '../preGenData/blurredBackground/CompCars_Original/SwinSmall/'\n",
    "generate_cams.main([igR, cfgC, ckpC, '-s', svPre + 'valAllCAMsGrad++GPU', '--method', 'gradcam++', '--vit-like'])\n",
    "generate_cams.main([igR, cfgC, ckpC, '-s', svPre + 'valAllCAMsEigenGPU', '--method', 'eigencam', '--vit-like'])\n",
    "generate_cams.main([igR, cfgC, ckpC, '-s', svPre + 'valAllCAMsLayerGPU', '--method', 'layercam', '--vit-like'])\n"
   ]
  },
  {
   "cell_type": "code",
   "execution_count": 3,
   "id": "2da003bd",
   "metadata": {},
   "outputs": [
    {
     "name": "stdout",
     "output_type": "stream",
     "text": [
      "Method for CAM generation: eigencam, eigen-smooth:False, aug-smooth:False, vit-like:True\n",
      "Generate Results for specified files\n",
      "Automatically choose the last norm layer as target_layer.\n",
      "[>>>>>>>>>>>>>>>>>>>>>>>>] 13333/13333, 3.7 task/s, elapsed: 3627s, ETA:     0s\n",
      "Save Split file for Cams\n",
      "Creating annotation file at ../preGenData/blurfllight/CompCars_Original/SwinSmall\\valAllCAMsEigenGPU.txt\n",
      "Save generated CAMs to ../preGenData/blurfllight/CompCars_Original/SwinSmall\\valAllCAMsEigenGPU.npz\n"
     ]
    },
    {
     "name": "stderr",
     "output_type": "stream",
     "text": [
      "C:\\Users\\Linus\\Desktop\\XAI-Vehicle-Classification\\scripts\\utils\\io.py:108: UserWarning: Using generate_split_files will redirect the call to generate_ann_file. Consider directly calling that function\n",
      "  warnings.warn(\"Using generate_split_files will redirect the call to generate_ann_file. Consider directly calling that function\")\n"
     ]
    },
    {
     "name": "stdout",
     "output_type": "stream",
     "text": [
      "Method for CAM generation: layercam, eigen-smooth:False, aug-smooth:False, vit-like:True\n",
      "Generate Results for specified files\n",
      "Automatically choose the last norm layer as target_layer.\n",
      "[>>>>>>>>>>>>>>>>>>>>>>>>] 13333/13333, 3.3 task/s, elapsed: 4085s, ETA:     0s\n",
      "Save Split file for Cams\n",
      "Creating annotation file at ../preGenData/blurfllight/CompCars_Original/SwinSmall\\valAllCAMsLayerGPU.txt\n",
      "Save generated CAMs to ../preGenData/blurfllight/CompCars_Original/SwinSmall\\valAllCAMsLayerGPU.npz\n"
     ]
    }
   ],
   "source": [
    "igR = 'C:/Users/Linus/Desktop/XAI-Vehicle-Classification/data/CompCars_sv_original_split/blurred/blurredFrontLeftLight'\n",
    "\n",
    "cfgC = configCAMResOG\n",
    "ckpC = checkpointCAMResOG\n",
    "svPre = '../preGenData/blurfllight/CompCars_Original/ResNet/'\n",
    "generate_cams.main([igR, cfgC, ckpC, '-s', svPre + 'valAllCAMsGrad++GPU', '--method', 'gradcam++'])\n",
    "generate_cams.main([igR, cfgC, ckpC, '-s', svPre + 'valAllCAMsEigenGPU', '--method', 'eigencam'])\n",
    "generate_cams.main([igR, cfgC, ckpC, '-s', svPre + 'valAllCAMsLayerGPU', '--method', 'layercam'])\n",
    "\n",
    "cfgC = configCAMSwinBaseOG\n",
    "ckpC = checkpointCAMSwinBaseOG\n",
    "svPre = '../preGenData/blurfllight/CompCars_Original/SwinBase/'\n",
    "generate_cams.main([igR, cfgC, ckpC, '-s', svPre + 'valAllCAMsGrad++GPU', '--method', 'gradcam++', '--vit-like'])\n",
    "generate_cams.main([igR, cfgC, ckpC, '-s', svPre + 'valAllCAMsEigenGPU', '--method', 'eigencam', '--vit-like'])\n",
    "generate_cams.main([igR, cfgC, ckpC, '-s', svPre + 'valAllCAMsLayerGPU', '--method', 'layercam', '--vit-like'])\n",
    "\n",
    "cfgC = configCAMSwinSmallOG\n",
    "ckpC = checkpointCAMSwinSmallOG\n",
    "svPre = '../preGenData/blurfllight/CompCars_Original/SwinSmall/'\n",
    "#generate_cams.main([igR, cfgC, ckpC, '-s', svPre + 'valAllCAMsGrad++GPU', '--method', 'gradcam++', '--vit-like'])\n",
    "generate_cams.main([igR, cfgC, ckpC, '-s', svPre + 'valAllCAMsEigenGPU', '--method', 'eigencam', '--vit-like'])\n",
    "generate_cams.main([igR, cfgC, ckpC, '-s', svPre + 'valAllCAMsLayerGPU', '--method', 'layercam', '--vit-like'])\n"
   ]
  },
  {
   "cell_type": "code",
   "execution_count": 4,
   "id": "f3fd5fc5",
   "metadata": {
    "scrolled": true
   },
   "outputs": [
    {
     "name": "stdout",
     "output_type": "stream",
     "text": [
      "Method for CAM generation: gradcam++, eigen-smooth:False, aug-smooth:False, vit-like:False\n",
      "Generate Results for specified files\n",
      "Automatically choose the last norm layer as target_layer.\n",
      "[>>>>>>>>>>>>>>>>>>>>>>>>] 13333/13333, 4.4 task/s, elapsed: 3041s, ETA:     0s\n",
      "Save Split file for Cams\n",
      "Creating annotation file at ../preGenData/blurredFLLight_Hood_FBumper/CompCars_Original/ResNet\\valAllCAMsGrad++GPU.txt\n",
      "Save generated CAMs to ../preGenData/blurredFLLight_Hood_FBumper/CompCars_Original/ResNet\\valAllCAMsGrad++GPU.npz\n",
      "Method for CAM generation: eigencam, eigen-smooth:False, aug-smooth:False, vit-like:False\n",
      "Generate Results for specified files\n",
      "Automatically choose the last norm layer as target_layer.\n",
      "[>>>>>>>>>>>>>>>>>>>>>>>>] 13333/13333, 3.0 task/s, elapsed: 4403s, ETA:     0s\n",
      "Save Split file for Cams\n",
      "Creating annotation file at ../preGenData/blurredFLLight_Hood_FBumper/CompCars_Original/ResNet\\valAllCAMsEigenGPU.txt\n",
      "Save generated CAMs to ../preGenData/blurredFLLight_Hood_FBumper/CompCars_Original/ResNet\\valAllCAMsEigenGPU.npz\n",
      "Method for CAM generation: layercam, eigen-smooth:False, aug-smooth:False, vit-like:False\n",
      "Generate Results for specified files\n",
      "Automatically choose the last norm layer as target_layer.\n",
      "[>>>>>>>>>>>>>>>>>>>>>>>>] 13333/13333, 4.6 task/s, elapsed: 2873s, ETA:     0s\n",
      "Save Split file for Cams\n",
      "Creating annotation file at ../preGenData/blurredFLLight_Hood_FBumper/CompCars_Original/ResNet\\valAllCAMsLayerGPU.txt\n",
      "Save generated CAMs to ../preGenData/blurredFLLight_Hood_FBumper/CompCars_Original/ResNet\\valAllCAMsLayerGPU.npz\n",
      "Method for CAM generation: gradcam++, eigen-smooth:False, aug-smooth:False, vit-like:True\n",
      "Generate Results for specified files\n",
      "Automatically choose the last norm layer as target_layer.\n",
      "[>>>>>>>>>>>>>>>>>>>>>>>>] 13333/13333, 2.3 task/s, elapsed: 5776s, ETA:     0s\n",
      "Save Split file for Cams\n",
      "Creating annotation file at ../preGenData/blurredFLLight_Hood_FBumper/CompCars_Original/SwinBase\\valAllCAMsGrad++GPU.txt\n",
      "Save generated CAMs to ../preGenData/blurredFLLight_Hood_FBumper/CompCars_Original/SwinBase\\valAllCAMsGrad++GPU.npz\n",
      "Method for CAM generation: eigencam, eigen-smooth:False, aug-smooth:False, vit-like:True\n",
      "Generate Results for specified files\n",
      "Automatically choose the last norm layer as target_layer.\n",
      "[>>>>>>>>>>>>>>>>>>>>>>>>] 13333/13333, 2.4 task/s, elapsed: 5532s, ETA:     0s\n",
      "Save Split file for Cams\n",
      "Creating annotation file at ../preGenData/blurredFLLight_Hood_FBumper/CompCars_Original/SwinBase\\valAllCAMsEigenGPU.txt\n",
      "Save generated CAMs to ../preGenData/blurredFLLight_Hood_FBumper/CompCars_Original/SwinBase\\valAllCAMsEigenGPU.npz\n",
      "Method for CAM generation: layercam, eigen-smooth:False, aug-smooth:False, vit-like:True\n",
      "Generate Results for specified files\n",
      "Automatically choose the last norm layer as target_layer.\n",
      "[>>>>>>>>>>>>>>>>>>>>>>>>] 13333/13333, 2.3 task/s, elapsed: 5866s, ETA:     0s\n",
      "Save Split file for Cams\n",
      "Creating annotation file at ../preGenData/blurredFLLight_Hood_FBumper/CompCars_Original/SwinBase\\valAllCAMsLayerGPU.txt\n",
      "Save generated CAMs to ../preGenData/blurredFLLight_Hood_FBumper/CompCars_Original/SwinBase\\valAllCAMsLayerGPU.npz\n",
      "Method for CAM generation: gradcam++, eigen-smooth:False, aug-smooth:False, vit-like:True\n",
      "Generate Results for specified files\n",
      "Automatically choose the last norm layer as target_layer.\n",
      "[>>>>>>>>>>>>>>>>>>>>>>>>] 13333/13333, 3.2 task/s, elapsed: 4185s, ETA:     0s\n",
      "Save Split file for Cams\n",
      "Creating annotation file at ../preGenData/blurredFLLight_Hood_FBumper/CompCars_Original/SwinSmall\\valAllCAMsGrad++GPU.txt\n",
      "Save generated CAMs to ../preGenData/blurredFLLight_Hood_FBumper/CompCars_Original/SwinSmall\\valAllCAMsGrad++GPU.npz\n",
      "Method for CAM generation: eigencam, eigen-smooth:False, aug-smooth:False, vit-like:True\n",
      "Generate Results for specified files\n",
      "Automatically choose the last norm layer as target_layer.\n",
      "[>>>>>>>>>>>>>>>>>>>>>>>>] 13333/13333, 3.5 task/s, elapsed: 3801s, ETA:     0s\n",
      "Save Split file for Cams\n",
      "Creating annotation file at ../preGenData/blurredFLLight_Hood_FBumper/CompCars_Original/SwinSmall\\valAllCAMsEigenGPU.txt\n",
      "Save generated CAMs to ../preGenData/blurredFLLight_Hood_FBumper/CompCars_Original/SwinSmall\\valAllCAMsEigenGPU.npz\n",
      "Method for CAM generation: layercam, eigen-smooth:False, aug-smooth:False, vit-like:True\n",
      "Generate Results for specified files\n",
      "Automatically choose the last norm layer as target_layer.\n",
      "[>>>>>>>>>>>>>>>>>>>>>>>>] 13333/13333, 3.5 task/s, elapsed: 3853s, ETA:     0s\n",
      "Save Split file for Cams\n",
      "Creating annotation file at ../preGenData/blurredFLLight_Hood_FBumper/CompCars_Original/SwinSmall\\valAllCAMsLayerGPU.txt\n",
      "Save generated CAMs to ../preGenData/blurredFLLight_Hood_FBumper/CompCars_Original/SwinSmall\\valAllCAMsLayerGPU.npz\n"
     ]
    }
   ],
   "source": [
    "igR = 'C:/Users/Linus/Desktop/XAI-Vehicle-Classification/data/CompCars_sv_original_split/blurred/blurredFLLight_Hood_FBumper'\n",
    "\n",
    "cfgC = configCAMResOG\n",
    "ckpC = checkpointCAMResOG\n",
    "svPre = '../preGenData/blurredFLLight_Hood_FBumper/CompCars_Original/ResNet/'\n",
    "generate_cams.main([igR, cfgC, ckpC, '-s', svPre + 'valAllCAMsGrad++GPU', '--method', 'gradcam++'])\n",
    "generate_cams.main([igR, cfgC, ckpC, '-s', svPre + 'valAllCAMsEigenGPU', '--method', 'eigencam'])\n",
    "generate_cams.main([igR, cfgC, ckpC, '-s', svPre + 'valAllCAMsLayerGPU', '--method', 'layercam'])\n",
    "\n",
    "cfgC = configCAMSwinBaseOG\n",
    "ckpC = checkpointCAMSwinBaseOG\n",
    "svPre = '../preGenData/blurredFLLight_Hood_FBumper/CompCars_Original/SwinBase/'\n",
    "generate_cams.main([igR, cfgC, ckpC, '-s', svPre + 'valAllCAMsGrad++GPU', '--method', 'gradcam++', '--vit-like'])\n",
    "generate_cams.main([igR, cfgC, ckpC, '-s', svPre + 'valAllCAMsEigenGPU', '--method', 'eigencam', '--vit-like'])\n",
    "generate_cams.main([igR, cfgC, ckpC, '-s', svPre + 'valAllCAMsLayerGPU', '--method', 'layercam', '--vit-like'])\n",
    "\n",
    "cfgC = configCAMSwinSmallOG\n",
    "ckpC = checkpointCAMSwinSmallOG\n",
    "svPre = '../preGenData/blurredFLLight_Hood_FBumper/CompCars_Original/SwinSmall/'\n",
    "generate_cams.main([igR, cfgC, ckpC, '-s', svPre + 'valAllCAMsGrad++GPU', '--method', 'gradcam++', '--vit-like'])\n",
    "generate_cams.main([igR, cfgC, ckpC, '-s', svPre + 'valAllCAMsEigenGPU', '--method', 'eigencam', '--vit-like'])\n",
    "generate_cams.main([igR, cfgC, ckpC, '-s', svPre + 'valAllCAMsLayerGPU', '--method', 'layercam', '--vit-like'])"
   ]
  },
  {
   "cell_type": "code",
   "execution_count": 3,
   "id": "add37ccf",
   "metadata": {
    "scrolled": true
   },
   "outputs": [
    {
     "name": "stdout",
     "output_type": "stream",
     "text": [
      "Method for CAM generation: gradcam++, eigen-smooth:False, aug-smooth:False, vit-like:True\n",
      "Generate Results for specified files\n",
      "Automatically choose the last norm layer as target_layer.\n",
      "[>>>>>>>>>>>>>>>>>>>>>>>>] 13333/13333, 3.2 task/s, elapsed: 4113s, ETA:     0s\n",
      "Save Split file for Cams\n",
      "Creating annotation file at ../preGenData/blurredBackground_Hood_FBumper/CompCars_Original/SwinSmall\\valAllCAMsGrad++GPU.txt\n",
      "Save generated CAMs to ../preGenData/blurredBackground_Hood_FBumper/CompCars_Original/SwinSmall\\valAllCAMsGrad++GPU.npz\n"
     ]
    },
    {
     "name": "stderr",
     "output_type": "stream",
     "text": [
      "C:\\Users\\Linus\\Desktop\\XAI-Vehicle-Classification\\scripts\\utils\\io.py:108: UserWarning: Using generate_split_files will redirect the call to generate_ann_file. Consider directly calling that function\n",
      "  warnings.warn(\"Using generate_split_files will redirect the call to generate_ann_file. Consider directly calling that function\")\n"
     ]
    },
    {
     "name": "stdout",
     "output_type": "stream",
     "text": [
      "Method for CAM generation: eigencam, eigen-smooth:False, aug-smooth:False, vit-like:True\n",
      "Generate Results for specified files\n",
      "Automatically choose the last norm layer as target_layer.\n",
      "[>>>>>>>>>>>>>>>>>>>>>>>>] 13333/13333, 3.8 task/s, elapsed: 3484s, ETA:     0s\n",
      "Save Split file for Cams\n",
      "Creating annotation file at ../preGenData/blurredBackground_Hood_FBumper/CompCars_Original/SwinSmall\\valAllCAMsEigenGPU.txt\n",
      "Save generated CAMs to ../preGenData/blurredBackground_Hood_FBumper/CompCars_Original/SwinSmall\\valAllCAMsEigenGPU.npz\n",
      "Method for CAM generation: layercam, eigen-smooth:False, aug-smooth:False, vit-like:True\n",
      "Generate Results for specified files\n",
      "Automatically choose the last norm layer as target_layer.\n",
      "[>>>>>>>>>>>>>>>>>>>>>>>>] 13333/13333, 3.4 task/s, elapsed: 3889s, ETA:     0s\n",
      "Save Split file for Cams\n",
      "Creating annotation file at ../preGenData/blurredBackground_Hood_FBumper/CompCars_Original/SwinSmall\\valAllCAMsLayerGPU.txt\n",
      "Save generated CAMs to ../preGenData/blurredBackground_Hood_FBumper/CompCars_Original/SwinSmall\\valAllCAMsLayerGPU.npz\n"
     ]
    }
   ],
   "source": [
    "igR = 'C:/Users/Linus/Desktop/XAI-Vehicle-Classification/data/CompCars_sv_original_split/blurred/blurredBackground_Hood_FBumper'\n",
    "\n",
    "cfgC = configCAMResOG\n",
    "ckpC = checkpointCAMResOG\n",
    "svPre = '../preGenData/blurredBackground_Hood_FBumper/CompCars_Original/ResNet/'\n",
    "generate_cams.main([igR, cfgC, ckpC, '-s', svPre + 'valAllCAMsGrad++GPU', '--method', 'gradcam++'])\n",
    "generate_cams.main([igR, cfgC, ckpC, '-s', svPre + 'valAllCAMsEigenGPU', '--method', 'eigencam'])\n",
    "generate_cams.main([igR, cfgC, ckpC, '-s', svPre + 'valAllCAMsLayerGPU', '--method', 'layercam'])\n",
    "\n",
    "cfgC = configCAMSwinBaseOG\n",
    "ckpC = checkpointCAMSwinBaseOG\n",
    "svPre = '../preGenData/blurredBackground_Hood_FBumper/CompCars_Original/SwinBase/'\n",
    "generate_cams.main([igR, cfgC, ckpC, '-s', svPre + 'valAllCAMsGrad++GPU', '--method', 'gradcam++', '--vit-like'])\n",
    "generate_cams.main([igR, cfgC, ckpC, '-s', svPre + 'valAllCAMsEigenGPU', '--method', 'eigencam', '--vit-like'])\n",
    "generate_cams.main([igR, cfgC, ckpC, '-s', svPre + 'valAllCAMsLayerGPU', '--method', 'layercam', '--vit-like'])\n",
    "\n",
    "cfgC = configCAMSwinSmallOG\n",
    "ckpC = checkpointCAMSwinSmallOG\n",
    "svPre = '../preGenData/blurredBackground_Hood_FBumper/CompCars_Original/SwinSmall/'\n",
    "generate_cams.main([igR, cfgC, ckpC, '-s', svPre + 'valAllCAMsGrad++GPU', '--method', 'gradcam++', '--vit-like'])\n",
    "generate_cams.main([igR, cfgC, ckpC, '-s', svPre + 'valAllCAMsEigenGPU', '--method', 'eigencam', '--vit-like'])\n",
    "generate_cams.main([igR, cfgC, ckpC, '-s', svPre + 'valAllCAMsLayerGPU', '--method', 'layercam', '--vit-like'])"
   ]
  },
  {
   "cell_type": "code",
   "execution_count": 7,
   "id": "dd685888",
   "metadata": {},
   "outputs": [
    {
     "name": "stdout",
     "output_type": "stream",
     "text": [
      "Saving resulting segmentation masks in G:/XAI-Vehicle-Classification/preGenData/Segmentations/StanfordCars_Original\n",
      "Creating annotation file at G:/XAI-Vehicle-Classification/preGenData/Segmentations/StanfordCars_Original\\valAllSegsNoScale.txt\n",
      "Calculating segmentation results.\n",
      "[>>>>>>>>>>>>>>>>>>>>>>>>>>>] 8041/8041, 8.8 task/s, elapsed: 914s, ETA:     0s\n",
      "Saving results at G:/XAI-Vehicle-Classification/preGenData/Segmentations/StanfordCars_Original\\valAllSegsNoScale.npz\n",
      "Saving resulting segmentation masks in G:/XAI-Vehicle-Classification/preGenData/Segmentations/StanfordCars_Original\n",
      "Loading Pipeline from Config ../CAMModels/resnet/compCars_Original/resnet50_b128x2_compcars-original-split.py\n",
      "Creating annotation file at G:/XAI-Vehicle-Classification/preGenData/Segmentations/StanfordCars_Original\\valAllSegs.txt\n",
      "Calculating segmentation results.\n",
      "[>>>>>>>>>>>>>>>>>>>>>>>>>>>] 8041/8041, 8.8 task/s, elapsed: 913s, ETA:     0s\n",
      "Saving results at G:/XAI-Vehicle-Classification/preGenData/Segmentations/StanfordCars_Original\\valAllSegs.npz\n"
     ]
    }
   ],
   "source": [
    "generate_segs.main([imgRootValStandford, configSeg, checkpointSeg,\n",
    "                    '-s', 'G:/XAI-Vehicle-Classification/preGenData/Segmentations/StanfordCars_Original/valAllSegsNoScale'])\n",
    "# With pipeline\n",
    "generate_segs.main([imgRootValStandford, configSeg, checkpointSeg, '-p', 'post', configCAMResOG,\n",
    "                    '-s', 'G:/XAI-Vehicle-Classification/preGenData/Segmentations/StanfordCars_Original/valAllSegs'])"
   ]
  },
  {
   "cell_type": "code",
   "execution_count": 5,
   "id": "df0d3e88",
   "metadata": {
    "scrolled": true
   },
   "outputs": [
    {
     "name": "stdout",
     "output_type": "stream",
     "text": [
      "Method for CAM generation: gradcam, eigen-smooth:False, aug-smooth:False, vit-like:True\n",
      "Generate Results for specified files\n",
      "Automatically choose the last norm layer as target_layer.\n",
      "[>>>>>>>>>>>>>>>>>>>>>>>>>>] 8041/8041, 13.9 task/s, elapsed: 577s, ETA:     0s\n",
      "Save Split file for Cams\n",
      "Creating annotation file at ../preGenData/StanfordCars_Original/swinBase/GPU\\valAllCAMsGradGPU.txt\n",
      "Save generated CAMs to ../preGenData/StanfordCars_Original/swinBase/GPU\\valAllCAMsGradGPU.npz\n"
     ]
    },
    {
     "name": "stderr",
     "output_type": "stream",
     "text": [
      "C:\\Users\\Linus\\Desktop\\XAI-Vehicle-Classification\\scripts\\utils\\io.py:108: UserWarning: Using generate_split_files will redirect the call to generate_ann_file. Consider directly calling that function\n",
      "  warnings.warn(\"Using generate_split_files will redirect the call to generate_ann_file. Consider directly calling that function\")\n"
     ]
    },
    {
     "name": "stdout",
     "output_type": "stream",
     "text": [
      "Method for CAM generation: gradcam++, eigen-smooth:False, aug-smooth:False, vit-like:True\n",
      "Generate Results for specified files\n",
      "Automatically choose the last norm layer as target_layer.\n",
      "[>>>>>>>>>>>>>>>>>>>>>>>>>>] 8041/8041, 14.7 task/s, elapsed: 546s, ETA:     0s\n",
      "Save Split file for Cams\n",
      "Creating annotation file at ../preGenData/StanfordCars_Original/swinBase/GPU\\valAllCAMsGrad++GPU.txt\n",
      "Save generated CAMs to ../preGenData/StanfordCars_Original/swinBase/GPU\\valAllCAMsGrad++GPU.npz\n",
      "Method for CAM generation: xgradcam, eigen-smooth:False, aug-smooth:False, vit-like:True\n",
      "Generate Results for specified files\n",
      "Automatically choose the last norm layer as target_layer.\n",
      "[>>>>>>>>>>>>>>>>>>>>>>>>>>] 8041/8041, 14.7 task/s, elapsed: 545s, ETA:     0s\n",
      "Save Split file for Cams\n",
      "Creating annotation file at ../preGenData/StanfordCars_Original/swinBase/GPU\\valAllCAMsXGradGPU.txt\n",
      "Save generated CAMs to ../preGenData/StanfordCars_Original/swinBase/GPU\\valAllCAMsXGradGPU.npz\n",
      "Method for CAM generation: eigencam, eigen-smooth:False, aug-smooth:False, vit-like:True\n",
      "Generate Results for specified files\n",
      "Automatically choose the last norm layer as target_layer.\n",
      "[>>>>>>>>>>>>>>>>>>>>>>>>>>>] 8041/8041, 9.7 task/s, elapsed: 832s, ETA:     0s\n",
      "Save Split file for Cams\n",
      "Creating annotation file at ../preGenData/StanfordCars_Original/swinBase/GPU\\valAllCAMsEigenGPU.txt\n",
      "Save generated CAMs to ../preGenData/StanfordCars_Original/swinBase/GPU\\valAllCAMsEigenGPU.npz\n",
      "Method for CAM generation: eigengradcam, eigen-smooth:False, aug-smooth:False, vit-like:True\n",
      "Generate Results for specified files\n",
      "Automatically choose the last norm layer as target_layer.\n",
      "[>>>>>>>>>>>>>>>>>>>>>>>>>>>] 8041/8041, 9.2 task/s, elapsed: 876s, ETA:     0s\n",
      "Save Split file for Cams\n",
      "Creating annotation file at ../preGenData/StanfordCars_Original/swinBase/GPU\\valAllCAMsEigenGradGPU.txt\n",
      "Save generated CAMs to ../preGenData/StanfordCars_Original/swinBase/GPU\\valAllCAMsEigenGradGPU.npz\n",
      "Method for CAM generation: layercam, eigen-smooth:False, aug-smooth:False, vit-like:True\n",
      "Generate Results for specified files\n",
      "Automatically choose the last norm layer as target_layer.\n",
      "[>>>>>>>>>>>>>>>>>>>>>>>>>>] 8041/8041, 14.7 task/s, elapsed: 545s, ETA:     0s\n",
      "Save Split file for Cams\n",
      "Creating annotation file at ../preGenData/StanfordCars_Original/swinBase/GPU\\valAllCAMsLayerGPU.txt\n",
      "Save generated CAMs to ../preGenData/StanfordCars_Original/swinBase/GPU\\valAllCAMsLayerGPU.npz\n",
      "Method for CAM generation: gradcam, eigen-smooth:False, aug-smooth:False, vit-like:True\n",
      "Generate Results for specified files\n",
      "Automatically choose the last norm layer as target_layer.\n",
      "[>>>>>>>>>>>>>>>>>>>>>>>>>>] 8041/8041, 14.7 task/s, elapsed: 548s, ETA:     0s\n",
      "Save Split file for Cams\n",
      "Creating annotation file at ../preGenData/StanfordCars_Original/swinSmall/GPU\\valAllCAMsGradGPU.txt\n",
      "Save generated CAMs to ../preGenData/StanfordCars_Original/swinSmall/GPU\\valAllCAMsGradGPU.npz\n",
      "Method for CAM generation: gradcam++, eigen-smooth:False, aug-smooth:False, vit-like:True\n",
      "Generate Results for specified files\n",
      "Automatically choose the last norm layer as target_layer.\n",
      "[>>>>>>>>>>>>>>>>>>>>>>>>>>] 8041/8041, 14.5 task/s, elapsed: 555s, ETA:     0s\n",
      "Save Split file for Cams\n",
      "Creating annotation file at ../preGenData/StanfordCars_Original/swinSmall/GPU\\valAllCAMsGrad++GPU.txt\n",
      "Save generated CAMs to ../preGenData/StanfordCars_Original/swinSmall/GPU\\valAllCAMsGrad++GPU.npz\n",
      "Method for CAM generation: xgradcam, eigen-smooth:False, aug-smooth:False, vit-like:True\n",
      "Generate Results for specified files\n",
      "Automatically choose the last norm layer as target_layer.\n",
      "[>>>>>>>>>>>>>>>>>>>>>>>>>>] 8041/8041, 14.7 task/s, elapsed: 547s, ETA:     0s\n",
      "Save Split file for Cams\n",
      "Creating annotation file at ../preGenData/StanfordCars_Original/swinSmall/GPU\\valAllCAMsXGradGPU.txt\n",
      "Save generated CAMs to ../preGenData/StanfordCars_Original/swinSmall/GPU\\valAllCAMsXGradGPU.npz\n",
      "Method for CAM generation: eigencam, eigen-smooth:False, aug-smooth:False, vit-like:True\n",
      "Generate Results for specified files\n",
      "Automatically choose the last norm layer as target_layer.\n",
      "[>>>>>>>>>>>>>>>>>>>>>>>>>>] 8041/8041, 15.1 task/s, elapsed: 533s, ETA:     0s\n",
      "Save Split file for Cams\n",
      "Creating annotation file at ../preGenData/StanfordCars_Original/swinSmall/GPU\\valAllCAMsEigenGPU.txt\n",
      "Save generated CAMs to ../preGenData/StanfordCars_Original/swinSmall/GPU\\valAllCAMsEigenGPU.npz\n",
      "Method for CAM generation: eigengradcam, eigen-smooth:False, aug-smooth:False, vit-like:True\n",
      "Generate Results for specified files\n",
      "Automatically choose the last norm layer as target_layer.\n",
      "[>>>>>>>>>>>>>>>>>>>>>>>>>>] 8041/8041, 13.7 task/s, elapsed: 586s, ETA:     0s\n",
      "Save Split file for Cams\n",
      "Creating annotation file at ../preGenData/StanfordCars_Original/swinSmall/GPU\\valAllCAMsEigenGradGPU.txt\n",
      "Save generated CAMs to ../preGenData/StanfordCars_Original/swinSmall/GPU\\valAllCAMsEigenGradGPU.npz\n",
      "Method for CAM generation: layercam, eigen-smooth:False, aug-smooth:False, vit-like:True\n",
      "Generate Results for specified files\n",
      "Automatically choose the last norm layer as target_layer.\n",
      "[>>>>>>>>>>>>>>>>>>>>>>>>>>] 8041/8041, 14.6 task/s, elapsed: 551s, ETA:     0s\n",
      "Save Split file for Cams\n",
      "Creating annotation file at ../preGenData/StanfordCars_Original/swinSmall/GPU\\valAllCAMsLayerGPU.txt\n",
      "Save generated CAMs to ../preGenData/StanfordCars_Original/swinSmall/GPU\\valAllCAMsLayerGPU.npz\n"
     ]
    }
   ],
   "source": [
    "igR = imgRootValStandford\n",
    "cfgC = configCAMResStanford\n",
    "ckpC = checkpointCAMResStanford\n",
    "svPre = '../preGenData/StanfordCars_Original/resnet/GPU/'\n",
    "generate_cams.main([igR, cfgC, ckpC, '-s', svPre + 'valAllCAMs', '--method', 'gradcam', '--device', 'cuda'])\n",
    "generate_cams.main([igR, cfgC, ckpC, '-s', svPre + 'valAllCAMsGrad++', '--method', 'gradcam++', '--device', 'cuda'])\n",
    "generate_cams.main([igR, cfgC, ckpC, '-s', svPre + 'valAllCAMsXGrad', '--method', 'xgradcam', '--device', 'cuda'])\n",
    "generate_cams.main([igR, cfgC, ckpC, '-s', svPre + 'valAllCAMsEigen', '--method', 'eigencam', '--device', 'cuda'])\n",
    "generate_cams.main([igR, cfgC, ckpC, '-s', svPre + 'valAllCAMsEigenGrad', '--method', 'eigengradcam', '--device', 'cuda'])\n",
    "generate_cams.main([igR, cfgC, ckpC, '-s', svPre + 'valAllCAMsLayer', '--method', 'layercam', '--device', 'cuda'])\n",
    "\n",
    "\n",
    "cfgC = configCAMSwinBaseStanford\n",
    "ckpC = checkpointCAMSwinBaseStanford\n",
    "svPre = '../preGenData/StanfordCars_Original/swinBase/GPU/'\n",
    "generate_cams.main([igR, cfgC, ckpC, '-s', svPre + 'valAllCAMs', '--method', 'gradcam', '--vit-like', '--device', 'cuda'])\n",
    "generate_cams.main([igR, cfgC, ckpC, '-s', svPre + 'valAllCAMsGrad++', '--method', 'gradcam++', '--vit-like', '--device', 'cuda'])\n",
    "generate_cams.main([igR, cfgC, ckpC, '-s', svPre + 'valAllCAMsXGrad', '--method', 'xgradcam', '--vit-like', '--device', 'cuda'])\n",
    "generate_cams.main([igR, cfgC, ckpC, '-s', svPre + 'valAllCAMsEigen', '--method', 'eigencam', '--vit-like', '--device', 'cuda'])\n",
    "generate_cams.main([igR, cfgC, ckpC, '-s', svPre + 'valAllCAMsEigenGrad', '--method', 'eigengradcam', '--vit-like', '--device', 'cuda'])\n",
    "generate_cams.main([igR, cfgC, ckpC, '-s', svPre + 'valAllCAMsLayer', '--method', 'layercam', '--vit-like', '--device', 'cuda'])\n",
    "\n",
    "\n",
    "cfgC = configCAMSwinSmallStanford\n",
    "ckpC = checkpointCAMSwinSmallStanford\n",
    "svPre = '../preGenData/StanfordCars_Original/swinSmall/GPU/'\n",
    "generate_cams.main([igR, cfgC, ckpC, '-s', svPre + 'valAllCAMs', '--method', 'gradcam', '--vit-like', '--device', 'cuda'])\n",
    "generate_cams.main([igR, cfgC, ckpC, '-s', svPre + 'valAllCAMsGrad++', '--method', 'gradcam++', '--vit-like', '--device', 'cuda'])\n",
    "generate_cams.main([igR, cfgC, ckpC, '-s', svPre + 'valAllCAMsXGrad', '--method', 'xgradcam', '--vit-like', '--device', 'cuda'])\n",
    "generate_cams.main([igR, cfgC, ckpC, '-s', svPre + 'valAllCAMsEigen', '--method', 'eigencam', '--vit-like', '--device', 'cuda'])\n",
    "generate_cams.main([igR, cfgC, ckpC, '-s', svPre + 'valAllCAMsEigenGrad', '--method', 'eigengradcam', '--vit-like', '--device', 'cuda'])\n",
    "generate_cams.main([igR, cfgC, ckpC, '-s', svPre + 'valAllCAMsLayer', '--method', 'layercam', '--vit-like', '--device', 'cuda'])"
   ]
  },
  {
   "cell_type": "code",
   "execution_count": 5,
   "id": "7e61b03b",
   "metadata": {},
   "outputs": [
    {
     "name": "stdout",
     "output_type": "stream",
     "text": [
      "Generating CAMs using blurred images.\n",
      "Modifying pipeline cfg so that specified segments background,hood,front_bumper will be blurred out.\n",
      "Method for CAM generation: GradCAM, eigen-smooth:False, aug-smooth:False, vit-like:False\n",
      "Generate Results for specified files\n",
      "Automatically choose the last norm layer as target_layer.\n",
      "[>>>>>>>>>>>>>>>>>>>>>>>>] 13333/13333, 4.3 task/s, elapsed: 3124s, ETA:     0s\n",
      "Save Split file for Cams\n",
      "Creating annotation file at blurredBackground_Hood_FBumper\\resultsCAM.txt\n",
      "Save generated CAMs to blurredBackground_Hood_FBumper\\resultsCAM.npz\n"
     ]
    },
    {
     "name": "stderr",
     "output_type": "stream",
     "text": [
      "C:\\Users\\Linus\\Desktop\\XAI-Vehicle-Classification\\scripts\\utils\\io.py:108: UserWarning: Using generate_split_files will redirect the call to generate_ann_file. Consider directly calling that function\n",
      "  warnings.warn(\"Using generate_split_files will redirect the call to generate_ann_file. Consider directly calling that function\")\n"
     ]
    },
    {
     "name": "stdout",
     "output_type": "stream",
     "text": [
      "Generating CAMs using blurred images.\n",
      "Modifying pipeline cfg so that specified segments front_left_light,hood,front_bumper will be blurred out.\n",
      "Method for CAM generation: GradCAM, eigen-smooth:False, aug-smooth:False, vit-like:False\n",
      "Generate Results for specified files\n",
      "Automatically choose the last norm layer as target_layer.\n",
      "[>>>>>>>>>>>>>>>>>>>>>>>>] 13333/13333, 4.6 task/s, elapsed: 2926s, ETA:     0s\n",
      "Save Split file for Cams\n",
      "Creating annotation file at blurredFLLight_Hood_FBumper\\resultsCAM.txt\n",
      "Save generated CAMs to blurredFLLight_Hood_FBumper\\resultsCAM.npz\n",
      "Generating CAMs using blurred images.\n",
      "Modifying pipeline cfg so that specified segments front_left_light will be blurred out.\n",
      "Method for CAM generation: GradCAM, eigen-smooth:False, aug-smooth:False, vit-like:False\n",
      "Generate Results for specified files\n",
      "Automatically choose the last norm layer as target_layer.\n",
      "[>                          ] 879/13333, 4.8 task/s, elapsed: 182s, ETA:  2575s"
     ]
    },
    {
     "ename": "KeyboardInterrupt",
     "evalue": "",
     "output_type": "error",
     "traceback": [
      "\u001b[1;31m---------------------------------------------------------------------------\u001b[0m",
      "\u001b[1;31mKeyboardInterrupt\u001b[0m                         Traceback (most recent call last)",
      "Input \u001b[1;32mIn [5]\u001b[0m, in \u001b[0;36m<cell line: 13>\u001b[1;34m()\u001b[0m\n\u001b[0;32m      1\u001b[0m generate_cams\u001b[38;5;241m.\u001b[39mmain([imgRootValOriginal, configCAMResOG, checkpointCAMResOG, \u001b[38;5;124m'\u001b[39m\u001b[38;5;124m--device\u001b[39m\u001b[38;5;124m'\u001b[39m, \u001b[38;5;124m'\u001b[39m\u001b[38;5;124mcuda\u001b[39m\u001b[38;5;124m'\u001b[39m,\n\u001b[0;32m      2\u001b[0m                     \u001b[38;5;124m'\u001b[39m\u001b[38;5;124m--segData\u001b[39m\u001b[38;5;124m'\u001b[39m, segDataPathNoScaleOG,\n\u001b[0;32m      3\u001b[0m                    \u001b[38;5;124m'\u001b[39m\u001b[38;5;124m--saveBlurred\u001b[39m\u001b[38;5;124m'\u001b[39m, \u001b[38;5;124m'\u001b[39m\u001b[38;5;124m--blurredSegments\u001b[39m\u001b[38;5;124m'\u001b[39m, \u001b[38;5;124m'\u001b[39m\u001b[38;5;124mbackground\u001b[39m\u001b[38;5;124m'\u001b[39m, \u001b[38;5;124m'\u001b[39m\u001b[38;5;124mhood\u001b[39m\u001b[38;5;124m'\u001b[39m, \u001b[38;5;124m'\u001b[39m\u001b[38;5;124mfront_bumper\u001b[39m\u001b[38;5;124m'\u001b[39m,\n\u001b[0;32m      4\u001b[0m                     \u001b[38;5;124m'\u001b[39m\u001b[38;5;124m--segConfig\u001b[39m\u001b[38;5;124m'\u001b[39m, configSeg,\n\u001b[0;32m      5\u001b[0m                     \u001b[38;5;124m'\u001b[39m\u001b[38;5;124m--segCheckpoint\u001b[39m\u001b[38;5;124m'\u001b[39m, checkpointSeg, \u001b[38;5;124m'\u001b[39m\u001b[38;5;124m-s\u001b[39m\u001b[38;5;124m'\u001b[39m, \u001b[38;5;124m'\u001b[39m\u001b[38;5;124mblurredBackground_Hood_FBumper\u001b[39m\u001b[38;5;124m'\u001b[39m, \u001b[38;5;124m'\u001b[39m\u001b[38;5;124m--blurWhite\u001b[39m\u001b[38;5;124m'\u001b[39m])\n\u001b[0;32m      7\u001b[0m generate_cams\u001b[38;5;241m.\u001b[39mmain([imgRootValOriginal, configCAMResOG, checkpointCAMResOG, \u001b[38;5;124m'\u001b[39m\u001b[38;5;124m--device\u001b[39m\u001b[38;5;124m'\u001b[39m, \u001b[38;5;124m'\u001b[39m\u001b[38;5;124mcuda\u001b[39m\u001b[38;5;124m'\u001b[39m,\n\u001b[0;32m      8\u001b[0m                     \u001b[38;5;124m'\u001b[39m\u001b[38;5;124m--segData\u001b[39m\u001b[38;5;124m'\u001b[39m, segDataPathNoScaleOG,\n\u001b[0;32m      9\u001b[0m                     \u001b[38;5;124m'\u001b[39m\u001b[38;5;124m--saveBlurred\u001b[39m\u001b[38;5;124m'\u001b[39m, \u001b[38;5;124m'\u001b[39m\u001b[38;5;124m--blurredSegments\u001b[39m\u001b[38;5;124m'\u001b[39m, \u001b[38;5;124m'\u001b[39m\u001b[38;5;124mfront_left_light\u001b[39m\u001b[38;5;124m'\u001b[39m, \u001b[38;5;124m'\u001b[39m\u001b[38;5;124mhood\u001b[39m\u001b[38;5;124m'\u001b[39m, \u001b[38;5;124m'\u001b[39m\u001b[38;5;124mfront_bumper\u001b[39m\u001b[38;5;124m'\u001b[39m,\n\u001b[0;32m     10\u001b[0m                     \u001b[38;5;124m'\u001b[39m\u001b[38;5;124m--segConfig\u001b[39m\u001b[38;5;124m'\u001b[39m, configSeg,\n\u001b[0;32m     11\u001b[0m                     \u001b[38;5;124m'\u001b[39m\u001b[38;5;124m--segCheckpoint\u001b[39m\u001b[38;5;124m'\u001b[39m, checkpointSeg, \u001b[38;5;124m'\u001b[39m\u001b[38;5;124m-s\u001b[39m\u001b[38;5;124m'\u001b[39m, \u001b[38;5;124m'\u001b[39m\u001b[38;5;124mblurredFLLight_Hood_FBumper\u001b[39m\u001b[38;5;124m'\u001b[39m, \u001b[38;5;124m'\u001b[39m\u001b[38;5;124m--blurWhite\u001b[39m\u001b[38;5;124m'\u001b[39m])\n\u001b[1;32m---> 13\u001b[0m \u001b[43mgenerate_cams\u001b[49m\u001b[38;5;241;43m.\u001b[39;49m\u001b[43mmain\u001b[49m\u001b[43m(\u001b[49m\u001b[43m[\u001b[49m\u001b[43mimgRootValOriginal\u001b[49m\u001b[43m,\u001b[49m\u001b[43m \u001b[49m\u001b[43mconfigCAMResOG\u001b[49m\u001b[43m,\u001b[49m\u001b[43m \u001b[49m\u001b[43mcheckpointCAMResOG\u001b[49m\u001b[43m,\u001b[49m\u001b[43m \u001b[49m\u001b[38;5;124;43m'\u001b[39;49m\u001b[38;5;124;43m--device\u001b[39;49m\u001b[38;5;124;43m'\u001b[39;49m\u001b[43m,\u001b[49m\u001b[43m \u001b[49m\u001b[38;5;124;43m'\u001b[39;49m\u001b[38;5;124;43mcuda\u001b[39;49m\u001b[38;5;124;43m'\u001b[39;49m\u001b[43m,\u001b[49m\n\u001b[0;32m     14\u001b[0m \u001b[43m                    \u001b[49m\u001b[38;5;124;43m'\u001b[39;49m\u001b[38;5;124;43m--segData\u001b[39;49m\u001b[38;5;124;43m'\u001b[39;49m\u001b[43m,\u001b[49m\u001b[43m \u001b[49m\u001b[43msegDataPathNoScaleOG\u001b[49m\u001b[43m,\u001b[49m\n\u001b[0;32m     15\u001b[0m \u001b[43m                    \u001b[49m\u001b[38;5;124;43m'\u001b[39;49m\u001b[38;5;124;43m--saveBlurred\u001b[39;49m\u001b[38;5;124;43m'\u001b[39;49m\u001b[43m,\u001b[49m\u001b[43m \u001b[49m\u001b[38;5;124;43m'\u001b[39;49m\u001b[38;5;124;43m--blurredSegments\u001b[39;49m\u001b[38;5;124;43m'\u001b[39;49m\u001b[43m,\u001b[49m\u001b[43m \u001b[49m\u001b[38;5;124;43m'\u001b[39;49m\u001b[38;5;124;43mfront_left_light\u001b[39;49m\u001b[38;5;124;43m'\u001b[39;49m\u001b[43m,\u001b[49m\n\u001b[0;32m     16\u001b[0m \u001b[43m                    \u001b[49m\u001b[38;5;124;43m'\u001b[39;49m\u001b[38;5;124;43m--segConfig\u001b[39;49m\u001b[38;5;124;43m'\u001b[39;49m\u001b[43m,\u001b[49m\u001b[43m \u001b[49m\u001b[43mconfigSeg\u001b[49m\u001b[43m,\u001b[49m\n\u001b[0;32m     17\u001b[0m \u001b[43m                    \u001b[49m\u001b[38;5;124;43m'\u001b[39;49m\u001b[38;5;124;43m--segCheckpoint\u001b[39;49m\u001b[38;5;124;43m'\u001b[39;49m\u001b[43m,\u001b[49m\u001b[43m \u001b[49m\u001b[43mcheckpointSeg\u001b[49m\u001b[43m,\u001b[49m\u001b[43m \u001b[49m\u001b[38;5;124;43m'\u001b[39;49m\u001b[38;5;124;43m-s\u001b[39;49m\u001b[38;5;124;43m'\u001b[39;49m\u001b[43m,\u001b[49m\u001b[43m \u001b[49m\u001b[38;5;124;43m'\u001b[39;49m\u001b[38;5;124;43mblurredFrontLeftLight\u001b[39;49m\u001b[38;5;124;43m'\u001b[39;49m\u001b[43m,\u001b[49m\u001b[43m \u001b[49m\u001b[38;5;124;43m'\u001b[39;49m\u001b[38;5;124;43m--blurWhite\u001b[39;49m\u001b[38;5;124;43m'\u001b[39;49m\u001b[43m]\u001b[49m\u001b[43m)\u001b[49m\n",
      "File \u001b[1;32m~\\Desktop\\XAI-Vehicle-Classification\\scripts\\generate_cams.py:277\u001b[0m, in \u001b[0;36mmain\u001b[1;34m(args)\u001b[0m\n\u001b[0;32m    274\u001b[0m \u001b[38;5;28;01mif\u001b[39;00m args\u001b[38;5;241m.\u001b[39muse_ann_labels:\n\u001b[0;32m    275\u001b[0m     \u001b[38;5;28mprint\u001b[39m(\u001b[38;5;124m'\u001b[39m\u001b[38;5;124mUsing annotation labels provided by the annfile.\u001b[39m\u001b[38;5;124m'\u001b[39m)\n\u001b[1;32m--> 277\u001b[0m cams \u001b[38;5;241m=\u001b[39m \u001b[43mgenerateCAMs\u001b[49m\u001b[43m(\u001b[49m\u001b[43mimgDataset\u001b[49m\u001b[43m,\u001b[49m\u001b[43m \u001b[49m\u001b[43margs\u001b[49m\u001b[43m,\u001b[49m\u001b[43m \u001b[49m\u001b[43mcustom_cfg\u001b[49m\u001b[38;5;241;43m=\u001b[39;49m\u001b[43mcfg\u001b[49m\u001b[43m)\u001b[49m\n\u001b[0;32m    278\u001b[0m \u001b[38;5;28mprint\u001b[39m(\u001b[38;5;124m\"\u001b[39m\u001b[38;5;124m\"\u001b[39m)\n\u001b[0;32m    280\u001b[0m \u001b[38;5;28;01mif\u001b[39;00m args\u001b[38;5;241m.\u001b[39msave:\n",
      "File \u001b[1;32m~\\Desktop\\XAI-Vehicle-Classification\\scripts\\generate_cams.py:214\u001b[0m, in \u001b[0;36mgenerateCAMs\u001b[1;34m(dataset, args, custom_cfg)\u001b[0m\n\u001b[0;32m    212\u001b[0m         warnings\u001b[38;5;241m.\u001b[39mwarn(\u001b[38;5;124m'\u001b[39m\u001b[38;5;124mBoth use-ann-labels and target-category are specified. Target-category will be ignored.\u001b[39m\u001b[38;5;124m'\u001b[39m)\n\u001b[0;32m    213\u001b[0m     target_category \u001b[38;5;241m=\u001b[39m item[\u001b[38;5;124m'\u001b[39m\u001b[38;5;124mgt_target\u001b[39m\u001b[38;5;124m'\u001b[39m]\n\u001b[1;32m--> 214\u001b[0m cam \u001b[38;5;241m=\u001b[39m \u001b[43mgetCAM_without_build\u001b[49m\u001b[43m(\u001b[49m\u001b[43mpath\u001b[49m\u001b[43m,\u001b[49m\u001b[43m \u001b[49m\u001b[43mcfg\u001b[49m\u001b[38;5;241;43m.\u001b[39;49m\u001b[43mdata\u001b[49m\u001b[38;5;241;43m.\u001b[39;49m\u001b[43mtest\u001b[49m\u001b[38;5;241;43m.\u001b[39;49m\u001b[43mpipeline\u001b[49m\u001b[43m,\u001b[49m\n\u001b[0;32m    215\u001b[0m \u001b[43m    \u001b[49m\u001b[43margs\u001b[49m\u001b[38;5;241;43m.\u001b[39;49m\u001b[43mmethod\u001b[49m\u001b[43m,\u001b[49m\u001b[43m \u001b[49m\u001b[43mmodel\u001b[49m\u001b[43m,\u001b[49m\u001b[43m \u001b[49m\u001b[43mtarget_layers\u001b[49m\u001b[43m,\u001b[49m\u001b[43m \u001b[49m\u001b[43muse_cuda\u001b[49m\u001b[43m,\u001b[49m\u001b[43m \u001b[49m\u001b[43mreshape_transform\u001b[49m\u001b[43m,\u001b[49m\u001b[43m \u001b[49m\u001b[43margs\u001b[49m\u001b[38;5;241;43m.\u001b[39;49m\u001b[43meigen_smooth\u001b[49m\u001b[43m,\u001b[49m\u001b[43m \u001b[49m\u001b[43margs\u001b[49m\u001b[38;5;241;43m.\u001b[39;49m\u001b[43maug_smooth\u001b[49m\u001b[43m,\u001b[49m\u001b[43m \u001b[49m\u001b[43mtarget_category\u001b[49m\u001b[43m)\u001b[49m\n\u001b[0;32m    216\u001b[0m cams[item[\u001b[38;5;124m'\u001b[39m\u001b[38;5;124mname\u001b[39m\u001b[38;5;124m'\u001b[39m][\u001b[38;5;241m0\u001b[39m]] \u001b[38;5;241m=\u001b[39m cam\u001b[38;5;241m.\u001b[39msqueeze()\n\u001b[0;32m    217\u001b[0m prog_bar\u001b[38;5;241m.\u001b[39mupdate()\n",
      "File \u001b[1;32m~\\Desktop\\XAI-Vehicle-Classification\\scripts\\vis_cam_custom.py:232\u001b[0m, in \u001b[0;36mgetCAM_without_build\u001b[1;34m(img, pipeline, method, model, target_layers, use_cuda, reshape_transform, eigen_smooth, aug_smooth, target_category)\u001b[0m\n\u001b[0;32m    231\u001b[0m \u001b[38;5;28;01mdef\u001b[39;00m \u001b[38;5;21mgetCAM_without_build\u001b[39m(img, pipeline, method, model, target_layers, use_cuda, reshape_transform, eigen_smooth, aug_smooth, target_category):\n\u001b[1;32m--> 232\u001b[0m     data, _ \u001b[38;5;241m=\u001b[39m \u001b[43mapply_transforms\u001b[49m\u001b[43m(\u001b[49m\u001b[43mimg\u001b[49m\u001b[43m,\u001b[49m\u001b[43m \u001b[49m\u001b[43mpipeline\u001b[49m\u001b[43m)\u001b[49m\n\u001b[0;32m    233\u001b[0m     cam \u001b[38;5;241m=\u001b[39m init_cam(method, model, target_layers, use_cuda, reshape_transform)\n\u001b[0;32m    234\u001b[0m     targets \u001b[38;5;241m=\u001b[39m \u001b[38;5;28;01mNone\u001b[39;00m\n",
      "File \u001b[1;32m~\\Desktop\\XAI-Vehicle-Classification\\scripts\\vis_cam_custom.py:125\u001b[0m, in \u001b[0;36mapply_transforms\u001b[1;34m(img_path, pipeline_cfg)\u001b[0m\n\u001b[0;32m    122\u001b[0m image_transforms \u001b[38;5;241m=\u001b[39m Compose(image_transforms)\n\u001b[0;32m    123\u001b[0m format_transforms \u001b[38;5;241m=\u001b[39m Compose(format_transforms)\n\u001b[1;32m--> 125\u001b[0m intermediate_data \u001b[38;5;241m=\u001b[39m \u001b[43mimage_transforms\u001b[49m\u001b[43m(\u001b[49m\u001b[43mdata\u001b[49m\u001b[43m)\u001b[49m\n\u001b[0;32m    126\u001b[0m inference_img \u001b[38;5;241m=\u001b[39m copy\u001b[38;5;241m.\u001b[39mdeepcopy(intermediate_data[\u001b[38;5;124m'\u001b[39m\u001b[38;5;124mimg\u001b[39m\u001b[38;5;124m'\u001b[39m])\n\u001b[0;32m    127\u001b[0m format_data \u001b[38;5;241m=\u001b[39m format_transforms(intermediate_data)\n",
      "File \u001b[1;32mc:\\users\\linus\\desktop\\mmclassification\\mmcls\\datasets\\pipelines\\compose.py:33\u001b[0m, in \u001b[0;36mCompose.__call__\u001b[1;34m(self, data)\u001b[0m\n\u001b[0;32m     31\u001b[0m \u001b[38;5;28;01mdef\u001b[39;00m \u001b[38;5;21m__call__\u001b[39m(\u001b[38;5;28mself\u001b[39m, data):\n\u001b[0;32m     32\u001b[0m     \u001b[38;5;28;01mfor\u001b[39;00m t \u001b[38;5;129;01min\u001b[39;00m \u001b[38;5;28mself\u001b[39m\u001b[38;5;241m.\u001b[39mtransforms:\n\u001b[1;32m---> 33\u001b[0m         data \u001b[38;5;241m=\u001b[39m \u001b[43mt\u001b[49m\u001b[43m(\u001b[49m\u001b[43mdata\u001b[49m\u001b[43m)\u001b[49m\n\u001b[0;32m     34\u001b[0m         \u001b[38;5;28;01mif\u001b[39;00m data \u001b[38;5;129;01mis\u001b[39;00m \u001b[38;5;28;01mNone\u001b[39;00m:\n\u001b[0;32m     35\u001b[0m             \u001b[38;5;28;01mreturn\u001b[39;00m \u001b[38;5;28;01mNone\u001b[39;00m\n",
      "File \u001b[1;32m~\\Desktop\\XAI-Vehicle-Classification\\scripts\\utils\\customPipelineSteps.py:77\u001b[0m, in \u001b[0;36mBlurSegments.__call__\u001b[1;34m(self, results)\u001b[0m\n\u001b[0;32m     74\u001b[0m \u001b[38;5;28;01mdef\u001b[39;00m \u001b[38;5;21m__call__\u001b[39m(\u001b[38;5;28mself\u001b[39m, results):\n\u001b[0;32m     75\u001b[0m     img \u001b[38;5;241m=\u001b[39m results[\u001b[38;5;124m'\u001b[39m\u001b[38;5;124mimg\u001b[39m\u001b[38;5;124m'\u001b[39m]\n\u001b[1;32m---> 77\u001b[0m     \u001b[38;5;28;01mwith\u001b[39;00m \u001b[43mnp\u001b[49m\u001b[38;5;241;43m.\u001b[39;49m\u001b[43mload\u001b[49m\u001b[43m(\u001b[49m\u001b[38;5;28;43mself\u001b[39;49m\u001b[38;5;241;43m.\u001b[39;49m\u001b[43msegData\u001b[49m\u001b[43m)\u001b[49m \u001b[38;5;28;01mas\u001b[39;00m segData:\n\u001b[0;32m     78\u001b[0m         segmentation \u001b[38;5;241m=\u001b[39m segData[osp\u001b[38;5;241m.\u001b[39mbasename(results[\u001b[38;5;124m'\u001b[39m\u001b[38;5;124mfilename\u001b[39m\u001b[38;5;124m'\u001b[39m])]\n\u001b[0;32m     80\u001b[0m     \u001b[38;5;28;01massert\u001b[39;00m segmentation\u001b[38;5;241m.\u001b[39mshape \u001b[38;5;241m==\u001b[39m img\u001b[38;5;241m.\u001b[39mshape[:\u001b[38;5;241m-\u001b[39m\u001b[38;5;241m1\u001b[39m], \u001b[38;5;124mf\u001b[39m\u001b[38;5;124m'\u001b[39m\u001b[38;5;124mShape of Segmentation \u001b[39m\u001b[38;5;132;01m{\u001b[39;00msegmentation\u001b[38;5;241m.\u001b[39mshape\u001b[38;5;132;01m}\u001b[39;00m\u001b[38;5;124m does not match image shape \u001b[39m\u001b[38;5;132;01m{\u001b[39;00mimg\u001b[38;5;241m.\u001b[39mshape[:\u001b[38;5;241m-\u001b[39m\u001b[38;5;241m1\u001b[39m]\u001b[38;5;132;01m}\u001b[39;00m\u001b[38;5;124m'\u001b[39m\n",
      "File \u001b[1;32m~\\anaconda3\\envs\\mmseg\\lib\\site-packages\\numpy\\lib\\npyio.py:422\u001b[0m, in \u001b[0;36mload\u001b[1;34m(file, mmap_mode, allow_pickle, fix_imports, encoding)\u001b[0m\n\u001b[0;32m    418\u001b[0m \u001b[38;5;28;01mif\u001b[39;00m magic\u001b[38;5;241m.\u001b[39mstartswith(_ZIP_PREFIX) \u001b[38;5;129;01mor\u001b[39;00m magic\u001b[38;5;241m.\u001b[39mstartswith(_ZIP_SUFFIX):\n\u001b[0;32m    419\u001b[0m     \u001b[38;5;66;03m# zip-file (assume .npz)\u001b[39;00m\n\u001b[0;32m    420\u001b[0m     \u001b[38;5;66;03m# Potentially transfer file ownership to NpzFile\u001b[39;00m\n\u001b[0;32m    421\u001b[0m     stack\u001b[38;5;241m.\u001b[39mpop_all()\n\u001b[1;32m--> 422\u001b[0m     ret \u001b[38;5;241m=\u001b[39m \u001b[43mNpzFile\u001b[49m\u001b[43m(\u001b[49m\u001b[43mfid\u001b[49m\u001b[43m,\u001b[49m\u001b[43m \u001b[49m\u001b[43mown_fid\u001b[49m\u001b[38;5;241;43m=\u001b[39;49m\u001b[43mown_fid\u001b[49m\u001b[43m,\u001b[49m\u001b[43m \u001b[49m\u001b[43mallow_pickle\u001b[49m\u001b[38;5;241;43m=\u001b[39;49m\u001b[43mallow_pickle\u001b[49m\u001b[43m,\u001b[49m\n\u001b[0;32m    423\u001b[0m \u001b[43m                  \u001b[49m\u001b[43mpickle_kwargs\u001b[49m\u001b[38;5;241;43m=\u001b[39;49m\u001b[43mpickle_kwargs\u001b[49m\u001b[43m)\u001b[49m\n\u001b[0;32m    424\u001b[0m     \u001b[38;5;28;01mreturn\u001b[39;00m ret\n\u001b[0;32m    425\u001b[0m \u001b[38;5;28;01melif\u001b[39;00m magic \u001b[38;5;241m==\u001b[39m \u001b[38;5;28mformat\u001b[39m\u001b[38;5;241m.\u001b[39mMAGIC_PREFIX:\n\u001b[0;32m    426\u001b[0m     \u001b[38;5;66;03m# .npy file\u001b[39;00m\n",
      "File \u001b[1;32m~\\anaconda3\\envs\\mmseg\\lib\\site-packages\\numpy\\lib\\npyio.py:178\u001b[0m, in \u001b[0;36mNpzFile.__init__\u001b[1;34m(self, fid, own_fid, allow_pickle, pickle_kwargs)\u001b[0m\n\u001b[0;32m    174\u001b[0m \u001b[38;5;28;01mdef\u001b[39;00m \u001b[38;5;21m__init__\u001b[39m(\u001b[38;5;28mself\u001b[39m, fid, own_fid\u001b[38;5;241m=\u001b[39m\u001b[38;5;28;01mFalse\u001b[39;00m, allow_pickle\u001b[38;5;241m=\u001b[39m\u001b[38;5;28;01mFalse\u001b[39;00m,\n\u001b[0;32m    175\u001b[0m              pickle_kwargs\u001b[38;5;241m=\u001b[39m\u001b[38;5;28;01mNone\u001b[39;00m):\n\u001b[0;32m    176\u001b[0m     \u001b[38;5;66;03m# Import is postponed to here since zipfile depends on gzip, an\u001b[39;00m\n\u001b[0;32m    177\u001b[0m     \u001b[38;5;66;03m# optional component of the so-called standard library.\u001b[39;00m\n\u001b[1;32m--> 178\u001b[0m     _zip \u001b[38;5;241m=\u001b[39m \u001b[43mzipfile_factory\u001b[49m\u001b[43m(\u001b[49m\u001b[43mfid\u001b[49m\u001b[43m)\u001b[49m\n\u001b[0;32m    179\u001b[0m     \u001b[38;5;28mself\u001b[39m\u001b[38;5;241m.\u001b[39m_files \u001b[38;5;241m=\u001b[39m _zip\u001b[38;5;241m.\u001b[39mnamelist()\n\u001b[0;32m    180\u001b[0m     \u001b[38;5;28mself\u001b[39m\u001b[38;5;241m.\u001b[39mfiles \u001b[38;5;241m=\u001b[39m []\n",
      "File \u001b[1;32m~\\anaconda3\\envs\\mmseg\\lib\\site-packages\\numpy\\lib\\npyio.py:101\u001b[0m, in \u001b[0;36mzipfile_factory\u001b[1;34m(file, *args, **kwargs)\u001b[0m\n\u001b[0;32m     99\u001b[0m \u001b[38;5;28;01mimport\u001b[39;00m \u001b[38;5;21;01mzipfile\u001b[39;00m\n\u001b[0;32m    100\u001b[0m kwargs[\u001b[38;5;124m'\u001b[39m\u001b[38;5;124mallowZip64\u001b[39m\u001b[38;5;124m'\u001b[39m] \u001b[38;5;241m=\u001b[39m \u001b[38;5;28;01mTrue\u001b[39;00m\n\u001b[1;32m--> 101\u001b[0m \u001b[38;5;28;01mreturn\u001b[39;00m zipfile\u001b[38;5;241m.\u001b[39mZipFile(file, \u001b[38;5;241m*\u001b[39margs, \u001b[38;5;241m*\u001b[39m\u001b[38;5;241m*\u001b[39mkwargs)\n",
      "File \u001b[1;32m~\\anaconda3\\envs\\mmseg\\lib\\zipfile.py:1267\u001b[0m, in \u001b[0;36mZipFile.__init__\u001b[1;34m(self, file, mode, compression, allowZip64, compresslevel, strict_timestamps)\u001b[0m\n\u001b[0;32m   1265\u001b[0m \u001b[38;5;28;01mtry\u001b[39;00m:\n\u001b[0;32m   1266\u001b[0m     \u001b[38;5;28;01mif\u001b[39;00m mode \u001b[38;5;241m==\u001b[39m \u001b[38;5;124m'\u001b[39m\u001b[38;5;124mr\u001b[39m\u001b[38;5;124m'\u001b[39m:\n\u001b[1;32m-> 1267\u001b[0m         \u001b[38;5;28;43mself\u001b[39;49m\u001b[38;5;241;43m.\u001b[39;49m\u001b[43m_RealGetContents\u001b[49m\u001b[43m(\u001b[49m\u001b[43m)\u001b[49m\n\u001b[0;32m   1268\u001b[0m     \u001b[38;5;28;01melif\u001b[39;00m mode \u001b[38;5;129;01min\u001b[39;00m (\u001b[38;5;124m'\u001b[39m\u001b[38;5;124mw\u001b[39m\u001b[38;5;124m'\u001b[39m, \u001b[38;5;124m'\u001b[39m\u001b[38;5;124mx\u001b[39m\u001b[38;5;124m'\u001b[39m):\n\u001b[0;32m   1269\u001b[0m         \u001b[38;5;66;03m# set the modified flag so central directory gets written\u001b[39;00m\n\u001b[0;32m   1270\u001b[0m         \u001b[38;5;66;03m# even if no files are added to the archive\u001b[39;00m\n\u001b[0;32m   1271\u001b[0m         \u001b[38;5;28mself\u001b[39m\u001b[38;5;241m.\u001b[39m_didModify \u001b[38;5;241m=\u001b[39m \u001b[38;5;28;01mTrue\u001b[39;00m\n",
      "File \u001b[1;32m~\\anaconda3\\envs\\mmseg\\lib\\zipfile.py:1375\u001b[0m, in \u001b[0;36mZipFile._RealGetContents\u001b[1;34m(self)\u001b[0m\n\u001b[0;32m   1373\u001b[0m \u001b[38;5;66;03m# Create ZipInfo instance to store file information\u001b[39;00m\n\u001b[0;32m   1374\u001b[0m x \u001b[38;5;241m=\u001b[39m ZipInfo(filename)\n\u001b[1;32m-> 1375\u001b[0m x\u001b[38;5;241m.\u001b[39mextra \u001b[38;5;241m=\u001b[39m \u001b[43mfp\u001b[49m\u001b[38;5;241;43m.\u001b[39;49m\u001b[43mread\u001b[49m\u001b[43m(\u001b[49m\u001b[43mcentdir\u001b[49m\u001b[43m[\u001b[49m\u001b[43m_CD_EXTRA_FIELD_LENGTH\u001b[49m\u001b[43m]\u001b[49m\u001b[43m)\u001b[49m\n\u001b[0;32m   1376\u001b[0m x\u001b[38;5;241m.\u001b[39mcomment \u001b[38;5;241m=\u001b[39m fp\u001b[38;5;241m.\u001b[39mread(centdir[_CD_COMMENT_LENGTH])\n\u001b[0;32m   1377\u001b[0m x\u001b[38;5;241m.\u001b[39mheader_offset \u001b[38;5;241m=\u001b[39m centdir[_CD_LOCAL_HEADER_OFFSET]\n",
      "\u001b[1;31mKeyboardInterrupt\u001b[0m: "
     ]
    }
   ],
   "source": [
    "generate_cams.main([imgRootValOriginal, configCAMResOG, checkpointCAMResOG, '--device', 'cuda',\n",
    "                    '--segData', segDataPathNoScaleOG,\n",
    "                   '--saveBlurred', '--blurredSegments', 'background', 'hood', 'front_bumper',\n",
    "                    '--segConfig', configSeg,\n",
    "                    '--segCheckpoint', checkpointSeg, '-s', 'blurredBackground_Hood_FBumper', '--blurWhite'])\n",
    "\n",
    "generate_cams.main([imgRootValOriginal, configCAMResOG, checkpointCAMResOG, '--device', 'cuda',\n",
    "                    '--segData', segDataPathNoScaleOG,\n",
    "                    '--saveBlurred', '--blurredSegments', 'front_left_light', 'hood', 'front_bumper',\n",
    "                    '--segConfig', configSeg,\n",
    "                    '--segCheckpoint', checkpointSeg, '-s', 'blurredFLLight_Hood_FBumper', '--blurWhite'])\n",
    "\n",
    "generate_cams.main([imgRootValOriginal, configCAMResOG, checkpointCAMResOG, '--device', 'cuda',\n",
    "                    '--segData', segDataPathNoScaleOG,\n",
    "                    '--saveBlurred', '--blurredSegments', 'front_left_light',\n",
    "                    '--segConfig', configSeg,\n",
    "                    '--segCheckpoint', checkpointSeg, '-s', 'blurredFrontLeftLight', '--blurWhite'])"
   ]
  },
  {
   "cell_type": "code",
   "execution_count": 14,
   "id": "1a49be82",
   "metadata": {},
   "outputs": [
    {
     "name": "stdout",
     "output_type": "stream",
     "text": [
      "Creating blurred Images in WebblurredBackground_Hood_FBumperWhite\n",
      "Blurring segments into single color\n",
      "Blurred Images will be saved to WebblurredBackground_Hood_FBumperWhite\n",
      "[>>>>>>>>>>>>>>>>>>>>>>>>] 15627/15627, 34.0 task/s, elapsed: 460s, ETA:     0sCreating blurred Images in WebblurredFLLight_Hood_FBumperWhite\n",
      "Blurring segments into single color\n",
      "Blurred Images will be saved to WebblurredFLLight_Hood_FBumperWhite\n",
      "[>>>>>>>>>>>>>>>>>>>>>>>>] 15627/15627, 34.6 task/s, elapsed: 452s, ETA:     0sCreating blurred Images in WebblurredFrontLeftLightWhite\n",
      "Blurring segments into single color\n",
      "Blurred Images will be saved to WebblurredFrontLeftLightWhite\n",
      "[>>>>>>>>>>>>>>>>>>>>>>>>] 15627/15627, 34.5 task/s, elapsed: 453s, ETA:     0sCreating blurred Images in StanfordblurredBackground_Hood_FBumperWhite\n",
      "Blurring segments into single color\n",
      "Blurred Images will be saved to StanfordblurredBackground_Hood_FBumperWhite\n",
      "[>>>>>>>>>>>>>>>>>>>>>>>>>>] 8041/8041, 47.2 task/s, elapsed: 170s, ETA:     0sCreating blurred Images in StanfordblurredFLLight_Hood_FBumperWhite\n",
      "Blurring segments into single color\n",
      "Blurred Images will be saved to StanfordblurredFLLight_Hood_FBumperWhite\n",
      "[>>>>>>>>>>>>>>>>>>>>>>>>>>] 8041/8041, 49.4 task/s, elapsed: 163s, ETA:     0sCreating blurred Images in StanfordblurredFrontLeftLightWhite\n",
      "Blurring segments into single color\n",
      "Blurred Images will be saved to StanfordblurredFrontLeftLightWhite\n",
      "[>>>>>>>>>>>>>>>>>>>>>>>>>>] 8041/8041, 50.6 task/s, elapsed: 159s, ETA:     0s"
     ]
    }
   ],
   "source": [
    "generate_blurred(configCAMResWeb, checkpointCAMResWeb, 'background', segDataPathNoScaleWeb, imgRootValWeb, annfileValWeb,\n",
    "                configSeg, checkpointSeg, singleColor=[255,255,255],\n",
    "                saveDir='WebblurredBackgroundWhite')\n",
    "generate_blurred(configCAMResWeb, checkpointCAMResWeb, ['background', 'hood', 'front_bumper'], \n",
    "                 segDataPathNoScaleWeb, imgRootValWeb, annfileValWeb,\n",
    "                 configSeg, checkpointSeg, singleColor=[255,255,255],\n",
    "                 saveDir='WebblurredBackground_Hood_FBumperWhite')\n",
    "generate_blurred(configCAMResWeb, checkpointCAMResWeb, ['front_left_light', 'hood', 'front_bumper'], \n",
    "                 segDataPathNoScaleWeb, imgRootValWeb, annfileValWeb,\n",
    "                 configSeg, checkpointSeg, singleColor=[255,255,255],\n",
    "                 saveDir='WebblurredFLLight_Hood_FBumperWhite')\n",
    "generate_blurred(configCAMResWeb, checkpointCAMResWeb, ['front_left_light'], \n",
    "                 segDataPathNoScaleWeb, imgRootValWeb, annfileValWeb,\n",
    "                 configSeg, checkpointSeg, singleColor=[255,255,255],\n",
    "                 saveDir='WebblurredFrontLeftLightWhite')\n",
    "\n",
    "generate_blurred(configCAMResStanford, checkpointCAMResStanford, 'background',\n",
    "                 segDataPathNoScaleStanfordOG, imgRootValStandford, annfileValStanford,\n",
    "                 configSeg, checkpointSeg, singleColor=[255,255,255],\n",
    "                 saveDir='StanfordblurredBackgroundWhite')\n",
    "generate_blurred(configCAMResStanford, checkpointCAMResStanford, ['background', 'hood', 'front_bumper'], \n",
    "                 segDataPathNoScaleStanfordOG, imgRootValStandford, annfileValStanford,\n",
    "                 configSeg, checkpointSeg, singleColor=[255,255,255],\n",
    "                 saveDir='StanfordblurredBackground_Hood_FBumperWhite')\n",
    "generate_blurred(configCAMResStanford, checkpointCAMResStanford, ['front_left_light', 'hood', 'front_bumper'], \n",
    "                 segDataPathNoScaleStanfordOG, imgRootValStandford, annfileValStanford,\n",
    "                 configSeg, checkpointSeg, singleColor=[255,255,255],\n",
    "                 saveDir='StanfordblurredFLLight_Hood_FBumperWhite')\n",
    "generate_blurred(configCAMResStanford, checkpointCAMResStanford, ['front_left_light'], \n",
    "                 segDataPathNoScaleStanfordOG, imgRootValStandford, annfileValStanford,\n",
    "                 configSeg, checkpointSeg, singleColor=[255,255,255],\n",
    "                 saveDir='StanfordblurredFrontLeftLightWhite')"
   ]
  },
  {
   "cell_type": "code",
   "execution_count": null,
   "id": "aec3130e",
   "metadata": {},
   "outputs": [
    {
     "name": "stdout",
     "output_type": "stream",
     "text": [
      "Method for CAM generation: gradcam++, eigen-smooth:False, aug-smooth:False, vit-like:False\n",
      "Generate Results for specified files\n",
      "Automatically choose the last norm layer as target_layer.\n",
      "[>>>>>>>>>>>>>>>>>>>>>>>>] 13333/13333, 24.1 task/s, elapsed: 554s, ETA:     0s\n",
      "Save Split file for Cams\n",
      "Creating annotation file at ../preGenData/blurredBackgroundWhite/CompCars_Original/ResNet\\valAllCAMsGrad++.txt\n",
      "Save generated CAMs to ../preGenData/blurredBackgroundWhite/CompCars_Original/ResNet\\valAllCAMsGrad++.npz\n"
     ]
    },
    {
     "name": "stderr",
     "output_type": "stream",
     "text": [
      "C:\\Users\\Linus\\Desktop\\XAI-Vehicle-Classification\\scripts\\utils\\io.py:108: UserWarning: Using generate_split_files will redirect the call to generate_ann_file. Consider directly calling that function\n",
      "  warnings.warn(\"Using generate_split_files will redirect the call to generate_ann_file. Consider directly calling that function\")\n"
     ]
    },
    {
     "name": "stdout",
     "output_type": "stream",
     "text": [
      "Method for CAM generation: eigencam, eigen-smooth:False, aug-smooth:False, vit-like:False\n",
      "Generate Results for specified files\n",
      "Automatically choose the last norm layer as target_layer.\n",
      "[>>>>>>>>>>>>>>>>>>>>>>>>] 13333/13333, 3.4 task/s, elapsed: 3922s, ETA:     0s\n",
      "Save Split file for Cams\n",
      "Creating annotation file at ../preGenData/blurredBackgroundWhite/CompCars_Original/ResNet\\valAllCAMsEigen.txt\n",
      "Save generated CAMs to ../preGenData/blurredBackgroundWhite/CompCars_Original/ResNet\\valAllCAMsEigen.npz\n",
      "Method for CAM generation: gradcam++, eigen-smooth:False, aug-smooth:False, vit-like:True\n",
      "Generate Results for specified files\n",
      "Automatically choose the last norm layer as target_layer.\n",
      "[>>>>>>>>>>>>>>>>>>>>>>>] 13333/13333, 12.5 task/s, elapsed: 1064s, ETA:     0s\n",
      "Save Split file for Cams\n",
      "Creating annotation file at ../preGenData/blurredBackgroundWhite/CompCars_Original/SwinBase\\valAllCAMsGrad++.txt\n",
      "Save generated CAMs to ../preGenData/blurredBackgroundWhite/CompCars_Original/SwinBase\\valAllCAMsGrad++.npz\n",
      "Method for CAM generation: eigencam, eigen-smooth:False, aug-smooth:False, vit-like:True\n",
      "Generate Results for specified files\n",
      "Automatically choose the last norm layer as target_layer.\n",
      "[>>>>>>>>>>>>              ] 6219/13333, 8.9 task/s, elapsed: 699s, ETA:   799s"
     ]
    }
   ],
   "source": [
    "\"\"\"CompCars_Original\"\"\"\n",
    "igR = blurWhiteBackgroundImgRootOriginal\n",
    "cfgC = configCAMResOG\n",
    "ckpC = checkpointCAMResOG\n",
    "svPre = '../preGenData/blurredBackgroundWhite/CompCars_Original/ResNet/'\n",
    "generate_cams.main([igR, cfgC, ckpC, '-s', svPre + 'valAllCAMsGrad++', '--method', 'gradcam++', '--device', 'cuda'])\n",
    "generate_cams.main([igR, cfgC, ckpC, '-s', svPre + 'valAllCAMsEigen', '--method', 'eigencam', '--device', 'cuda'])\n",
    "\n",
    "\n",
    "cfgC = configCAMSwinBaseOG\n",
    "ckpC = checkpointCAMSwinBaseOG\n",
    "svPre = '../preGenData/blurredBackgroundWhite/CompCars_Original/SwinBase/'\n",
    "generate_cams.main([igR, cfgC, ckpC, '-s', svPre + 'valAllCAMsGrad++', '--method', 'gradcam++', '--vit-like', '--device', 'cuda'])\n",
    "generate_cams.main([igR, cfgC, ckpC, '-s', svPre + 'valAllCAMsEigen', '--method', 'eigencam', '--vit-like', '--device', 'cuda'])\n",
    "\n",
    "\n",
    "cfgC = configCAMSwinSmallOG\n",
    "ckpC = checkpointCAMSwinSmallOG\n",
    "svPre = '../preGenData/blurredBackgroundWhite/CompCars_Original/SwinSmall/'\n",
    "generate_cams.main([igR, cfgC, ckpC, '-s', svPre + 'valAllCAMsGrad++', '--method', 'gradcam++', '--vit-like', '--device', 'cuda'])\n",
    "generate_cams.main([igR, cfgC, ckpC, '-s', svPre + 'valAllCAMsEigen', '--method', 'eigencam', '--vit-like', '--device', 'cuda'])\n",
    "\n",
    "\n",
    "\"\"\"CompCars_Web\"\"\"\n",
    "igR = blurWhiteBackgroundImgRootWeb\n",
    "cfgC = configCAMResWeb\n",
    "ckpC = checkpointCAMResWeb\n",
    "svPre = '../preGenData/blurredBackgroundWhite/CompCars_Web/ResNet/'\n",
    "generate_cams.main([igR, cfgC, ckpC, '-s', svPre + 'valAllCAMsGrad++', '--method', 'gradcam++', '--device', 'cuda'])\n",
    "generate_cams.main([igR, cfgC, ckpC, '-s', svPre + 'valAllCAMsEigen', '--method', 'eigencam', '--device', 'cuda'])\n",
    "\n",
    "\n",
    "cfgC = configCAMSwinBaseWeb\n",
    "ckpC = checkpointCAMSwinBaseWeb\n",
    "svPre = '../preGenData/blurredBackgroundWhite/CompCars_Web/SwinBase/'\n",
    "generate_cams.main([igR, cfgC, ckpC, '-s', svPre + 'valAllCAMsGrad++', '--method', 'gradcam++', '--vit-like', '--device', 'cuda'])\n",
    "generate_cams.main([igR, cfgC, ckpC, '-s', svPre + 'valAllCAMsEigen', '--method', 'eigencam', '--vit-like', '--device', 'cuda'])\n",
    "\n",
    "\n",
    "cfgC = configCAMSwinSmallWeb\n",
    "ckpC = checkpointCAMSwinSmallWeb\n",
    "svPre = '../preGenData/blurredBackgroundWhite/CompCars_Web/SwinSmall/'\n",
    "generate_cams.main([igR, cfgC, ckpC, '-s', svPre + 'valAllCAMsGrad++', '--method', 'gradcam++', '--vit-like', '--device', 'cuda'])\n",
    "generate_cams.main([igR, cfgC, ckpC, '-s', svPre + 'valAllCAMsEigen', '--method', 'eigencam', '--vit-like', '--device', 'cuda'])\n",
    "\n",
    "\n",
    "\"\"\"StanfordCars_Original\"\"\"\n",
    "igR = blurWhiteBackgroundImgRootStanford\n",
    "cfgC = configCAMResStanford\n",
    "ckpC = checkpointCAMResStanford\n",
    "svPre = '../preGenData/blurredBackgroundWhite/StanfordCars_Original/ResNet/'\n",
    "generate_cams.main([igR, cfgC, ckpC, '-s', svPre + 'valAllCAMsGrad++', '--method', 'gradcam++', '--device', 'cuda'])\n",
    "generate_cams.main([igR, cfgC, ckpC, '-s', svPre + 'valAllCAMsEigen', '--method', 'eigencam', '--device', 'cuda'])\n",
    "\n",
    "\n",
    "cfgC = configCAMSwinBaseStanford\n",
    "ckpC = checkpointCAMSwinBaseStanford\n",
    "svPre = '../preGenData/blurredBackgroundWhite/StanfordCars_Original/SwinBase/'\n",
    "generate_cams.main([igR, cfgC, ckpC, '-s', svPre + 'valAllCAMsGrad++', '--method', 'gradcam++', '--vit-like', '--device', 'cuda'])\n",
    "generate_cams.main([igR, cfgC, ckpC, '-s', svPre + 'valAllCAMsEigen', '--method', 'eigencam', '--vit-like', '--device', 'cuda'])\n",
    "\n",
    "\n",
    "cfgC = configCAMSwinSmallStanford\n",
    "ckpC = checkpointCAMSwinSmallStanford\n",
    "svPre = '../preGenData/blurredBackgroundWhite/StanfordCars_Original/SwinSmall/'\n",
    "generate_cams.main([igR, cfgC, ckpC, '-s', svPre + 'valAllCAMsGrad++', '--method', 'gradcam++', '--vit-like', '--device', 'cuda'])\n",
    "generate_cams.main([igR, cfgC, ckpC, '-s', svPre + 'valAllCAMsEigen', '--method', 'eigencam', '--vit-like', '--device', 'cuda'])"
   ]
  },
  {
   "cell_type": "code",
   "execution_count": null,
   "id": "1deb6e8d",
   "metadata": {},
   "outputs": [],
   "source": []
  }
 ],
 "metadata": {
  "kernelspec": {
   "display_name": "Python 3 (ipykernel)",
   "language": "python",
   "name": "python3"
  },
  "language_info": {
   "codemirror_mode": {
    "name": "ipython",
    "version": 3
   },
   "file_extension": ".py",
   "mimetype": "text/x-python",
   "name": "python",
   "nbconvert_exporter": "python",
   "pygments_lexer": "ipython3",
   "version": "3.10.4"
  }
 },
 "nbformat": 4,
 "nbformat_minor": 5
}
