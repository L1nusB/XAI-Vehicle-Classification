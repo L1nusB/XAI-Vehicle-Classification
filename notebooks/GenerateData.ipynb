{
 "cells": [
  {
   "cell_type": "code",
   "execution_count": 2,
   "id": "31ff5c49",
   "metadata": {},
   "outputs": [],
   "source": [
    "%load_ext autoreload\n",
    "%autoreload 2\n",
    "\n",
    "import numpy as np\n",
    "import os\n",
    "import mmcv\n",
    "import importlib\n",
    "import torch\n",
    "import torchvision.transforms as transforms\n",
    "from mmcv import Config\n",
    "from mmcls.datasets.pipelines import Compose\n",
    "import matplotlib.pyplot as plt\n",
    "import matplotlib.image as mpimg\n",
    "import matplotlib.gridspec as gridspec\n",
    "from PIL import Image\n",
    "import heapq\n",
    "from mmseg.apis import inference_segmentor, init_segmentor\n",
    "from mmseg.core.evaluation import get_palette\n",
    "from pytorch_grad_cam.utils.image import show_cam_on_image\n",
    "import cv2\n",
    "\n",
    "import sys\n",
    "\n",
    "module_path = os.path.abspath(os.path.join('..'))\n",
    "if module_path not in sys.path:\n",
    "    sys.path.append(module_path)\n",
    "    \n",
    "\n",
    "from scripts import generate_statistics_single\n",
    "from scripts import visualization_seg_masks\n",
    "from scripts import generate_statistics\n",
    "from scripts import generate_cams\n",
    "from scripts import utils\n",
    "from scripts.utils.pipeline import get_pipeline_torchvision\n",
    "from scripts import generate_segs"
   ]
  },
  {
   "cell_type": "code",
   "execution_count": 3,
   "id": "837c4e3b",
   "metadata": {},
   "outputs": [],
   "source": [
    "configSeg = '../segmentation/ocrnet_hr48_512x512_carparts_noflip/ocrnet_hr48_512x512_carparts_noflip.py'\n",
    "checkpointSeg = '../segmentation/ocrnet_hr48_512x512_carparts_noflip/latest.pth'\n",
    "imgRootTrain = '../data/CompCars_sv_original_split/train'\n",
    "imgRootVal = '../data/CompCars_sv_original_split/val'\n",
    "configCAMResOG = '../CAMModels/resnet/compCars_Original/resnet50_b128x2_compcars-original-split.py'\n",
    "checkpointCAMResOG = '../CAMModels/resnet/compCars_Original/latest.pth'\n",
    "configCAMResCol = '../CAMModels/resnet/compCars_Color/resnet50_b128x2_compcars-color-split.py'\n",
    "checkpointCAMResCol = '../CAMModels/resnet/compCars_Color/latest.pth'\n",
    "configCAMResWeb = '../CAMModels/resnet/compCars_Web/resnet50_b128x2_compcars-web-original-split.py'\n",
    "checkpointCAMResWeb = '../CAMModels/resnet/compCars_Web/latest.pth'\n",
    "\n",
    "configCAMSwinSmallOG = '../CAMModels/swinSmall/compCars_Original/swin-small_b128x2_compcars-original-split.py'\n",
    "checkpointCAMSwinSmallOG = '../CAMModels/swinSmall/compCars_Original/latest.pth'\n",
    "configCAMSwinSmallCol = '../CAMModels/swinSmall/compCars_Color/swin-small_b128x2_compcars-color-split.py'\n",
    "checkpointCAMSwinSmallCol = '../CAMModels/swinSmall/compCars_Color/latest.pth'\n",
    "configCAMSwinSmallWeb = '../CAMModels/swinSmall/compCars_WebOriginal/swin-small_b128x2_compcars-web-original-split.py'\n",
    "checkpointCAMSwinSmallWeb = '../CAMModels/swinSmall/compCars_WebOriginal/latest.pth'\n",
    "\n",
    "configCAMSwinBaseOG = '../CAMModels/swinBase/compCars_Original/swin-base_b128x2_compcars-original-split.py'\n",
    "checkpointCAMSwinBaseOG = '../CAMModels/swinBase/compCars_Original/latest.pth'\n",
    "configCAMSwinBaseCol = '../CAMModels/swinBase/compCars_Color/swin-base_b128x2_compcars-color-split.py'\n",
    "checkpointCAMSwinBaseCol = '../CAMModels/swinBase/compCars_Color/latest.pth'\n",
    "configCAMSwinBaseWeb = '../CAMModels/swinBase/compCars_WebOriginal/swin-base_b128x2_compcars-web-original-split.py'\n",
    "checkpointCAMSwinBaseWeb = '../CAMModels/swinBase/compCars_WebOriginal/latest.pth'\n",
    "\n",
    "annfileTrain = '../annfileTrain.txt'\n",
    "annfileVal = '../annfileVal.txt'\n",
    "annfileValGt = '../annfileValGt.txt'\n",
    "imgNameTrain='Acura_Acura_ILX_2a6cce617fc27d.jpg'\n",
    "imgNameVal = 'Acura_Acura_ILX_3c11ef9e42931b.jpg'\n",
    "imgPathTrain=os.path.join(imgRootTrain, imgNameTrain)\n",
    "imgPathVal=os.path.join(imgRootVal, imgNameVal)\n",
    "\n",
    "paletteName='Comp_Original_Ocrnet_Carparts_Noflip'"
   ]
  },
  {
   "cell_type": "code",
   "execution_count": 4,
   "id": "d516e1bd",
   "metadata": {},
   "outputs": [],
   "source": [
    "imgRootValOriginal = '../data/CompCars_sv_original_split/val'\n",
    "imgRootValColor = '../data/CompCars_sv_color_split/val'\n",
    "imgRootValWeb = '../data/CompCars_web_original_split/val'"
   ]
  },
  {
   "cell_type": "code",
   "execution_count": 5,
   "id": "c35f8c3c",
   "metadata": {},
   "outputs": [
    {
     "name": "stdout",
     "output_type": "stream",
     "text": [
      "Method for CAM generation: GradCAM, eigen-smooth:False, aug-smooth:False, vit-like:True\n",
      "Generate Results for specified files\n",
      "Automatically choose the last norm layer as target_layer.\n",
      "[>>>>>>>>>>>>>>>>>>>>>>>>] 13379/13379, 3.3 task/s, elapsed: 4027s, ETA:     0sSave Split file for Cams\n",
      "Save generated CAMs to ../preGenData/CompCars_Color/SwinSmall\\valAllCAMs.npz\n",
      "Method for CAM generation: gradcam++, eigen-smooth:False, aug-smooth:False, vit-like:True\n",
      "Generate Results for specified files\n",
      "Automatically choose the last norm layer as target_layer.\n",
      "[>>>>>>>>>>>>>>>>>>>>>>>>] 13379/13379, 3.2 task/s, elapsed: 4177s, ETA:     0sSave Split file for Cams\n",
      "Save generated CAMs to ../preGenData/CompCars_Color/SwinSmall\\valAllCAMsGrad++.npz\n",
      "Method for CAM generation: xgradcam, eigen-smooth:False, aug-smooth:False, vit-like:True\n",
      "Generate Results for specified files\n",
      "Automatically choose the last norm layer as target_layer.\n",
      "[>>>>>>>>>>>>>>>>>>>>>>>>] 13379/13379, 3.1 task/s, elapsed: 4307s, ETA:     0sSave Split file for Cams\n",
      "Save generated CAMs to ../preGenData/CompCars_Color/SwinSmall\\valAllCAMsXGrad.npz\n",
      "Method for CAM generation: eigencam, eigen-smooth:False, aug-smooth:False, vit-like:True\n",
      "Generate Results for specified files\n",
      "Automatically choose the last norm layer as target_layer.\n",
      "[>>>>>>>>>>>>>>>>>>>>>>>>] 13379/13379, 3.4 task/s, elapsed: 3910s, ETA:     0sSave Split file for Cams\n",
      "Save generated CAMs to ../preGenData/CompCars_Color/SwinSmall\\valAllCAMsEigen.npz\n",
      "Method for CAM generation: eigengradcam, eigen-smooth:False, aug-smooth:False, vit-like:True\n",
      "Generate Results for specified files\n",
      "Automatically choose the last norm layer as target_layer.\n",
      "[>>>>>>>>>>>>>>>>>>>>>>>>] 13379/13379, 2.9 task/s, elapsed: 4638s, ETA:     0sSave Split file for Cams\n",
      "Save generated CAMs to ../preGenData/CompCars_Color/SwinSmall\\valAllCAMsEigenGrad.npz\n",
      "Method for CAM generation: layercam, eigen-smooth:False, aug-smooth:False, vit-like:True\n",
      "Generate Results for specified files\n",
      "Automatically choose the last norm layer as target_layer.\n",
      "[>>>>>>>>>>>>>>>>>>>>>>>>] 13379/13379, 3.0 task/s, elapsed: 4451s, ETA:     0sSave Split file for Cams\n",
      "Save generated CAMs to ../preGenData/CompCars_Color/SwinSmall\\valAllCAMsLayer.npz\n",
      "Method for CAM generation: GradCAM, eigen-smooth:False, aug-smooth:False, vit-like:True\n",
      "Generate Results for specified files\n",
      "Automatically choose the last norm layer as target_layer.\n",
      "[>>>>>>>>>>>>>>>>>>>>>>>>] 13379/13379, 13.5 task/s, elapsed: 995s, ETA:     0sSave Split file for Cams\n",
      "Save generated CAMs to ../preGenData/CompCars_Color/SwinSmall\\valAllCAMsGPU.npz\n"
     ]
    }
   ],
   "source": [
    "igR = imgRootValColor\n",
    "cfgC = configCAMSwinSmallCol\n",
    "ckpC = checkpointCAMSwinSmallCol\n",
    "svPre = '../preGenData/CompCars_Color/SwinSmall/'\n",
    "generate_cams.main([igR, cfgC, ckpC, '-s', svPre + 'valAllCAMs', '--vit-like'])\n",
    "generate_cams.main([igR, cfgC, ckpC, '-s', svPre + 'valAllCAMsGrad++', '--method', 'gradcam++', '--vit-like'])\n",
    "generate_cams.main([igR, cfgC, ckpC, '-s', svPre + 'valAllCAMsXGrad', '--method', 'xgradcam', '--vit-like'])\n",
    "generate_cams.main([igR, cfgC, ckpC, '-s', svPre + 'valAllCAMsEigen', '--method', 'eigencam', '--vit-like'])\n",
    "generate_cams.main([igR, cfgC, ckpC, '-s', svPre + 'valAllCAMsEigenGrad', '--method', 'eigengradcam', '--vit-like'])\n",
    "generate_cams.main([igR, cfgC, ckpC, '-s', svPre + 'valAllCAMsLayer', '--method', 'layercam', '--vit-like'])\n",
    "generate_cams.main([igR, cfgC, ckpC, '-s', svPre + 'valAllCAMsGPU', '--device', 'cuda', '--vit-like'])"
   ]
  },
  {
   "cell_type": "code",
   "execution_count": 6,
   "id": "4b2cfd74",
   "metadata": {},
   "outputs": [
    {
     "name": "stdout",
     "output_type": "stream",
     "text": [
      "Saving resulting segmentation masks in ../preGenData/Segmentations/CompCars_Color\n",
      "Using predefined pipeline: Resize224CenterCrop\n",
      "Calculating segmentation results.\n",
      "[>>>>>>>>>>>>>>>>>>>>>>>>] 13379/13379, 9.0 task/s, elapsed: 1485s, ETA:     0s\n",
      "Saving results at ../preGenData/Segmentations/CompCars_Color\\valAllSegs.npz\n"
     ]
    }
   ],
   "source": [
    "generate_segs.main([imgRootValColor, configSeg, checkpointSeg, '-s', '../preGenData/Segmentations/CompCars_Color/valAllSegs',\n",
    "                    '--pipeline', 'post', 'Resize224CenterCrop'])"
   ]
  },
  {
   "cell_type": "code",
   "execution_count": 7,
   "id": "a8f738bf",
   "metadata": {},
   "outputs": [
    {
     "name": "stdout",
     "output_type": "stream",
     "text": [
      "Saving resulting segmentation masks in ../preGenData/Segmentations/CompCars_Web\n",
      "Using predefined pipeline: Resize224CenterCrop\n",
      "Calculating segmentation results.\n",
      "[>>>>>>>>>>>>>>>>>>>>>>>>] 15627/15627, 8.7 task/s, elapsed: 1786s, ETA:     0s\n",
      "Saving results at ../preGenData/Segmentations/CompCars_Web\\valAllSegs.npz\n"
     ]
    }
   ],
   "source": [
    "generate_segs.main([imgRootValWeb, configSeg, checkpointSeg, '-s', '../preGenData/Segmentations/CompCars_Web/valAllSegs',\n",
    "                    '--pipeline', 'post', 'Resize224CenterCrop'])"
   ]
  },
  {
   "cell_type": "code",
   "execution_count": null,
   "id": "0bf42b4d",
   "metadata": {},
   "outputs": [],
   "source": []
  }
 ],
 "metadata": {
  "kernelspec": {
   "display_name": "Python 3 (ipykernel)",
   "language": "python",
   "name": "python3"
  },
  "language_info": {
   "codemirror_mode": {
    "name": "ipython",
    "version": 3
   },
   "file_extension": ".py",
   "mimetype": "text/x-python",
   "name": "python",
   "nbconvert_exporter": "python",
   "pygments_lexer": "ipython3",
   "version": "3.10.4"
  }
 },
 "nbformat": 4,
 "nbformat_minor": 5
}
