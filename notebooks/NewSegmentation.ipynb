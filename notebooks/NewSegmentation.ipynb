{
 "cells": [
  {
   "cell_type": "code",
   "execution_count": 1,
   "id": "d325f57e",
   "metadata": {
    "scrolled": true
   },
   "outputs": [],
   "source": [
    "%load_ext autoreload\n",
    "%autoreload 2\n",
    "\n",
    "import numpy as np\n",
    "import os\n",
    "import mmcv\n",
    "import importlib\n",
    "import torch\n",
    "import torchvision.transforms as transforms\n",
    "from mmcv import Config\n",
    "from mmcls.datasets.pipelines import Compose\n",
    "import matplotlib.pyplot as plt\n",
    "import matplotlib.image as mpimg\n",
    "import matplotlib.gridspec as gridspec\n",
    "from PIL import Image\n",
    "import heapq\n",
    "from mmseg.apis import inference_segmentor, init_segmentor\n",
    "from mmseg.core.evaluation import get_palette\n",
    "from pytorch_grad_cam.utils.image import show_cam_on_image\n",
    "import cv2\n",
    "\n",
    "import sys\n",
    "\n",
    "module_path = os.path.abspath(os.path.join('..'))\n",
    "if module_path not in sys.path:\n",
    "    sys.path.append(module_path)\n",
    "    \n",
    "\n",
    "from scripts import generate_statistics_single\n",
    "from scripts import visualization_seg_masks\n",
    "from scripts import generate_statistics\n",
    "from scripts import generate_cams\n",
    "from scripts import utils\n",
    "from scripts import new_gen_seg\n",
    "from scripts.utils import pipeline"
   ]
  },
  {
   "cell_type": "code",
   "execution_count": 2,
   "id": "7b7dc227",
   "metadata": {},
   "outputs": [],
   "source": [
    "configSeg = '../segmentation/ocrnet_hr48_512x512_carparts_noflip/ocrnet_hr48_512x512_carparts_noflip.py'\n",
    "checkpointSeg = '../segmentation/ocrnet_hr48_512x512_carparts_noflip/latest.pth'\n",
    "imgRoot = '../data/CompCars_sv_original_split/train'\n",
    "configCAM = '../CAMModels/resnet/compCars_Original/resnet50_b128x2_compcars-original-split.py'\n",
    "checkpointCAM = '../CAMModels/resnet/compCars_Original/latest.pth'\n",
    "annfile = '../annfile.txt'\n",
    "imgName='Acura_Acura_ILX_2a6cce617fc27d.jpg'\n",
    "imgPath=os.path.join(imgRoot, imgName)\n",
    "\n",
    "paletteName='Comp_Original_Ocrnet_Carparts_Noflip'"
   ]
  },
  {
   "cell_type": "code",
   "execution_count": null,
   "id": "7864517f",
   "metadata": {
    "scrolled": false
   },
   "outputs": [
    {
     "name": "stdout",
     "output_type": "stream",
     "text": [
      "Calculating results for batch 0\n",
      "[                                                  ] 0/1, elapsed: 0s, ETA:"
     ]
    }
   ],
   "source": [
    "generate_statistics_single.plot(imgName='Acura_Acura_ILX_2a6cce617fc27d.jpg', imgRoot=imgRoot, camConfig=configCAM,\n",
    "                                camCheckpoint=checkpointCAM, segConfig=configSeg, segCheckpoint=checkpointSeg)"
   ]
  },
  {
   "cell_type": "code",
   "execution_count": null,
   "id": "1913ea37",
   "metadata": {},
   "outputs": [],
   "source": []
  }
 ],
 "metadata": {
  "kernelspec": {
   "display_name": "Python 3 (ipykernel)",
   "language": "python",
   "name": "python3"
  },
  "language_info": {
   "codemirror_mode": {
    "name": "ipython",
    "version": 3
   },
   "file_extension": ".py",
   "mimetype": "text/x-python",
   "name": "python",
   "nbconvert_exporter": "python",
   "pygments_lexer": "ipython3",
   "version": "3.10.4"
  }
 },
 "nbformat": 4,
 "nbformat_minor": 5
}
